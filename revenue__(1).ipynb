{
  "cells": [
    {
      "cell_type": "code",
      "execution_count": 1,
      "metadata": {
        "id": "E4ykXqV9-SfS"
      },
      "outputs": [],
      "source": [
        "from bs4 import BeautifulSoup\n",
        "import requests\n",
        "import pandas as pd\n",
        "import numpy as np\n",
        "import random\n",
        "import matplotlib.pyplot as plt\n",
        "from statsmodels. tsa.stattools import adfuller\n",
        "from statsmodels.tsa.holtwinters import ExponentialSmoothing\n",
        "from statsmodels.tsa.arima.model import ARIMA"
      ]
    },
    {
      "cell_type": "code",
      "execution_count": 2,
      "metadata": {
        "colab": {
          "base_uri": "https://localhost:8080/"
        },
        "id": "hn8DpLIpJZ9g",
        "outputId": "ee760f02-cc74-4e98-a60d-a7c09dcd5fa5"
      },
      "outputs": [
        {
          "output_type": "stream",
          "name": "stdout",
          "text": [
            "['6,4 млрд ₽', '7,9 млрд ₽', '12,8 млрд ₽', '20,6 млрд ₽', '26,6 млрд ₽', '22,8 млрд ₽', '19,3 млрд ₽', '22,5 млрд ₽', '22,9 млрд ₽']\n"
          ]
        }
      ],
      "source": [
        "urls = [\n",
        "    ('https://excheck.pro/company/5001026970/finances?type=results&year=2013'),\n",
        "    ('https://excheck.pro/company/5001026970/finances?type=results&year=2014'),\n",
        "    (\"https://excheck.pro/company/5001026970/finances?type=results&year=2015\"),\n",
        "    (\"https://excheck.pro/company/5001026970/finances?type=results&year=2016\"),\n",
        "    (\"https://excheck.pro/company/5001026970/finances?type=results&year=2017\"),\n",
        "    (\"https://excheck.pro/company/5001026970/finances?type=results&year=2018\"),\n",
        "    (\"https://excheck.pro/company/5001026970/finances?type=results&year=2019\"),\n",
        "    (\"https://excheck.pro/company/5001026970/finances?type=results&year=2020\"),\n",
        "    (\"https://excheck.pro/company/5001026970/finances?type=results&year=2021\")\n",
        "]\n",
        "\n",
        "info = []\n",
        "\n",
        "for url in urls:\n",
        "    responce = requests.get(url)\n",
        "    soup = BeautifulSoup(responce.text, \"lxml\")\n",
        "    s = soup.find(\"span\", class_ =\"accounting-value\")\n",
        "    s.text\n",
        "    info += s\n",
        "print(info)"
      ]
    },
    {
      "cell_type": "code",
      "execution_count": 3,
      "metadata": {
        "colab": {
          "base_uri": "https://localhost:8080/",
          "height": 331
        },
        "id": "DCkKsp5CEWZo",
        "outputId": "861bb1fd-2f11-44c1-a457-eb3fcc3fdefe"
      },
      "outputs": [
        {
          "output_type": "execute_result",
          "data": {
            "text/plain": [
              "   year      revenue\n",
              "0  2013   6,4 млрд ₽\n",
              "1  2014   7,9 млрд ₽\n",
              "2  2015  12,8 млрд ₽\n",
              "3  2016  20,6 млрд ₽\n",
              "4  2017  26,6 млрд ₽\n",
              "5  2018  22,8 млрд ₽\n",
              "6  2019  19,3 млрд ₽\n",
              "7  2020  22,5 млрд ₽\n",
              "8  2021  22,9 млрд ₽"
            ],
            "text/html": [
              "\n",
              "  <div id=\"df-6b62e75f-5f10-4533-8031-ec643b447500\">\n",
              "    <div class=\"colab-df-container\">\n",
              "      <div>\n",
              "<style scoped>\n",
              "    .dataframe tbody tr th:only-of-type {\n",
              "        vertical-align: middle;\n",
              "    }\n",
              "\n",
              "    .dataframe tbody tr th {\n",
              "        vertical-align: top;\n",
              "    }\n",
              "\n",
              "    .dataframe thead th {\n",
              "        text-align: right;\n",
              "    }\n",
              "</style>\n",
              "<table border=\"1\" class=\"dataframe\">\n",
              "  <thead>\n",
              "    <tr style=\"text-align: right;\">\n",
              "      <th></th>\n",
              "      <th>year</th>\n",
              "      <th>revenue</th>\n",
              "    </tr>\n",
              "  </thead>\n",
              "  <tbody>\n",
              "    <tr>\n",
              "      <th>0</th>\n",
              "      <td>2013</td>\n",
              "      <td>6,4 млрд ₽</td>\n",
              "    </tr>\n",
              "    <tr>\n",
              "      <th>1</th>\n",
              "      <td>2014</td>\n",
              "      <td>7,9 млрд ₽</td>\n",
              "    </tr>\n",
              "    <tr>\n",
              "      <th>2</th>\n",
              "      <td>2015</td>\n",
              "      <td>12,8 млрд ₽</td>\n",
              "    </tr>\n",
              "    <tr>\n",
              "      <th>3</th>\n",
              "      <td>2016</td>\n",
              "      <td>20,6 млрд ₽</td>\n",
              "    </tr>\n",
              "    <tr>\n",
              "      <th>4</th>\n",
              "      <td>2017</td>\n",
              "      <td>26,6 млрд ₽</td>\n",
              "    </tr>\n",
              "    <tr>\n",
              "      <th>5</th>\n",
              "      <td>2018</td>\n",
              "      <td>22,8 млрд ₽</td>\n",
              "    </tr>\n",
              "    <tr>\n",
              "      <th>6</th>\n",
              "      <td>2019</td>\n",
              "      <td>19,3 млрд ₽</td>\n",
              "    </tr>\n",
              "    <tr>\n",
              "      <th>7</th>\n",
              "      <td>2020</td>\n",
              "      <td>22,5 млрд ₽</td>\n",
              "    </tr>\n",
              "    <tr>\n",
              "      <th>8</th>\n",
              "      <td>2021</td>\n",
              "      <td>22,9 млрд ₽</td>\n",
              "    </tr>\n",
              "  </tbody>\n",
              "</table>\n",
              "</div>\n",
              "      <button class=\"colab-df-convert\" onclick=\"convertToInteractive('df-6b62e75f-5f10-4533-8031-ec643b447500')\"\n",
              "              title=\"Convert this dataframe to an interactive table.\"\n",
              "              style=\"display:none;\">\n",
              "        \n",
              "  <svg xmlns=\"http://www.w3.org/2000/svg\" height=\"24px\"viewBox=\"0 0 24 24\"\n",
              "       width=\"24px\">\n",
              "    <path d=\"M0 0h24v24H0V0z\" fill=\"none\"/>\n",
              "    <path d=\"M18.56 5.44l.94 2.06.94-2.06 2.06-.94-2.06-.94-.94-2.06-.94 2.06-2.06.94zm-11 1L8.5 8.5l.94-2.06 2.06-.94-2.06-.94L8.5 2.5l-.94 2.06-2.06.94zm10 10l.94 2.06.94-2.06 2.06-.94-2.06-.94-.94-2.06-.94 2.06-2.06.94z\"/><path d=\"M17.41 7.96l-1.37-1.37c-.4-.4-.92-.59-1.43-.59-.52 0-1.04.2-1.43.59L10.3 9.45l-7.72 7.72c-.78.78-.78 2.05 0 2.83L4 21.41c.39.39.9.59 1.41.59.51 0 1.02-.2 1.41-.59l7.78-7.78 2.81-2.81c.8-.78.8-2.07 0-2.86zM5.41 20L4 18.59l7.72-7.72 1.47 1.35L5.41 20z\"/>\n",
              "  </svg>\n",
              "      </button>\n",
              "      \n",
              "  <style>\n",
              "    .colab-df-container {\n",
              "      display:flex;\n",
              "      flex-wrap:wrap;\n",
              "      gap: 12px;\n",
              "    }\n",
              "\n",
              "    .colab-df-convert {\n",
              "      background-color: #E8F0FE;\n",
              "      border: none;\n",
              "      border-radius: 50%;\n",
              "      cursor: pointer;\n",
              "      display: none;\n",
              "      fill: #1967D2;\n",
              "      height: 32px;\n",
              "      padding: 0 0 0 0;\n",
              "      width: 32px;\n",
              "    }\n",
              "\n",
              "    .colab-df-convert:hover {\n",
              "      background-color: #E2EBFA;\n",
              "      box-shadow: 0px 1px 2px rgba(60, 64, 67, 0.3), 0px 1px 3px 1px rgba(60, 64, 67, 0.15);\n",
              "      fill: #174EA6;\n",
              "    }\n",
              "\n",
              "    [theme=dark] .colab-df-convert {\n",
              "      background-color: #3B4455;\n",
              "      fill: #D2E3FC;\n",
              "    }\n",
              "\n",
              "    [theme=dark] .colab-df-convert:hover {\n",
              "      background-color: #434B5C;\n",
              "      box-shadow: 0px 1px 3px 1px rgba(0, 0, 0, 0.15);\n",
              "      filter: drop-shadow(0px 1px 2px rgba(0, 0, 0, 0.3));\n",
              "      fill: #FFFFFF;\n",
              "    }\n",
              "  </style>\n",
              "\n",
              "      <script>\n",
              "        const buttonEl =\n",
              "          document.querySelector('#df-6b62e75f-5f10-4533-8031-ec643b447500 button.colab-df-convert');\n",
              "        buttonEl.style.display =\n",
              "          google.colab.kernel.accessAllowed ? 'block' : 'none';\n",
              "\n",
              "        async function convertToInteractive(key) {\n",
              "          const element = document.querySelector('#df-6b62e75f-5f10-4533-8031-ec643b447500');\n",
              "          const dataTable =\n",
              "            await google.colab.kernel.invokeFunction('convertToInteractive',\n",
              "                                                     [key], {});\n",
              "          if (!dataTable) return;\n",
              "\n",
              "          const docLinkHtml = 'Like what you see? Visit the ' +\n",
              "            '<a target=\"_blank\" href=https://colab.research.google.com/notebooks/data_table.ipynb>data table notebook</a>'\n",
              "            + ' to learn more about interactive tables.';\n",
              "          element.innerHTML = '';\n",
              "          dataTable['output_type'] = 'display_data';\n",
              "          await google.colab.output.renderOutput(dataTable, element);\n",
              "          const docLink = document.createElement('div');\n",
              "          docLink.innerHTML = docLinkHtml;\n",
              "          element.appendChild(docLink);\n",
              "        }\n",
              "      </script>\n",
              "    </div>\n",
              "  </div>\n",
              "  "
            ]
          },
          "metadata": {},
          "execution_count": 3
        }
      ],
      "source": [
        "df = pd.DataFrame({\n",
        "  \"year\" : ['2013', '2014', '2015', '2016', '2017', '2018', '2019', '2020', '2021'],\n",
        "  'revenue': info})\n",
        "df"
      ]
    },
    {
      "cell_type": "code",
      "execution_count": 4,
      "metadata": {
        "colab": {
          "base_uri": "https://localhost:8080/",
          "height": 368
        },
        "id": "pW4xodY_Fpn_",
        "outputId": "e7140678-e4cc-42cf-9813-813cd823c8bb"
      },
      "outputs": [
        {
          "output_type": "stream",
          "name": "stderr",
          "text": [
            "<ipython-input-4-181291cc6f3f>:1: FutureWarning: The default value of regex will change from True to False in a future version.\n",
            "  df['revenue'] = pd.to_numeric(df['revenue'].str.replace('\\D', ''), errors='coerce')\n"
          ]
        },
        {
          "output_type": "execute_result",
          "data": {
            "text/plain": [
              "   year  revenue\n",
              "0  2013       64\n",
              "1  2014       79\n",
              "2  2015      128\n",
              "3  2016      206\n",
              "4  2017      266\n",
              "5  2018      228\n",
              "6  2019      193\n",
              "7  2020      225\n",
              "8  2021      229"
            ],
            "text/html": [
              "\n",
              "  <div id=\"df-7974a9d7-8792-45e5-ad10-f65514821793\">\n",
              "    <div class=\"colab-df-container\">\n",
              "      <div>\n",
              "<style scoped>\n",
              "    .dataframe tbody tr th:only-of-type {\n",
              "        vertical-align: middle;\n",
              "    }\n",
              "\n",
              "    .dataframe tbody tr th {\n",
              "        vertical-align: top;\n",
              "    }\n",
              "\n",
              "    .dataframe thead th {\n",
              "        text-align: right;\n",
              "    }\n",
              "</style>\n",
              "<table border=\"1\" class=\"dataframe\">\n",
              "  <thead>\n",
              "    <tr style=\"text-align: right;\">\n",
              "      <th></th>\n",
              "      <th>year</th>\n",
              "      <th>revenue</th>\n",
              "    </tr>\n",
              "  </thead>\n",
              "  <tbody>\n",
              "    <tr>\n",
              "      <th>0</th>\n",
              "      <td>2013</td>\n",
              "      <td>64</td>\n",
              "    </tr>\n",
              "    <tr>\n",
              "      <th>1</th>\n",
              "      <td>2014</td>\n",
              "      <td>79</td>\n",
              "    </tr>\n",
              "    <tr>\n",
              "      <th>2</th>\n",
              "      <td>2015</td>\n",
              "      <td>128</td>\n",
              "    </tr>\n",
              "    <tr>\n",
              "      <th>3</th>\n",
              "      <td>2016</td>\n",
              "      <td>206</td>\n",
              "    </tr>\n",
              "    <tr>\n",
              "      <th>4</th>\n",
              "      <td>2017</td>\n",
              "      <td>266</td>\n",
              "    </tr>\n",
              "    <tr>\n",
              "      <th>5</th>\n",
              "      <td>2018</td>\n",
              "      <td>228</td>\n",
              "    </tr>\n",
              "    <tr>\n",
              "      <th>6</th>\n",
              "      <td>2019</td>\n",
              "      <td>193</td>\n",
              "    </tr>\n",
              "    <tr>\n",
              "      <th>7</th>\n",
              "      <td>2020</td>\n",
              "      <td>225</td>\n",
              "    </tr>\n",
              "    <tr>\n",
              "      <th>8</th>\n",
              "      <td>2021</td>\n",
              "      <td>229</td>\n",
              "    </tr>\n",
              "  </tbody>\n",
              "</table>\n",
              "</div>\n",
              "      <button class=\"colab-df-convert\" onclick=\"convertToInteractive('df-7974a9d7-8792-45e5-ad10-f65514821793')\"\n",
              "              title=\"Convert this dataframe to an interactive table.\"\n",
              "              style=\"display:none;\">\n",
              "        \n",
              "  <svg xmlns=\"http://www.w3.org/2000/svg\" height=\"24px\"viewBox=\"0 0 24 24\"\n",
              "       width=\"24px\">\n",
              "    <path d=\"M0 0h24v24H0V0z\" fill=\"none\"/>\n",
              "    <path d=\"M18.56 5.44l.94 2.06.94-2.06 2.06-.94-2.06-.94-.94-2.06-.94 2.06-2.06.94zm-11 1L8.5 8.5l.94-2.06 2.06-.94-2.06-.94L8.5 2.5l-.94 2.06-2.06.94zm10 10l.94 2.06.94-2.06 2.06-.94-2.06-.94-.94-2.06-.94 2.06-2.06.94z\"/><path d=\"M17.41 7.96l-1.37-1.37c-.4-.4-.92-.59-1.43-.59-.52 0-1.04.2-1.43.59L10.3 9.45l-7.72 7.72c-.78.78-.78 2.05 0 2.83L4 21.41c.39.39.9.59 1.41.59.51 0 1.02-.2 1.41-.59l7.78-7.78 2.81-2.81c.8-.78.8-2.07 0-2.86zM5.41 20L4 18.59l7.72-7.72 1.47 1.35L5.41 20z\"/>\n",
              "  </svg>\n",
              "      </button>\n",
              "      \n",
              "  <style>\n",
              "    .colab-df-container {\n",
              "      display:flex;\n",
              "      flex-wrap:wrap;\n",
              "      gap: 12px;\n",
              "    }\n",
              "\n",
              "    .colab-df-convert {\n",
              "      background-color: #E8F0FE;\n",
              "      border: none;\n",
              "      border-radius: 50%;\n",
              "      cursor: pointer;\n",
              "      display: none;\n",
              "      fill: #1967D2;\n",
              "      height: 32px;\n",
              "      padding: 0 0 0 0;\n",
              "      width: 32px;\n",
              "    }\n",
              "\n",
              "    .colab-df-convert:hover {\n",
              "      background-color: #E2EBFA;\n",
              "      box-shadow: 0px 1px 2px rgba(60, 64, 67, 0.3), 0px 1px 3px 1px rgba(60, 64, 67, 0.15);\n",
              "      fill: #174EA6;\n",
              "    }\n",
              "\n",
              "    [theme=dark] .colab-df-convert {\n",
              "      background-color: #3B4455;\n",
              "      fill: #D2E3FC;\n",
              "    }\n",
              "\n",
              "    [theme=dark] .colab-df-convert:hover {\n",
              "      background-color: #434B5C;\n",
              "      box-shadow: 0px 1px 3px 1px rgba(0, 0, 0, 0.15);\n",
              "      filter: drop-shadow(0px 1px 2px rgba(0, 0, 0, 0.3));\n",
              "      fill: #FFFFFF;\n",
              "    }\n",
              "  </style>\n",
              "\n",
              "      <script>\n",
              "        const buttonEl =\n",
              "          document.querySelector('#df-7974a9d7-8792-45e5-ad10-f65514821793 button.colab-df-convert');\n",
              "        buttonEl.style.display =\n",
              "          google.colab.kernel.accessAllowed ? 'block' : 'none';\n",
              "\n",
              "        async function convertToInteractive(key) {\n",
              "          const element = document.querySelector('#df-7974a9d7-8792-45e5-ad10-f65514821793');\n",
              "          const dataTable =\n",
              "            await google.colab.kernel.invokeFunction('convertToInteractive',\n",
              "                                                     [key], {});\n",
              "          if (!dataTable) return;\n",
              "\n",
              "          const docLinkHtml = 'Like what you see? Visit the ' +\n",
              "            '<a target=\"_blank\" href=https://colab.research.google.com/notebooks/data_table.ipynb>data table notebook</a>'\n",
              "            + ' to learn more about interactive tables.';\n",
              "          element.innerHTML = '';\n",
              "          dataTable['output_type'] = 'display_data';\n",
              "          await google.colab.output.renderOutput(dataTable, element);\n",
              "          const docLink = document.createElement('div');\n",
              "          docLink.innerHTML = docLinkHtml;\n",
              "          element.appendChild(docLink);\n",
              "        }\n",
              "      </script>\n",
              "    </div>\n",
              "  </div>\n",
              "  "
            ]
          },
          "metadata": {},
          "execution_count": 4
        }
      ],
      "source": [
        "df['revenue'] = pd.to_numeric(df['revenue'].str.replace('\\D', ''), errors='coerce')\n",
        "df"
      ]
    },
    {
      "cell_type": "code",
      "execution_count": 5,
      "metadata": {
        "colab": {
          "base_uri": "https://localhost:8080/",
          "height": 331
        },
        "id": "HRH395DNHF7h",
        "outputId": "9f68ce5f-f56d-4371-c895-39f615b70df0"
      },
      "outputs": [
        {
          "output_type": "execute_result",
          "data": {
            "text/plain": [
              "   year          revenue\n",
              "0  2013   64000000000000\n",
              "1  2014   79000000000000\n",
              "2  2015  128000000000000\n",
              "3  2016  206000000000000\n",
              "4  2017  266000000000000\n",
              "5  2018  228000000000000\n",
              "6  2019  193000000000000\n",
              "7  2020  225000000000000\n",
              "8  2021  229000000000000"
            ],
            "text/html": [
              "\n",
              "  <div id=\"df-4e1d24e7-d0a2-4fb6-97ad-3896b528d68e\">\n",
              "    <div class=\"colab-df-container\">\n",
              "      <div>\n",
              "<style scoped>\n",
              "    .dataframe tbody tr th:only-of-type {\n",
              "        vertical-align: middle;\n",
              "    }\n",
              "\n",
              "    .dataframe tbody tr th {\n",
              "        vertical-align: top;\n",
              "    }\n",
              "\n",
              "    .dataframe thead th {\n",
              "        text-align: right;\n",
              "    }\n",
              "</style>\n",
              "<table border=\"1\" class=\"dataframe\">\n",
              "  <thead>\n",
              "    <tr style=\"text-align: right;\">\n",
              "      <th></th>\n",
              "      <th>year</th>\n",
              "      <th>revenue</th>\n",
              "    </tr>\n",
              "  </thead>\n",
              "  <tbody>\n",
              "    <tr>\n",
              "      <th>0</th>\n",
              "      <td>2013</td>\n",
              "      <td>64000000000000</td>\n",
              "    </tr>\n",
              "    <tr>\n",
              "      <th>1</th>\n",
              "      <td>2014</td>\n",
              "      <td>79000000000000</td>\n",
              "    </tr>\n",
              "    <tr>\n",
              "      <th>2</th>\n",
              "      <td>2015</td>\n",
              "      <td>128000000000000</td>\n",
              "    </tr>\n",
              "    <tr>\n",
              "      <th>3</th>\n",
              "      <td>2016</td>\n",
              "      <td>206000000000000</td>\n",
              "    </tr>\n",
              "    <tr>\n",
              "      <th>4</th>\n",
              "      <td>2017</td>\n",
              "      <td>266000000000000</td>\n",
              "    </tr>\n",
              "    <tr>\n",
              "      <th>5</th>\n",
              "      <td>2018</td>\n",
              "      <td>228000000000000</td>\n",
              "    </tr>\n",
              "    <tr>\n",
              "      <th>6</th>\n",
              "      <td>2019</td>\n",
              "      <td>193000000000000</td>\n",
              "    </tr>\n",
              "    <tr>\n",
              "      <th>7</th>\n",
              "      <td>2020</td>\n",
              "      <td>225000000000000</td>\n",
              "    </tr>\n",
              "    <tr>\n",
              "      <th>8</th>\n",
              "      <td>2021</td>\n",
              "      <td>229000000000000</td>\n",
              "    </tr>\n",
              "  </tbody>\n",
              "</table>\n",
              "</div>\n",
              "      <button class=\"colab-df-convert\" onclick=\"convertToInteractive('df-4e1d24e7-d0a2-4fb6-97ad-3896b528d68e')\"\n",
              "              title=\"Convert this dataframe to an interactive table.\"\n",
              "              style=\"display:none;\">\n",
              "        \n",
              "  <svg xmlns=\"http://www.w3.org/2000/svg\" height=\"24px\"viewBox=\"0 0 24 24\"\n",
              "       width=\"24px\">\n",
              "    <path d=\"M0 0h24v24H0V0z\" fill=\"none\"/>\n",
              "    <path d=\"M18.56 5.44l.94 2.06.94-2.06 2.06-.94-2.06-.94-.94-2.06-.94 2.06-2.06.94zm-11 1L8.5 8.5l.94-2.06 2.06-.94-2.06-.94L8.5 2.5l-.94 2.06-2.06.94zm10 10l.94 2.06.94-2.06 2.06-.94-2.06-.94-.94-2.06-.94 2.06-2.06.94z\"/><path d=\"M17.41 7.96l-1.37-1.37c-.4-.4-.92-.59-1.43-.59-.52 0-1.04.2-1.43.59L10.3 9.45l-7.72 7.72c-.78.78-.78 2.05 0 2.83L4 21.41c.39.39.9.59 1.41.59.51 0 1.02-.2 1.41-.59l7.78-7.78 2.81-2.81c.8-.78.8-2.07 0-2.86zM5.41 20L4 18.59l7.72-7.72 1.47 1.35L5.41 20z\"/>\n",
              "  </svg>\n",
              "      </button>\n",
              "      \n",
              "  <style>\n",
              "    .colab-df-container {\n",
              "      display:flex;\n",
              "      flex-wrap:wrap;\n",
              "      gap: 12px;\n",
              "    }\n",
              "\n",
              "    .colab-df-convert {\n",
              "      background-color: #E8F0FE;\n",
              "      border: none;\n",
              "      border-radius: 50%;\n",
              "      cursor: pointer;\n",
              "      display: none;\n",
              "      fill: #1967D2;\n",
              "      height: 32px;\n",
              "      padding: 0 0 0 0;\n",
              "      width: 32px;\n",
              "    }\n",
              "\n",
              "    .colab-df-convert:hover {\n",
              "      background-color: #E2EBFA;\n",
              "      box-shadow: 0px 1px 2px rgba(60, 64, 67, 0.3), 0px 1px 3px 1px rgba(60, 64, 67, 0.15);\n",
              "      fill: #174EA6;\n",
              "    }\n",
              "\n",
              "    [theme=dark] .colab-df-convert {\n",
              "      background-color: #3B4455;\n",
              "      fill: #D2E3FC;\n",
              "    }\n",
              "\n",
              "    [theme=dark] .colab-df-convert:hover {\n",
              "      background-color: #434B5C;\n",
              "      box-shadow: 0px 1px 3px 1px rgba(0, 0, 0, 0.15);\n",
              "      filter: drop-shadow(0px 1px 2px rgba(0, 0, 0, 0.3));\n",
              "      fill: #FFFFFF;\n",
              "    }\n",
              "  </style>\n",
              "\n",
              "      <script>\n",
              "        const buttonEl =\n",
              "          document.querySelector('#df-4e1d24e7-d0a2-4fb6-97ad-3896b528d68e button.colab-df-convert');\n",
              "        buttonEl.style.display =\n",
              "          google.colab.kernel.accessAllowed ? 'block' : 'none';\n",
              "\n",
              "        async function convertToInteractive(key) {\n",
              "          const element = document.querySelector('#df-4e1d24e7-d0a2-4fb6-97ad-3896b528d68e');\n",
              "          const dataTable =\n",
              "            await google.colab.kernel.invokeFunction('convertToInteractive',\n",
              "                                                     [key], {});\n",
              "          if (!dataTable) return;\n",
              "\n",
              "          const docLinkHtml = 'Like what you see? Visit the ' +\n",
              "            '<a target=\"_blank\" href=https://colab.research.google.com/notebooks/data_table.ipynb>data table notebook</a>'\n",
              "            + ' to learn more about interactive tables.';\n",
              "          element.innerHTML = '';\n",
              "          dataTable['output_type'] = 'display_data';\n",
              "          await google.colab.output.renderOutput(dataTable, element);\n",
              "          const docLink = document.createElement('div');\n",
              "          docLink.innerHTML = docLinkHtml;\n",
              "          element.appendChild(docLink);\n",
              "        }\n",
              "      </script>\n",
              "    </div>\n",
              "  </div>\n",
              "  "
            ]
          },
          "metadata": {},
          "execution_count": 5
        }
      ],
      "source": [
        "df['revenue'] = df['revenue'].apply(lambda x: x * 1000000000000)\n",
        "df"
      ]
    },
    {
      "cell_type": "code",
      "execution_count": 6,
      "metadata": {
        "colab": {
          "base_uri": "https://localhost:8080/",
          "height": 460
        },
        "id": "fzzd5eUNoBr9",
        "outputId": "16cf2c10-d967-4d71-f4ed-24c4ae91f795"
      },
      "outputs": [
        {
          "output_type": "stream",
          "name": "stderr",
          "text": [
            "<ipython-input-6-b3e6ad409849>:1: UserWarning: Parsing dates in DD/MM/YYYY format when dayfirst=False (the default) was specified. This may lead to inconsistently parsed dates! Specify a format to ensure consistent parsing.\n",
            "  df1 = pd.date_range(start='31/12/2012', end = '31/12/2021', freq='W')\n"
          ]
        },
        {
          "output_type": "execute_result",
          "data": {
            "text/plain": [
              "             0\n",
              "0   2013-01-06\n",
              "1   2013-01-13\n",
              "2   2013-01-20\n",
              "3   2013-01-27\n",
              "4   2013-02-03\n",
              "..         ...\n",
              "464 2021-11-28\n",
              "465 2021-12-05\n",
              "466 2021-12-12\n",
              "467 2021-12-19\n",
              "468 2021-12-26\n",
              "\n",
              "[469 rows x 1 columns]"
            ],
            "text/html": [
              "\n",
              "  <div id=\"df-ec430978-4132-4090-93db-450e16d8ba7e\">\n",
              "    <div class=\"colab-df-container\">\n",
              "      <div>\n",
              "<style scoped>\n",
              "    .dataframe tbody tr th:only-of-type {\n",
              "        vertical-align: middle;\n",
              "    }\n",
              "\n",
              "    .dataframe tbody tr th {\n",
              "        vertical-align: top;\n",
              "    }\n",
              "\n",
              "    .dataframe thead th {\n",
              "        text-align: right;\n",
              "    }\n",
              "</style>\n",
              "<table border=\"1\" class=\"dataframe\">\n",
              "  <thead>\n",
              "    <tr style=\"text-align: right;\">\n",
              "      <th></th>\n",
              "      <th>0</th>\n",
              "    </tr>\n",
              "  </thead>\n",
              "  <tbody>\n",
              "    <tr>\n",
              "      <th>0</th>\n",
              "      <td>2013-01-06</td>\n",
              "    </tr>\n",
              "    <tr>\n",
              "      <th>1</th>\n",
              "      <td>2013-01-13</td>\n",
              "    </tr>\n",
              "    <tr>\n",
              "      <th>2</th>\n",
              "      <td>2013-01-20</td>\n",
              "    </tr>\n",
              "    <tr>\n",
              "      <th>3</th>\n",
              "      <td>2013-01-27</td>\n",
              "    </tr>\n",
              "    <tr>\n",
              "      <th>4</th>\n",
              "      <td>2013-02-03</td>\n",
              "    </tr>\n",
              "    <tr>\n",
              "      <th>...</th>\n",
              "      <td>...</td>\n",
              "    </tr>\n",
              "    <tr>\n",
              "      <th>464</th>\n",
              "      <td>2021-11-28</td>\n",
              "    </tr>\n",
              "    <tr>\n",
              "      <th>465</th>\n",
              "      <td>2021-12-05</td>\n",
              "    </tr>\n",
              "    <tr>\n",
              "      <th>466</th>\n",
              "      <td>2021-12-12</td>\n",
              "    </tr>\n",
              "    <tr>\n",
              "      <th>467</th>\n",
              "      <td>2021-12-19</td>\n",
              "    </tr>\n",
              "    <tr>\n",
              "      <th>468</th>\n",
              "      <td>2021-12-26</td>\n",
              "    </tr>\n",
              "  </tbody>\n",
              "</table>\n",
              "<p>469 rows × 1 columns</p>\n",
              "</div>\n",
              "      <button class=\"colab-df-convert\" onclick=\"convertToInteractive('df-ec430978-4132-4090-93db-450e16d8ba7e')\"\n",
              "              title=\"Convert this dataframe to an interactive table.\"\n",
              "              style=\"display:none;\">\n",
              "        \n",
              "  <svg xmlns=\"http://www.w3.org/2000/svg\" height=\"24px\"viewBox=\"0 0 24 24\"\n",
              "       width=\"24px\">\n",
              "    <path d=\"M0 0h24v24H0V0z\" fill=\"none\"/>\n",
              "    <path d=\"M18.56 5.44l.94 2.06.94-2.06 2.06-.94-2.06-.94-.94-2.06-.94 2.06-2.06.94zm-11 1L8.5 8.5l.94-2.06 2.06-.94-2.06-.94L8.5 2.5l-.94 2.06-2.06.94zm10 10l.94 2.06.94-2.06 2.06-.94-2.06-.94-.94-2.06-.94 2.06-2.06.94z\"/><path d=\"M17.41 7.96l-1.37-1.37c-.4-.4-.92-.59-1.43-.59-.52 0-1.04.2-1.43.59L10.3 9.45l-7.72 7.72c-.78.78-.78 2.05 0 2.83L4 21.41c.39.39.9.59 1.41.59.51 0 1.02-.2 1.41-.59l7.78-7.78 2.81-2.81c.8-.78.8-2.07 0-2.86zM5.41 20L4 18.59l7.72-7.72 1.47 1.35L5.41 20z\"/>\n",
              "  </svg>\n",
              "      </button>\n",
              "      \n",
              "  <style>\n",
              "    .colab-df-container {\n",
              "      display:flex;\n",
              "      flex-wrap:wrap;\n",
              "      gap: 12px;\n",
              "    }\n",
              "\n",
              "    .colab-df-convert {\n",
              "      background-color: #E8F0FE;\n",
              "      border: none;\n",
              "      border-radius: 50%;\n",
              "      cursor: pointer;\n",
              "      display: none;\n",
              "      fill: #1967D2;\n",
              "      height: 32px;\n",
              "      padding: 0 0 0 0;\n",
              "      width: 32px;\n",
              "    }\n",
              "\n",
              "    .colab-df-convert:hover {\n",
              "      background-color: #E2EBFA;\n",
              "      box-shadow: 0px 1px 2px rgba(60, 64, 67, 0.3), 0px 1px 3px 1px rgba(60, 64, 67, 0.15);\n",
              "      fill: #174EA6;\n",
              "    }\n",
              "\n",
              "    [theme=dark] .colab-df-convert {\n",
              "      background-color: #3B4455;\n",
              "      fill: #D2E3FC;\n",
              "    }\n",
              "\n",
              "    [theme=dark] .colab-df-convert:hover {\n",
              "      background-color: #434B5C;\n",
              "      box-shadow: 0px 1px 3px 1px rgba(0, 0, 0, 0.15);\n",
              "      filter: drop-shadow(0px 1px 2px rgba(0, 0, 0, 0.3));\n",
              "      fill: #FFFFFF;\n",
              "    }\n",
              "  </style>\n",
              "\n",
              "      <script>\n",
              "        const buttonEl =\n",
              "          document.querySelector('#df-ec430978-4132-4090-93db-450e16d8ba7e button.colab-df-convert');\n",
              "        buttonEl.style.display =\n",
              "          google.colab.kernel.accessAllowed ? 'block' : 'none';\n",
              "\n",
              "        async function convertToInteractive(key) {\n",
              "          const element = document.querySelector('#df-ec430978-4132-4090-93db-450e16d8ba7e');\n",
              "          const dataTable =\n",
              "            await google.colab.kernel.invokeFunction('convertToInteractive',\n",
              "                                                     [key], {});\n",
              "          if (!dataTable) return;\n",
              "\n",
              "          const docLinkHtml = 'Like what you see? Visit the ' +\n",
              "            '<a target=\"_blank\" href=https://colab.research.google.com/notebooks/data_table.ipynb>data table notebook</a>'\n",
              "            + ' to learn more about interactive tables.';\n",
              "          element.innerHTML = '';\n",
              "          dataTable['output_type'] = 'display_data';\n",
              "          await google.colab.output.renderOutput(dataTable, element);\n",
              "          const docLink = document.createElement('div');\n",
              "          docLink.innerHTML = docLinkHtml;\n",
              "          element.appendChild(docLink);\n",
              "        }\n",
              "      </script>\n",
              "    </div>\n",
              "  </div>\n",
              "  "
            ]
          },
          "metadata": {},
          "execution_count": 6
        }
      ],
      "source": [
        "df1 = pd.date_range(start='31/12/2012', end = '31/12/2021', freq='W')\n",
        "df1 = pd.DataFrame(df1)\n",
        "df1"
      ]
    },
    {
      "cell_type": "code",
      "execution_count": 7,
      "metadata": {
        "colab": {
          "base_uri": "https://localhost:8080/",
          "height": 423
        },
        "id": "vSx5-Zn0uwlH",
        "outputId": "a72c7feb-db98-4297-f2bf-047bc8ceaf66"
      },
      "outputs": [
        {
          "output_type": "execute_result",
          "data": {
            "text/plain": [
              "         weaks\n",
              "0   2013-01-06\n",
              "1   2013-01-13\n",
              "2   2013-01-20\n",
              "3   2013-01-27\n",
              "4   2013-02-03\n",
              "..         ...\n",
              "464 2021-11-28\n",
              "465 2021-12-05\n",
              "466 2021-12-12\n",
              "467 2021-12-19\n",
              "468 2021-12-26\n",
              "\n",
              "[469 rows x 1 columns]"
            ],
            "text/html": [
              "\n",
              "  <div id=\"df-773c0b3c-c759-4522-97dc-da39b75ea254\">\n",
              "    <div class=\"colab-df-container\">\n",
              "      <div>\n",
              "<style scoped>\n",
              "    .dataframe tbody tr th:only-of-type {\n",
              "        vertical-align: middle;\n",
              "    }\n",
              "\n",
              "    .dataframe tbody tr th {\n",
              "        vertical-align: top;\n",
              "    }\n",
              "\n",
              "    .dataframe thead th {\n",
              "        text-align: right;\n",
              "    }\n",
              "</style>\n",
              "<table border=\"1\" class=\"dataframe\">\n",
              "  <thead>\n",
              "    <tr style=\"text-align: right;\">\n",
              "      <th></th>\n",
              "      <th>weaks</th>\n",
              "    </tr>\n",
              "  </thead>\n",
              "  <tbody>\n",
              "    <tr>\n",
              "      <th>0</th>\n",
              "      <td>2013-01-06</td>\n",
              "    </tr>\n",
              "    <tr>\n",
              "      <th>1</th>\n",
              "      <td>2013-01-13</td>\n",
              "    </tr>\n",
              "    <tr>\n",
              "      <th>2</th>\n",
              "      <td>2013-01-20</td>\n",
              "    </tr>\n",
              "    <tr>\n",
              "      <th>3</th>\n",
              "      <td>2013-01-27</td>\n",
              "    </tr>\n",
              "    <tr>\n",
              "      <th>4</th>\n",
              "      <td>2013-02-03</td>\n",
              "    </tr>\n",
              "    <tr>\n",
              "      <th>...</th>\n",
              "      <td>...</td>\n",
              "    </tr>\n",
              "    <tr>\n",
              "      <th>464</th>\n",
              "      <td>2021-11-28</td>\n",
              "    </tr>\n",
              "    <tr>\n",
              "      <th>465</th>\n",
              "      <td>2021-12-05</td>\n",
              "    </tr>\n",
              "    <tr>\n",
              "      <th>466</th>\n",
              "      <td>2021-12-12</td>\n",
              "    </tr>\n",
              "    <tr>\n",
              "      <th>467</th>\n",
              "      <td>2021-12-19</td>\n",
              "    </tr>\n",
              "    <tr>\n",
              "      <th>468</th>\n",
              "      <td>2021-12-26</td>\n",
              "    </tr>\n",
              "  </tbody>\n",
              "</table>\n",
              "<p>469 rows × 1 columns</p>\n",
              "</div>\n",
              "      <button class=\"colab-df-convert\" onclick=\"convertToInteractive('df-773c0b3c-c759-4522-97dc-da39b75ea254')\"\n",
              "              title=\"Convert this dataframe to an interactive table.\"\n",
              "              style=\"display:none;\">\n",
              "        \n",
              "  <svg xmlns=\"http://www.w3.org/2000/svg\" height=\"24px\"viewBox=\"0 0 24 24\"\n",
              "       width=\"24px\">\n",
              "    <path d=\"M0 0h24v24H0V0z\" fill=\"none\"/>\n",
              "    <path d=\"M18.56 5.44l.94 2.06.94-2.06 2.06-.94-2.06-.94-.94-2.06-.94 2.06-2.06.94zm-11 1L8.5 8.5l.94-2.06 2.06-.94-2.06-.94L8.5 2.5l-.94 2.06-2.06.94zm10 10l.94 2.06.94-2.06 2.06-.94-2.06-.94-.94-2.06-.94 2.06-2.06.94z\"/><path d=\"M17.41 7.96l-1.37-1.37c-.4-.4-.92-.59-1.43-.59-.52 0-1.04.2-1.43.59L10.3 9.45l-7.72 7.72c-.78.78-.78 2.05 0 2.83L4 21.41c.39.39.9.59 1.41.59.51 0 1.02-.2 1.41-.59l7.78-7.78 2.81-2.81c.8-.78.8-2.07 0-2.86zM5.41 20L4 18.59l7.72-7.72 1.47 1.35L5.41 20z\"/>\n",
              "  </svg>\n",
              "      </button>\n",
              "      \n",
              "  <style>\n",
              "    .colab-df-container {\n",
              "      display:flex;\n",
              "      flex-wrap:wrap;\n",
              "      gap: 12px;\n",
              "    }\n",
              "\n",
              "    .colab-df-convert {\n",
              "      background-color: #E8F0FE;\n",
              "      border: none;\n",
              "      border-radius: 50%;\n",
              "      cursor: pointer;\n",
              "      display: none;\n",
              "      fill: #1967D2;\n",
              "      height: 32px;\n",
              "      padding: 0 0 0 0;\n",
              "      width: 32px;\n",
              "    }\n",
              "\n",
              "    .colab-df-convert:hover {\n",
              "      background-color: #E2EBFA;\n",
              "      box-shadow: 0px 1px 2px rgba(60, 64, 67, 0.3), 0px 1px 3px 1px rgba(60, 64, 67, 0.15);\n",
              "      fill: #174EA6;\n",
              "    }\n",
              "\n",
              "    [theme=dark] .colab-df-convert {\n",
              "      background-color: #3B4455;\n",
              "      fill: #D2E3FC;\n",
              "    }\n",
              "\n",
              "    [theme=dark] .colab-df-convert:hover {\n",
              "      background-color: #434B5C;\n",
              "      box-shadow: 0px 1px 3px 1px rgba(0, 0, 0, 0.15);\n",
              "      filter: drop-shadow(0px 1px 2px rgba(0, 0, 0, 0.3));\n",
              "      fill: #FFFFFF;\n",
              "    }\n",
              "  </style>\n",
              "\n",
              "      <script>\n",
              "        const buttonEl =\n",
              "          document.querySelector('#df-773c0b3c-c759-4522-97dc-da39b75ea254 button.colab-df-convert');\n",
              "        buttonEl.style.display =\n",
              "          google.colab.kernel.accessAllowed ? 'block' : 'none';\n",
              "\n",
              "        async function convertToInteractive(key) {\n",
              "          const element = document.querySelector('#df-773c0b3c-c759-4522-97dc-da39b75ea254');\n",
              "          const dataTable =\n",
              "            await google.colab.kernel.invokeFunction('convertToInteractive',\n",
              "                                                     [key], {});\n",
              "          if (!dataTable) return;\n",
              "\n",
              "          const docLinkHtml = 'Like what you see? Visit the ' +\n",
              "            '<a target=\"_blank\" href=https://colab.research.google.com/notebooks/data_table.ipynb>data table notebook</a>'\n",
              "            + ' to learn more about interactive tables.';\n",
              "          element.innerHTML = '';\n",
              "          dataTable['output_type'] = 'display_data';\n",
              "          await google.colab.output.renderOutput(dataTable, element);\n",
              "          const docLink = document.createElement('div');\n",
              "          docLink.innerHTML = docLinkHtml;\n",
              "          element.appendChild(docLink);\n",
              "        }\n",
              "      </script>\n",
              "    </div>\n",
              "  </div>\n",
              "  "
            ]
          },
          "metadata": {},
          "execution_count": 7
        }
      ],
      "source": [
        "df1.columns = ['weaks'] \n",
        "df1"
      ]
    },
    {
      "cell_type": "code",
      "execution_count": 8,
      "metadata": {
        "colab": {
          "base_uri": "https://localhost:8080/"
        },
        "id": "NDtuECIAx1X-",
        "outputId": "a077a197-f101-4093-9eb8-191ae9bf3bec"
      },
      "outputs": [
        {
          "output_type": "execute_result",
          "data": {
            "text/plain": [
              "[1230769230769,\n",
              " 1519230769231,\n",
              " 2461538461538,\n",
              " 3961538461538,\n",
              " 5115384615385,\n",
              " 4384615384615,\n",
              " 3711538461538,\n",
              " 4326923076923,\n",
              " 4403846153846]"
            ]
          },
          "metadata": {},
          "execution_count": 8
        }
      ],
      "source": [
        "r = []\n",
        "for i in df['revenue']:\n",
        "  r.append(round(i / 52))\n",
        "r"
      ]
    },
    {
      "cell_type": "code",
      "execution_count": 9,
      "metadata": {
        "colab": {
          "base_uri": "https://localhost:8080/",
          "height": 423
        },
        "id": "QC19fUwQLeoG",
        "outputId": "d7549103-a0b4-45ab-aa5d-b47229278bfd"
      },
      "outputs": [
        {
          "output_type": "execute_result",
          "data": {
            "text/plain": [
              "         weaks revenue\n",
              "0   2013-01-06        \n",
              "1   2013-01-13        \n",
              "2   2013-01-20        \n",
              "3   2013-01-27        \n",
              "4   2013-02-03        \n",
              "..         ...     ...\n",
              "464 2021-11-28        \n",
              "465 2021-12-05        \n",
              "466 2021-12-12        \n",
              "467 2021-12-19        \n",
              "468 2021-12-26        \n",
              "\n",
              "[469 rows x 2 columns]"
            ],
            "text/html": [
              "\n",
              "  <div id=\"df-df637429-4264-45f9-bbd7-3aa534b7a7c4\">\n",
              "    <div class=\"colab-df-container\">\n",
              "      <div>\n",
              "<style scoped>\n",
              "    .dataframe tbody tr th:only-of-type {\n",
              "        vertical-align: middle;\n",
              "    }\n",
              "\n",
              "    .dataframe tbody tr th {\n",
              "        vertical-align: top;\n",
              "    }\n",
              "\n",
              "    .dataframe thead th {\n",
              "        text-align: right;\n",
              "    }\n",
              "</style>\n",
              "<table border=\"1\" class=\"dataframe\">\n",
              "  <thead>\n",
              "    <tr style=\"text-align: right;\">\n",
              "      <th></th>\n",
              "      <th>weaks</th>\n",
              "      <th>revenue</th>\n",
              "    </tr>\n",
              "  </thead>\n",
              "  <tbody>\n",
              "    <tr>\n",
              "      <th>0</th>\n",
              "      <td>2013-01-06</td>\n",
              "      <td></td>\n",
              "    </tr>\n",
              "    <tr>\n",
              "      <th>1</th>\n",
              "      <td>2013-01-13</td>\n",
              "      <td></td>\n",
              "    </tr>\n",
              "    <tr>\n",
              "      <th>2</th>\n",
              "      <td>2013-01-20</td>\n",
              "      <td></td>\n",
              "    </tr>\n",
              "    <tr>\n",
              "      <th>3</th>\n",
              "      <td>2013-01-27</td>\n",
              "      <td></td>\n",
              "    </tr>\n",
              "    <tr>\n",
              "      <th>4</th>\n",
              "      <td>2013-02-03</td>\n",
              "      <td></td>\n",
              "    </tr>\n",
              "    <tr>\n",
              "      <th>...</th>\n",
              "      <td>...</td>\n",
              "      <td>...</td>\n",
              "    </tr>\n",
              "    <tr>\n",
              "      <th>464</th>\n",
              "      <td>2021-11-28</td>\n",
              "      <td></td>\n",
              "    </tr>\n",
              "    <tr>\n",
              "      <th>465</th>\n",
              "      <td>2021-12-05</td>\n",
              "      <td></td>\n",
              "    </tr>\n",
              "    <tr>\n",
              "      <th>466</th>\n",
              "      <td>2021-12-12</td>\n",
              "      <td></td>\n",
              "    </tr>\n",
              "    <tr>\n",
              "      <th>467</th>\n",
              "      <td>2021-12-19</td>\n",
              "      <td></td>\n",
              "    </tr>\n",
              "    <tr>\n",
              "      <th>468</th>\n",
              "      <td>2021-12-26</td>\n",
              "      <td></td>\n",
              "    </tr>\n",
              "  </tbody>\n",
              "</table>\n",
              "<p>469 rows × 2 columns</p>\n",
              "</div>\n",
              "      <button class=\"colab-df-convert\" onclick=\"convertToInteractive('df-df637429-4264-45f9-bbd7-3aa534b7a7c4')\"\n",
              "              title=\"Convert this dataframe to an interactive table.\"\n",
              "              style=\"display:none;\">\n",
              "        \n",
              "  <svg xmlns=\"http://www.w3.org/2000/svg\" height=\"24px\"viewBox=\"0 0 24 24\"\n",
              "       width=\"24px\">\n",
              "    <path d=\"M0 0h24v24H0V0z\" fill=\"none\"/>\n",
              "    <path d=\"M18.56 5.44l.94 2.06.94-2.06 2.06-.94-2.06-.94-.94-2.06-.94 2.06-2.06.94zm-11 1L8.5 8.5l.94-2.06 2.06-.94-2.06-.94L8.5 2.5l-.94 2.06-2.06.94zm10 10l.94 2.06.94-2.06 2.06-.94-2.06-.94-.94-2.06-.94 2.06-2.06.94z\"/><path d=\"M17.41 7.96l-1.37-1.37c-.4-.4-.92-.59-1.43-.59-.52 0-1.04.2-1.43.59L10.3 9.45l-7.72 7.72c-.78.78-.78 2.05 0 2.83L4 21.41c.39.39.9.59 1.41.59.51 0 1.02-.2 1.41-.59l7.78-7.78 2.81-2.81c.8-.78.8-2.07 0-2.86zM5.41 20L4 18.59l7.72-7.72 1.47 1.35L5.41 20z\"/>\n",
              "  </svg>\n",
              "      </button>\n",
              "      \n",
              "  <style>\n",
              "    .colab-df-container {\n",
              "      display:flex;\n",
              "      flex-wrap:wrap;\n",
              "      gap: 12px;\n",
              "    }\n",
              "\n",
              "    .colab-df-convert {\n",
              "      background-color: #E8F0FE;\n",
              "      border: none;\n",
              "      border-radius: 50%;\n",
              "      cursor: pointer;\n",
              "      display: none;\n",
              "      fill: #1967D2;\n",
              "      height: 32px;\n",
              "      padding: 0 0 0 0;\n",
              "      width: 32px;\n",
              "    }\n",
              "\n",
              "    .colab-df-convert:hover {\n",
              "      background-color: #E2EBFA;\n",
              "      box-shadow: 0px 1px 2px rgba(60, 64, 67, 0.3), 0px 1px 3px 1px rgba(60, 64, 67, 0.15);\n",
              "      fill: #174EA6;\n",
              "    }\n",
              "\n",
              "    [theme=dark] .colab-df-convert {\n",
              "      background-color: #3B4455;\n",
              "      fill: #D2E3FC;\n",
              "    }\n",
              "\n",
              "    [theme=dark] .colab-df-convert:hover {\n",
              "      background-color: #434B5C;\n",
              "      box-shadow: 0px 1px 3px 1px rgba(0, 0, 0, 0.15);\n",
              "      filter: drop-shadow(0px 1px 2px rgba(0, 0, 0, 0.3));\n",
              "      fill: #FFFFFF;\n",
              "    }\n",
              "  </style>\n",
              "\n",
              "      <script>\n",
              "        const buttonEl =\n",
              "          document.querySelector('#df-df637429-4264-45f9-bbd7-3aa534b7a7c4 button.colab-df-convert');\n",
              "        buttonEl.style.display =\n",
              "          google.colab.kernel.accessAllowed ? 'block' : 'none';\n",
              "\n",
              "        async function convertToInteractive(key) {\n",
              "          const element = document.querySelector('#df-df637429-4264-45f9-bbd7-3aa534b7a7c4');\n",
              "          const dataTable =\n",
              "            await google.colab.kernel.invokeFunction('convertToInteractive',\n",
              "                                                     [key], {});\n",
              "          if (!dataTable) return;\n",
              "\n",
              "          const docLinkHtml = 'Like what you see? Visit the ' +\n",
              "            '<a target=\"_blank\" href=https://colab.research.google.com/notebooks/data_table.ipynb>data table notebook</a>'\n",
              "            + ' to learn more about interactive tables.';\n",
              "          element.innerHTML = '';\n",
              "          dataTable['output_type'] = 'display_data';\n",
              "          await google.colab.output.renderOutput(dataTable, element);\n",
              "          const docLink = document.createElement('div');\n",
              "          docLink.innerHTML = docLinkHtml;\n",
              "          element.appendChild(docLink);\n",
              "        }\n",
              "      </script>\n",
              "    </div>\n",
              "  </div>\n",
              "  "
            ]
          },
          "metadata": {},
          "execution_count": 9
        }
      ],
      "source": [
        "df1['revenue'] = ''\n",
        "df1"
      ]
    },
    {
      "cell_type": "code",
      "execution_count": 10,
      "metadata": {
        "colab": {
          "base_uri": "https://localhost:8080/"
        },
        "id": "hM5rtETN1fAj",
        "outputId": "acb64a97-9826-4787-ca30-c1570329e8bf"
      },
      "outputs": [
        {
          "output_type": "stream",
          "name": "stdout",
          "text": [
            "         weaks        revenue\n",
            "0   2013-01-06  1230769230769\n",
            "1   2013-01-13  1230769230769\n",
            "2   2013-01-20  1230769230769\n",
            "3   2013-01-27  1230769230769\n",
            "4   2013-02-03  1230769230769\n",
            "..         ...            ...\n",
            "464 2021-11-28  4403846153846\n",
            "465 2021-12-05  4403846153846\n",
            "466 2021-12-12  4403846153846\n",
            "467 2021-12-19  4403846153846\n",
            "468 2021-12-26  4403846153846\n",
            "\n",
            "[469 rows x 2 columns]\n"
          ]
        },
        {
          "output_type": "stream",
          "name": "stderr",
          "text": [
            "<ipython-input-10-326eea859190>:1: SettingWithCopyWarning: \n",
            "A value is trying to be set on a copy of a slice from a DataFrame\n",
            "\n",
            "See the caveats in the documentation: https://pandas.pydata.org/pandas-docs/stable/user_guide/indexing.html#returning-a-view-versus-a-copy\n",
            "  df1['revenue'].iloc[:52] = r[0]\n",
            "<ipython-input-10-326eea859190>:2: SettingWithCopyWarning: \n",
            "A value is trying to be set on a copy of a slice from a DataFrame\n",
            "\n",
            "See the caveats in the documentation: https://pandas.pydata.org/pandas-docs/stable/user_guide/indexing.html#returning-a-view-versus-a-copy\n",
            "  df1['revenue'].iloc[52:104] = r[1]\n",
            "<ipython-input-10-326eea859190>:3: SettingWithCopyWarning: \n",
            "A value is trying to be set on a copy of a slice from a DataFrame\n",
            "\n",
            "See the caveats in the documentation: https://pandas.pydata.org/pandas-docs/stable/user_guide/indexing.html#returning-a-view-versus-a-copy\n",
            "  df1['revenue'].iloc[104:156] = r[2]\n",
            "<ipython-input-10-326eea859190>:4: SettingWithCopyWarning: \n",
            "A value is trying to be set on a copy of a slice from a DataFrame\n",
            "\n",
            "See the caveats in the documentation: https://pandas.pydata.org/pandas-docs/stable/user_guide/indexing.html#returning-a-view-versus-a-copy\n",
            "  df1['revenue'].iloc[156:208] = r[3]\n",
            "<ipython-input-10-326eea859190>:5: SettingWithCopyWarning: \n",
            "A value is trying to be set on a copy of a slice from a DataFrame\n",
            "\n",
            "See the caveats in the documentation: https://pandas.pydata.org/pandas-docs/stable/user_guide/indexing.html#returning-a-view-versus-a-copy\n",
            "  df1['revenue'].iloc[208:260] = r[4]\n",
            "<ipython-input-10-326eea859190>:6: SettingWithCopyWarning: \n",
            "A value is trying to be set on a copy of a slice from a DataFrame\n",
            "\n",
            "See the caveats in the documentation: https://pandas.pydata.org/pandas-docs/stable/user_guide/indexing.html#returning-a-view-versus-a-copy\n",
            "  df1['revenue'].iloc[260:312] = r[5]\n",
            "<ipython-input-10-326eea859190>:7: SettingWithCopyWarning: \n",
            "A value is trying to be set on a copy of a slice from a DataFrame\n",
            "\n",
            "See the caveats in the documentation: https://pandas.pydata.org/pandas-docs/stable/user_guide/indexing.html#returning-a-view-versus-a-copy\n",
            "  df1['revenue'].iloc[312:364] = r[6]\n",
            "<ipython-input-10-326eea859190>:8: SettingWithCopyWarning: \n",
            "A value is trying to be set on a copy of a slice from a DataFrame\n",
            "\n",
            "See the caveats in the documentation: https://pandas.pydata.org/pandas-docs/stable/user_guide/indexing.html#returning-a-view-versus-a-copy\n",
            "  df1['revenue'].iloc[364:416] = r[7]\n",
            "<ipython-input-10-326eea859190>:9: SettingWithCopyWarning: \n",
            "A value is trying to be set on a copy of a slice from a DataFrame\n",
            "\n",
            "See the caveats in the documentation: https://pandas.pydata.org/pandas-docs/stable/user_guide/indexing.html#returning-a-view-versus-a-copy\n",
            "  df1['revenue'].iloc[416:] = r[8]\n"
          ]
        }
      ],
      "source": [
        "df1['revenue'].iloc[:52] = r[0]\n",
        "df1['revenue'].iloc[52:104] = r[1]\n",
        "df1['revenue'].iloc[104:156] = r[2]\n",
        "df1['revenue'].iloc[156:208] = r[3]\n",
        "df1['revenue'].iloc[208:260] = r[4]\n",
        "df1['revenue'].iloc[260:312] = r[5]\n",
        "df1['revenue'].iloc[312:364] = r[6]\n",
        "df1['revenue'].iloc[364:416] = r[7]\n",
        "df1['revenue'].iloc[416:] = r[8]\n",
        "print(df1)"
      ]
    },
    {
      "cell_type": "code",
      "execution_count": 11,
      "metadata": {
        "colab": {
          "base_uri": "https://localhost:8080/"
        },
        "id": "CBOJwvoM8wr0",
        "outputId": "6e740ef4-d49e-4935-b52c-665d1d80990a"
      },
      "outputs": [
        {
          "output_type": "stream",
          "name": "stdout",
          "text": [
            "52\n",
            "63983999999988.0\n"
          ]
        }
      ],
      "source": [
        "arr13 = []\n",
        "sub = 0.0\n",
        "z = 0\n",
        "for i in df1['revenue']:\n",
        "    if z <=7:          #январь февраль\n",
        "        coef = 0.1  \n",
        "        sub += 0.014\n",
        "        coef += sub\n",
        "        f = i * coef\n",
        "        arr13.append(f)\n",
        "    elif 7 < z <= 20:    # весна\n",
        "        coef = 0.09\n",
        "        sub += 0.046\n",
        "        coef += sub\n",
        "        f = i * coef\n",
        "        arr13.append(f)\n",
        "    elif 20 < z <= 33:   #лето\n",
        "        coef = 0.13\n",
        "        sub += 0.04\n",
        "        coef += sub\n",
        "        f = i * coef\n",
        "        arr13.append(f)\n",
        "    elif 33 < z <= 46:     #осень\n",
        "        coef = 0.1\n",
        "        sub += 0.031\n",
        "        coef += sub\n",
        "        f = i * coef\n",
        "        arr13.append(f)\n",
        "    elif 46 < z <= 51:         #декабрь\n",
        "        coef = 0.09\n",
        "        sub += 0.039\n",
        "        coef += sub\n",
        "        f = i * coef\n",
        "        arr13.append(f)\n",
        "    z+=1  \n",
        "    \n",
        "print(len(arr13))\n",
        "print(sum(arr13))\n"
      ]
    },
    {
      "cell_type": "code",
      "execution_count": 12,
      "metadata": {
        "colab": {
          "base_uri": "https://localhost:8080/"
        },
        "id": "JRIckgwY66_e",
        "outputId": "60cefd14-c9c4-4669-9c56-fea80f720d39"
      },
      "outputs": [
        {
          "output_type": "stream",
          "name": "stdout",
          "text": [
            "52\n",
            "79916096153858.31\n"
          ]
        }
      ],
      "source": [
        "z = 0 \n",
        "sub = 0.0\n",
        "arr14 = []\n",
        "for i in df1['revenue']:\n",
        "    if 51 < z <= 59:        #январь февраль \n",
        "        coef = 0.7\n",
        "        sub += 0.011\n",
        "        coef += sub\n",
        "        f = i * coef\n",
        "        arr14.append(f)\n",
        "    elif 59 < z <= 72:    # весна\n",
        "        coef = 0.07\n",
        "        sub += 0.03\n",
        "        coef += sub\n",
        "        f = i * coef\n",
        "        arr14.append(f)\n",
        "    elif 72 < z <= 86:   #лето\n",
        "        coef = 0.1\n",
        "        sub += 0.02\n",
        "        coef += sub\n",
        "        f = i * coef\n",
        "        arr14.append(f)\n",
        "    elif 86 < z <= 99:     #осень\n",
        "        coef = 0.89\n",
        "        sub += 0.025\n",
        "        coef += sub\n",
        "        f = i * coef\n",
        "        arr14.append(f)\n",
        "    elif 99 < z <= 103:         #декабрь\n",
        "        coef = 0.8\n",
        "        sub += 0.04\n",
        "        coef += sub\n",
        "        f = i * coef\n",
        "        arr14.append(f)\n",
        "    z += 1\n",
        "print(len(arr14))\n",
        "print(sum(arr14))"
      ]
    },
    {
      "cell_type": "code",
      "execution_count": 13,
      "metadata": {
        "colab": {
          "base_uri": "https://localhost:8080/"
        },
        "id": "oYgJCex566_g",
        "outputId": "b49da08f-14e1-4983-be10-d4d51666e66d"
      },
      "outputs": [
        {
          "output_type": "stream",
          "name": "stdout",
          "text": [
            "52\n",
            "127916307692283.73\n"
          ]
        }
      ],
      "source": [
        "z = 0\n",
        "sub = 0.0\n",
        "arr15 = []\n",
        "for i in df1['revenue']:\n",
        "    if 103 < z <= 111:        #январь февраль\n",
        "        coef = 0.25\n",
        "        sub += 0.019\n",
        "        coef += sub\n",
        "        f = i * coef\n",
        "        arr15.append(f)\n",
        "    elif 111 < z <= 125:    # весна\n",
        "        coef = 0.21\n",
        "        sub += 0.04\n",
        "        coef += sub\n",
        "        f = i * coef\n",
        "        arr15.append(f)\n",
        "    elif 125 < z <= 138:   #лето\n",
        "        coef = 0.23\n",
        "        sub += 0.02\n",
        "        coef += sub\n",
        "        f = i * coef\n",
        "        arr15.append(f)\n",
        "    elif 138 < z <= 151:     #осень\n",
        "        coef = 0.21\n",
        "        sub += 0.038\n",
        "        coef += sub\n",
        "        f = i * coef\n",
        "        arr15.append(f)\n",
        "    elif 151 < z <= 155:         #декабрь\n",
        "        coef = 0.24\n",
        "        sub += 0.03\n",
        "        coef += sub\n",
        "        f = i * coef\n",
        "        arr15.append(f)  \n",
        "    z += 1\n",
        "print(len(arr15))\n",
        "print(sum(arr15))"
      ]
    },
    {
      "cell_type": "code",
      "execution_count": 14,
      "metadata": {
        "colab": {
          "base_uri": "https://localhost:8080/"
        },
        "id": "s0G6eaya66_h",
        "outputId": "64669523-da65-4e87-ae58-9eda027e7bf9"
      },
      "outputs": [
        {
          "output_type": "stream",
          "name": "stdout",
          "text": [
            "52\n",
            "205927107692283.8\n"
          ]
        }
      ],
      "source": [
        "z = 0\n",
        "sub = 0.0\n",
        "arr16 = []\n",
        "for i in df1['revenue']:\n",
        "    if 155 < z <= 164:        #январь февраль\n",
        "        coef = 0.25\n",
        "        sub += 0.0163\n",
        "        coef += sub\n",
        "        f = i * coef\n",
        "        arr16.append(f)\n",
        "    elif 164 < z <= 177:    # весна\n",
        "        coef = 0.21\n",
        "        sub += 0.04\n",
        "        coef += sub\n",
        "        f = i * coef\n",
        "        arr16.append(f)\n",
        "    elif 177 < z <= 190:   #лето\n",
        "        coef = 0.23\n",
        "        sub += 0.03\n",
        "        coef += sub\n",
        "        f = i * coef\n",
        "        arr16.append(f)\n",
        "    elif 190 < z <= 203:     #осень\n",
        "        coef = 0.21\n",
        "        sub += 0.03\n",
        "        coef += sub\n",
        "        f = i * coef\n",
        "        arr16.append(f)\n",
        "    elif 203 < z <= 207:         #декабрь\n",
        "        coef = 0.24\n",
        "        sub += 0.039\n",
        "        coef += sub\n",
        "        f = i * coef\n",
        "        arr16.append(f)  \n",
        "    z += 1\n",
        "print(len(arr16))\n",
        "print(sum(arr16))"
      ]
    },
    {
      "cell_type": "code",
      "execution_count": 15,
      "metadata": {
        "colab": {
          "base_uri": "https://localhost:8080/"
        },
        "id": "IB0U1Vbt66_i",
        "outputId": "bc64fd2e-a477-4af9-8fd4-4f5b5e9d7248"
      },
      "outputs": [
        {
          "output_type": "stream",
          "name": "stdout",
          "text": [
            "53\n",
            "265918884615403.28\n"
          ]
        }
      ],
      "source": [
        "z = 0\n",
        "sub = 0.0\n",
        "arr17 = []\n",
        "for i in df1['revenue']:\n",
        "    if 207 < z <= 216:        #январь февраль\n",
        "        coef = 0.28\n",
        "        sub += 0.011\n",
        "        coef += sub\n",
        "        f = i * coef\n",
        "        arr17.append(f)\n",
        "    elif 216 < z <= 229:    # весна\n",
        "        coef = 0.2\n",
        "        sub += 0.026\n",
        "        coef += sub\n",
        "        f = i * coef\n",
        "        arr17.append(f)\n",
        "    elif 229 < z <= 242:   #лето\n",
        "        coef = 0.28\n",
        "        sub += 0.047\n",
        "        coef += sub\n",
        "        f = i * coef\n",
        "        arr17.append(f)\n",
        "    elif 242 < z <= 255:     #осень\n",
        "        coef = 0.28\n",
        "        sub += 0.033\n",
        "        coef += sub\n",
        "        f = i * coef\n",
        "        arr17.append(f)\n",
        "    elif 255 < z <= 260:         #декабрь\n",
        "        coef = 0.26\n",
        "        sub += 0.029\n",
        "        coef += sub\n",
        "        f = i * coef\n",
        "        arr17.append(f) \n",
        "    z += 1\n",
        "print(len(arr17))\n",
        "print(sum(arr17))"
      ]
    },
    {
      "cell_type": "code",
      "execution_count": 16,
      "metadata": {
        "colab": {
          "base_uri": "https://localhost:8080/"
        },
        "id": "hCHAXzlO66_i",
        "outputId": "1b5cadd6-eb9f-4116-8b1e-2c9a4607e95c"
      },
      "outputs": [
        {
          "output_type": "stream",
          "name": "stdout",
          "text": [
            "52\n",
            "227924790384594.97\n"
          ]
        }
      ],
      "source": [
        "z = 0\n",
        "sub = 0.0\n",
        "arr18 = []\n",
        "for i in df1['revenue']:\n",
        "    if 260 < z <= 268:        #январь февраль\n",
        "        coef = 0.049\n",
        "        sub += 0.011\n",
        "        coef += sub\n",
        "        f = i * coef\n",
        "        arr18.append(f)\n",
        "    elif 268 < z <= 281:    # весна\n",
        "        coef = 0.043\n",
        "        sub += 0.0353\n",
        "        coef += sub\n",
        "        f = i * coef\n",
        "        arr18.append(f)\n",
        "    elif 281 < z <= 294:   #лето\n",
        "        coef = 0.044\n",
        "        sub += 0.015\n",
        "        coef += sub\n",
        "        f = i * coef\n",
        "        arr18.append(f)\n",
        "    elif 294 < z <= 307:     #осень\n",
        "        coef = 0.042\n",
        "        sub += 0.15\n",
        "        coef += sub\n",
        "        f = i * coef\n",
        "        arr18.append(f)\n",
        "    elif 307 < z <= 312:         #декабрь\n",
        "        coef = 0.042\n",
        "        sub += 0.01\n",
        "        coef += sub\n",
        "        f = i * coef\n",
        "        arr18.append(f)  \n",
        "    z += 1\n",
        "print(len(arr18))\n",
        "print(sum(arr18))"
      ]
    },
    {
      "cell_type": "code",
      "execution_count": 17,
      "metadata": {
        "colab": {
          "base_uri": "https://localhost:8080/"
        },
        "id": "mt94THM166_j",
        "outputId": "4478ff1b-853c-47a7-b812-4d43b115e5f2"
      },
      "outputs": [
        {
          "output_type": "stream",
          "name": "stdout",
          "text": [
            "52\n",
            "192995557692285.1\n"
          ]
        }
      ],
      "source": [
        "z = 0\n",
        "sub = 0.0\n",
        "arr19 = []\n",
        "for i in df1['revenue']:\n",
        "    if 312 < z <= 320:        #январь февраль\n",
        "        coef = 0.059\n",
        "        sub += 0.031\n",
        "        coef += sub\n",
        "        f = i * coef\n",
        "        arr19.append(f)\n",
        "    elif 320 < z <= 333:    # весна\n",
        "        coef = 0.037\n",
        "        sub += 0.03\n",
        "        coef += sub\n",
        "        f = i * coef\n",
        "        arr19.append(f)\n",
        "    elif 333 < z <= 346:   #лето\n",
        "        coef = 0.044\n",
        "        sub += 0.04\n",
        "        coef += sub\n",
        "        f = i * coef\n",
        "        arr19.append(f)\n",
        "    elif 346 < z <= 359:     #осень\n",
        "        coef = 0.049\n",
        "        sub += 0.04\n",
        "        coef += sub\n",
        "        f = i * coef\n",
        "        arr19.append(f)\n",
        "    elif 359 < z <= 364:         #декабрь\n",
        "        coef = 0.059\n",
        "        sub += 0.2\n",
        "        coef += sub\n",
        "        f = i * coef\n",
        "        arr19.append(f)\n",
        "    z += 1\n",
        "print(len(arr19))\n",
        "print(sum(arr19))"
      ]
    },
    {
      "cell_type": "code",
      "execution_count": 18,
      "metadata": {
        "colab": {
          "base_uri": "https://localhost:8080/"
        },
        "id": "aCXFxYsB66_k",
        "outputId": "d50881dd-dec4-47b3-91da-8b6f90864ab8"
      },
      "outputs": [
        {
          "output_type": "stream",
          "name": "stdout",
          "text": [
            "52\n",
            "224980249999995.94\n"
          ]
        }
      ],
      "source": [
        "z = 0\n",
        "sub = 0.0\n",
        "arr20 = []\n",
        "for i in df1['revenue']:\n",
        "    if 364 < z <= 372:        #январь февраль\n",
        "        coef = 0.03\n",
        "        sub += 0.04\n",
        "        coef += sub\n",
        "        f = i * coef\n",
        "        arr20.append(f)\n",
        "    elif 372 < z <= 386:    # весна\n",
        "        coef = 0.03\n",
        "        sub += 0.029\n",
        "        coef += sub\n",
        "        f = i * coef\n",
        "        arr20.append(f)\n",
        "    elif 386 < z <= 399:   #лето\n",
        "        coef = 0.016\n",
        "        sub += 0.042\n",
        "        coef += sub\n",
        "        f = i * coef\n",
        "        arr20.append(f)\n",
        "    elif 399 < z <= 412:     #осень\n",
        "        coef = 0.04\n",
        "        sub += 0.04\n",
        "        coef += sub\n",
        "        f = i * coef\n",
        "        arr20.append(f)\n",
        "    elif 412 < z <= 416:         #декабрь\n",
        "        coef = 0.05\n",
        "        sub += 0.08\n",
        "        coef += sub\n",
        "        f = i * coef\n",
        "        arr20.append(f)\n",
        "    z += 1\n",
        "print(len(arr20))\n",
        "print(sum(arr20))"
      ]
    },
    {
      "cell_type": "code",
      "execution_count": 19,
      "metadata": {
        "colab": {
          "base_uri": "https://localhost:8080/"
        },
        "id": "_MkZcySI66_l",
        "outputId": "935ecb04-b7cc-4c7d-f7c0-7ec5ecef582b"
      },
      "outputs": [
        {
          "output_type": "stream",
          "name": "stdout",
          "text": [
            "52\n",
            "228898711538453.6\n"
          ]
        }
      ],
      "source": [
        "z = 0\n",
        "sub = 0.0\n",
        "arr21 = []\n",
        "for i in df1['revenue']:\n",
        "    if 416 < z <= 425:        #январь февраль\n",
        "        coef = 0.05\n",
        "        sub += 0.03\n",
        "        coef += sub\n",
        "        f = i * coef\n",
        "        arr21.append(f)\n",
        "    elif 425 < z <= 438:    # весна\n",
        "        coef = 0.053\n",
        "        sub += 0.04\n",
        "        coef += sub\n",
        "        f = i * coef\n",
        "        arr21.append(f)\n",
        "    elif  438 < z <= 451:   #лето\n",
        "        coef = 0.054\n",
        "        sub += 0.032\n",
        "        coef += sub\n",
        "        f = i * coef\n",
        "        arr21.append(f)\n",
        "    elif 451 < z <= 464:     #осень\n",
        "        coef = 0.04\n",
        "        sub += 0.048\n",
        "        coef += sub\n",
        "        f = i * coef\n",
        "        arr21.append(f)\n",
        "    elif z > 464:         #декабрь\n",
        "        coef = 0.042\n",
        "        sub += 0.04\n",
        "        coef += sub\n",
        "        f = i * coef\n",
        "        arr21.append(f)\n",
        "    z += 1\n",
        "print(len(arr21))\n",
        "print(sum(arr21))"
      ]
    },
    {
      "cell_type": "code",
      "execution_count": 20,
      "metadata": {
        "colab": {
          "base_uri": "https://localhost:8080/"
        },
        "id": "cvqRLiJinsqz",
        "outputId": "cbc03a46-978f-440e-8a2a-71d6ac7b8b32"
      },
      "outputs": [
        {
          "output_type": "execute_result",
          "data": {
            "text/plain": [
              "469"
            ]
          },
          "metadata": {},
          "execution_count": 20
        }
      ],
      "source": [
        "fin_arr = []\n",
        "fin_arr = arr13 + arr14 + arr15 + arr16 + arr17 + arr18 + arr19 + arr20 + arr21\n",
        "len(fin_arr)"
      ]
    },
    {
      "cell_type": "code",
      "execution_count": 21,
      "metadata": {
        "id": "8OmbEVx_pTIr"
      },
      "outputs": [],
      "source": [
        "df1 = df1.drop(columns = 'revenue', axis = 1)"
      ]
    },
    {
      "cell_type": "code",
      "execution_count": 22,
      "metadata": {
        "colab": {
          "base_uri": "https://localhost:8080/",
          "height": 423
        },
        "id": "foxThwvNp43s",
        "outputId": "95fdad62-4226-48af-d6e7-17e244a337b3"
      },
      "outputs": [
        {
          "output_type": "execute_result",
          "data": {
            "text/plain": [
              "         weaks       revenue\n",
              "0   2013-01-06  1.403077e+11\n",
              "1   2013-01-13  1.575385e+11\n",
              "2   2013-01-20  1.747692e+11\n",
              "3   2013-01-27  1.920000e+11\n",
              "4   2013-02-03  2.092308e+11\n",
              "..         ...           ...\n",
              "464 2021-11-28  8.235192e+12\n",
              "465 2021-12-05  8.420154e+12\n",
              "466 2021-12-12  8.596308e+12\n",
              "467 2021-12-19  8.772462e+12\n",
              "468 2021-12-26  8.948615e+12\n",
              "\n",
              "[469 rows x 2 columns]"
            ],
            "text/html": [
              "\n",
              "  <div id=\"df-b0f98aee-6ed6-4794-95d6-2725c5421f4a\">\n",
              "    <div class=\"colab-df-container\">\n",
              "      <div>\n",
              "<style scoped>\n",
              "    .dataframe tbody tr th:only-of-type {\n",
              "        vertical-align: middle;\n",
              "    }\n",
              "\n",
              "    .dataframe tbody tr th {\n",
              "        vertical-align: top;\n",
              "    }\n",
              "\n",
              "    .dataframe thead th {\n",
              "        text-align: right;\n",
              "    }\n",
              "</style>\n",
              "<table border=\"1\" class=\"dataframe\">\n",
              "  <thead>\n",
              "    <tr style=\"text-align: right;\">\n",
              "      <th></th>\n",
              "      <th>weaks</th>\n",
              "      <th>revenue</th>\n",
              "    </tr>\n",
              "  </thead>\n",
              "  <tbody>\n",
              "    <tr>\n",
              "      <th>0</th>\n",
              "      <td>2013-01-06</td>\n",
              "      <td>1.403077e+11</td>\n",
              "    </tr>\n",
              "    <tr>\n",
              "      <th>1</th>\n",
              "      <td>2013-01-13</td>\n",
              "      <td>1.575385e+11</td>\n",
              "    </tr>\n",
              "    <tr>\n",
              "      <th>2</th>\n",
              "      <td>2013-01-20</td>\n",
              "      <td>1.747692e+11</td>\n",
              "    </tr>\n",
              "    <tr>\n",
              "      <th>3</th>\n",
              "      <td>2013-01-27</td>\n",
              "      <td>1.920000e+11</td>\n",
              "    </tr>\n",
              "    <tr>\n",
              "      <th>4</th>\n",
              "      <td>2013-02-03</td>\n",
              "      <td>2.092308e+11</td>\n",
              "    </tr>\n",
              "    <tr>\n",
              "      <th>...</th>\n",
              "      <td>...</td>\n",
              "      <td>...</td>\n",
              "    </tr>\n",
              "    <tr>\n",
              "      <th>464</th>\n",
              "      <td>2021-11-28</td>\n",
              "      <td>8.235192e+12</td>\n",
              "    </tr>\n",
              "    <tr>\n",
              "      <th>465</th>\n",
              "      <td>2021-12-05</td>\n",
              "      <td>8.420154e+12</td>\n",
              "    </tr>\n",
              "    <tr>\n",
              "      <th>466</th>\n",
              "      <td>2021-12-12</td>\n",
              "      <td>8.596308e+12</td>\n",
              "    </tr>\n",
              "    <tr>\n",
              "      <th>467</th>\n",
              "      <td>2021-12-19</td>\n",
              "      <td>8.772462e+12</td>\n",
              "    </tr>\n",
              "    <tr>\n",
              "      <th>468</th>\n",
              "      <td>2021-12-26</td>\n",
              "      <td>8.948615e+12</td>\n",
              "    </tr>\n",
              "  </tbody>\n",
              "</table>\n",
              "<p>469 rows × 2 columns</p>\n",
              "</div>\n",
              "      <button class=\"colab-df-convert\" onclick=\"convertToInteractive('df-b0f98aee-6ed6-4794-95d6-2725c5421f4a')\"\n",
              "              title=\"Convert this dataframe to an interactive table.\"\n",
              "              style=\"display:none;\">\n",
              "        \n",
              "  <svg xmlns=\"http://www.w3.org/2000/svg\" height=\"24px\"viewBox=\"0 0 24 24\"\n",
              "       width=\"24px\">\n",
              "    <path d=\"M0 0h24v24H0V0z\" fill=\"none\"/>\n",
              "    <path d=\"M18.56 5.44l.94 2.06.94-2.06 2.06-.94-2.06-.94-.94-2.06-.94 2.06-2.06.94zm-11 1L8.5 8.5l.94-2.06 2.06-.94-2.06-.94L8.5 2.5l-.94 2.06-2.06.94zm10 10l.94 2.06.94-2.06 2.06-.94-2.06-.94-.94-2.06-.94 2.06-2.06.94z\"/><path d=\"M17.41 7.96l-1.37-1.37c-.4-.4-.92-.59-1.43-.59-.52 0-1.04.2-1.43.59L10.3 9.45l-7.72 7.72c-.78.78-.78 2.05 0 2.83L4 21.41c.39.39.9.59 1.41.59.51 0 1.02-.2 1.41-.59l7.78-7.78 2.81-2.81c.8-.78.8-2.07 0-2.86zM5.41 20L4 18.59l7.72-7.72 1.47 1.35L5.41 20z\"/>\n",
              "  </svg>\n",
              "      </button>\n",
              "      \n",
              "  <style>\n",
              "    .colab-df-container {\n",
              "      display:flex;\n",
              "      flex-wrap:wrap;\n",
              "      gap: 12px;\n",
              "    }\n",
              "\n",
              "    .colab-df-convert {\n",
              "      background-color: #E8F0FE;\n",
              "      border: none;\n",
              "      border-radius: 50%;\n",
              "      cursor: pointer;\n",
              "      display: none;\n",
              "      fill: #1967D2;\n",
              "      height: 32px;\n",
              "      padding: 0 0 0 0;\n",
              "      width: 32px;\n",
              "    }\n",
              "\n",
              "    .colab-df-convert:hover {\n",
              "      background-color: #E2EBFA;\n",
              "      box-shadow: 0px 1px 2px rgba(60, 64, 67, 0.3), 0px 1px 3px 1px rgba(60, 64, 67, 0.15);\n",
              "      fill: #174EA6;\n",
              "    }\n",
              "\n",
              "    [theme=dark] .colab-df-convert {\n",
              "      background-color: #3B4455;\n",
              "      fill: #D2E3FC;\n",
              "    }\n",
              "\n",
              "    [theme=dark] .colab-df-convert:hover {\n",
              "      background-color: #434B5C;\n",
              "      box-shadow: 0px 1px 3px 1px rgba(0, 0, 0, 0.15);\n",
              "      filter: drop-shadow(0px 1px 2px rgba(0, 0, 0, 0.3));\n",
              "      fill: #FFFFFF;\n",
              "    }\n",
              "  </style>\n",
              "\n",
              "      <script>\n",
              "        const buttonEl =\n",
              "          document.querySelector('#df-b0f98aee-6ed6-4794-95d6-2725c5421f4a button.colab-df-convert');\n",
              "        buttonEl.style.display =\n",
              "          google.colab.kernel.accessAllowed ? 'block' : 'none';\n",
              "\n",
              "        async function convertToInteractive(key) {\n",
              "          const element = document.querySelector('#df-b0f98aee-6ed6-4794-95d6-2725c5421f4a');\n",
              "          const dataTable =\n",
              "            await google.colab.kernel.invokeFunction('convertToInteractive',\n",
              "                                                     [key], {});\n",
              "          if (!dataTable) return;\n",
              "\n",
              "          const docLinkHtml = 'Like what you see? Visit the ' +\n",
              "            '<a target=\"_blank\" href=https://colab.research.google.com/notebooks/data_table.ipynb>data table notebook</a>'\n",
              "            + ' to learn more about interactive tables.';\n",
              "          element.innerHTML = '';\n",
              "          dataTable['output_type'] = 'display_data';\n",
              "          await google.colab.output.renderOutput(dataTable, element);\n",
              "          const docLink = document.createElement('div');\n",
              "          docLink.innerHTML = docLinkHtml;\n",
              "          element.appendChild(docLink);\n",
              "        }\n",
              "      </script>\n",
              "    </div>\n",
              "  </div>\n",
              "  "
            ]
          },
          "metadata": {},
          "execution_count": 22
        }
      ],
      "source": [
        "df1['revenue'] = fin_arr\n",
        "df1"
      ]
    },
    {
      "cell_type": "code",
      "execution_count": 23,
      "metadata": {
        "id": "KKYG8rOgqBhv"
      },
      "outputs": [],
      "source": [
        "# fa = []\n",
        "# for i in df1['revenue']:\n",
        "#     t = round(i)\n",
        "#     fa.append(t)\n",
        "# len(fa)"
      ]
    },
    {
      "cell_type": "code",
      "execution_count": 24,
      "metadata": {
        "id": "BCCk9lAyrw_X"
      },
      "outputs": [],
      "source": [
        "# df1['revenue'] = fa\n",
        "# df1"
      ]
    },
    {
      "cell_type": "code",
      "execution_count": 25,
      "metadata": {
        "colab": {
          "base_uri": "https://localhost:8080/",
          "height": 463
        },
        "id": "4dGD_ZCZF3bV",
        "outputId": "c3415082-d6f4-4905-f541-132d9f352cc9"
      },
      "outputs": [
        {
          "output_type": "execute_result",
          "data": {
            "text/plain": [
              "[<matplotlib.lines.Line2D at 0x7f7c73e80520>]"
            ]
          },
          "metadata": {},
          "execution_count": 25
        },
        {
          "output_type": "display_data",
          "data": {
            "text/plain": [
              "<Figure size 640x480 with 1 Axes>"
            ],
            "image/png": "[encoded data removed]"
          },
          "metadata": {}
        }
      ],
      "source": [
        "plt.plot(df1['weaks'], df1['revenue'])"
      ]
    },
    {
      "cell_type": "code",
      "execution_count": 26,
      "metadata": {
        "id": "Jw2yQc5hMD7q"
      },
      "outputs": [],
      "source": [
        "z = 0\n",
        "w13 = []\n",
        "w14 = []\n",
        "w15 = []\n",
        "w16 = []\n",
        "w17 = []\n",
        "w18 = []\n",
        "w19 = []\n",
        "w20 = []\n",
        "w21 = []\n",
        "for i in df1['revenue']:\n",
        "    if z <=7 or 46 < z < 51:\n",
        "        w13.append(i)\n",
        "    elif 51 < z <= 59 or 99 < z <= 103:\n",
        "        w14.append(i)\n",
        "    elif 103 < z <= 111 or 151 < z <= 155:\n",
        "        w15.append(i)\n",
        "    elif 155 < z <= 164 or 203 < z < 207:\n",
        "        w16.append(i)\n",
        "    elif 207 < z <= 216 or 255 < z < 259:\n",
        "        w17.append(i)\n",
        "    elif 260 < z <= 268 or 307 < z < 312:\n",
        "        w18.append(i)\n",
        "    elif 312 < z <= 320 or 359 < z < 364:\n",
        "        w19.append(i)\n",
        "    elif 364 < z <= 372 or 412 < z <= 416:\n",
        "        w20.append(i)\n",
        "    elif 416 < z < 425 or z > 464:\n",
        "        w21.append(i)\n",
        "    z+= 1"
      ]
    },
    {
      "cell_type": "code",
      "execution_count": 27,
      "metadata": {
        "colab": {
          "base_uri": "https://localhost:8080/",
          "height": 452
        },
        "id": "YaEysSG9jjkU",
        "outputId": "1b7a5e50-49d3-44a3-e3b1-a37ee77f2e78"
      },
      "outputs": [
        {
          "output_type": "display_data",
          "data": {
            "text/plain": [
              "<Figure size 640x480 with 1 Axes>"
            ],
            "image/png": "[encoded data removed]"
          },
          "metadata": {}
        }
      ],
      "source": [
        "x = list(range(12))\n",
        "y1 = w13 \n",
        "y2 = w14\n",
        "y3 = w15\n",
        "y4 = w16\n",
        "y5 = w17\n",
        "y6 = w18\n",
        "y7 = w19\n",
        "y8 = w20\n",
        "y9 = w21\n",
        "\n",
        "\n",
        "plt.plot(x,y1, label = '2013')\n",
        "plt.plot(x,y2, label = '2014')\n",
        "plt.plot(x,y3, label = '2015')\n",
        "plt.plot(x,y4, label = '2016')\n",
        "plt.plot(x,y5, label = '2017')\n",
        "plt.plot(x,y6, label = '2018')\n",
        "plt.plot(x,y7, label = '2019')\n",
        "plt.plot(x,y8, label = '2020')\n",
        "plt.plot(x,y9, label = '2021')\n",
        "plt.legend()\n",
        "plt.title(\"WINTER\")\n",
        "plt.show()"
      ]
    },
    {
      "cell_type": "code",
      "execution_count": 28,
      "metadata": {
        "colab": {
          "base_uri": "https://localhost:8080/"
        },
        "id": "-_0R0vn6jjkV",
        "outputId": "1ec3533c-5326-4ffc-efab-1828ca7e5f97"
      },
      "outputs": [
        {
          "output_type": "stream",
          "name": "stdout",
          "text": [
            "13\n"
          ]
        }
      ],
      "source": [
        "z = 0\n",
        "s13 = []\n",
        "s14 = []\n",
        "s15 = []\n",
        "s16 = []\n",
        "s17 = []\n",
        "s18 = []\n",
        "s19 = []\n",
        "s20 = []\n",
        "s21 = []\n",
        "for i in df1['revenue']:\n",
        "    if 7 < z <= 20:\n",
        "        s13.append(i)\n",
        "    elif 59 < z <= 72:\n",
        "        s14.append(i)\n",
        "    elif 111 < z < 125:\n",
        "        s15.append(i)\n",
        "    elif 164 < z <= 177:\n",
        "        s16.append(i)\n",
        "    elif 216 < z <= 229:\n",
        "        s17.append(i)\n",
        "    elif 268 < z <= 281:\n",
        "        s18.append(i)\n",
        "    elif 320 < z <= 333:\n",
        "        s19.append(i)\n",
        "    elif 372 < z < 386:\n",
        "        s20.append(i)\n",
        "    elif 425 < z <= 438:\n",
        "        s21.append(i)\n",
        "    z+= 1\n",
        "print(len(s21))"
      ]
    },
    {
      "cell_type": "code",
      "execution_count": 29,
      "metadata": {
        "colab": {
          "base_uri": "https://localhost:8080/",
          "height": 452
        },
        "id": "CdQETJ4ZjjkW",
        "outputId": "d1000de7-7869-4799-8c03-f68622e6b5e1"
      },
      "outputs": [
        {
          "output_type": "display_data",
          "data": {
            "text/plain": [
              "<Figure size 640x480 with 1 Axes>"
            ],
            "image/png": "[encoded data removed]"
          },
          "metadata": {}
        }
      ],
      "source": [
        "x = list(range(13))\n",
        "y1 = s13 \n",
        "y2 = s14\n",
        "y3 = s15\n",
        "y4 = s16\n",
        "y5 = s17\n",
        "y6 = s18\n",
        "y7 = s19\n",
        "y8 = s20\n",
        "y9 = s21\n",
        "\n",
        "\n",
        "plt.plot(x,y1, label = '2013')\n",
        "plt.plot(x,y2, label = '2014')\n",
        "plt.plot(x,y3, label = '2015')\n",
        "plt.plot(x,y4, label = '2016')\n",
        "plt.plot(x,y5, label = '2017')\n",
        "plt.plot(x,y6, label = '2018')\n",
        "plt.plot(x,y7, label = '2019')\n",
        "plt.plot(x,y8, label = '2020')\n",
        "plt.plot(x,y9, label = '2021')\n",
        "plt.legend()\n",
        "plt.title(\"SPRING\")\n",
        "plt.show()"
      ]
    },
    {
      "cell_type": "code",
      "execution_count": 30,
      "metadata": {
        "colab": {
          "base_uri": "https://localhost:8080/"
        },
        "id": "LpxfoanFjjkX",
        "outputId": "44cd11dc-3abe-4294-b90f-68b79529dce7"
      },
      "outputs": [
        {
          "output_type": "stream",
          "name": "stdout",
          "text": [
            "13\n"
          ]
        }
      ],
      "source": [
        "z = 0\n",
        "su13 = []\n",
        "su14 = []\n",
        "su15 = []\n",
        "su16 = []\n",
        "su17 = []\n",
        "su18 = []\n",
        "su19 = []\n",
        "su20 = []\n",
        "su21 = []\n",
        "for i in df1['revenue']:\n",
        "    if 20 < z <= 33:\n",
        "        su13.append(i)\n",
        "    elif 72 < z < 86:\n",
        "        su14.append(i)\n",
        "    elif 125 < z <= 138:\n",
        "        su15.append(i)\n",
        "    elif 177 < z <= 190:\n",
        "        su16.append(i)\n",
        "    elif 229 < z <= 242:\n",
        "        su17.append(i)\n",
        "    elif 281 < z <= 294:\n",
        "        su18.append(i)\n",
        "    elif 333 < z <= 346:\n",
        "        su19.append(i)\n",
        "    elif 386 < z <= 399:\n",
        "        su20.append(i)\n",
        "    elif 438 < z <= 451:\n",
        "        su21.append(i)\n",
        "    z+= 1\n",
        "print(len(su21))"
      ]
    },
    {
      "cell_type": "code",
      "execution_count": 31,
      "metadata": {
        "colab": {
          "base_uri": "https://localhost:8080/",
          "height": 452
        },
        "id": "q2GxaXCBjjkX",
        "outputId": "3c05e9e2-7d56-473c-eb5c-f2d396c74ab4"
      },
      "outputs": [
        {
          "output_type": "display_data",
          "data": {
            "text/plain": [
              "<Figure size 640x480 with 1 Axes>"
            ],
            "image/png": "[encoded data removed]"
          },
          "metadata": {}
        }
      ],
      "source": [
        "x = list(range(13))\n",
        "y1 = su13 \n",
        "y2 = su14\n",
        "y3 = su15\n",
        "y4 = su16\n",
        "y5 = su17\n",
        "y6 = su18\n",
        "y7 = su19\n",
        "y8 = su20\n",
        "y9 = su21\n",
        "\n",
        "\n",
        "plt.plot(x,y1, label = '2013')\n",
        "plt.plot(x,y2, label = '2014')\n",
        "plt.plot(x,y3, label = '2015')\n",
        "plt.plot(x,y4, label = '2016')\n",
        "plt.plot(x,y5, label = '2017')\n",
        "plt.plot(x,y6, label = '2018')\n",
        "plt.plot(x,y7, label = '2019')\n",
        "plt.plot(x,y8, label = '2020')\n",
        "plt.plot(x,y9, label = '2021')\n",
        "plt.legend()\n",
        "plt.title(\"SUMMER\")\n",
        "plt.show()"
      ]
    },
    {
      "cell_type": "code",
      "execution_count": 32,
      "metadata": {
        "colab": {
          "base_uri": "https://localhost:8080/"
        },
        "id": "0ngxIE-PjjkY",
        "outputId": "ebd51d72-4950-4d23-e0ea-71d111d05dca"
      },
      "outputs": [
        {
          "output_type": "stream",
          "name": "stdout",
          "text": [
            "13\n"
          ]
        }
      ],
      "source": [
        "z = 0\n",
        "a13 = []\n",
        "a14 = []\n",
        "a15 = []\n",
        "a16 = []\n",
        "a17 = []\n",
        "a18 = []\n",
        "a19 = []\n",
        "a20 = []\n",
        "a21 = []\n",
        "for i in df1['revenue']:\n",
        "    if 33 < z <= 46:\n",
        "        a13.append(i)\n",
        "    elif 86 < z <= 99:\n",
        "        a14.append(i)\n",
        "    elif 138 < z <= 151:\n",
        "        a15.append(i)\n",
        "    elif 190 < z <= 203:\n",
        "        a16.append(i)\n",
        "    elif 242 < z <= 255:\n",
        "        a17.append(i)\n",
        "    elif 294 < z <= 307:\n",
        "        a18.append(i)\n",
        "    elif 346 < z <= 359:\n",
        "        a19.append(i)\n",
        "    elif 399 < z <= 412:\n",
        "        a20.append(i)\n",
        "    elif 451 < z <= 464:\n",
        "        a21.append(i)\n",
        "    z+= 1\n",
        "print(len(a21))"
      ]
    },
    {
      "cell_type": "code",
      "execution_count": 33,
      "metadata": {
        "colab": {
          "base_uri": "https://localhost:8080/",
          "height": 452
        },
        "id": "9W_VoYuTjjkZ",
        "outputId": "3b909026-8845-498d-b6d2-c000dc568a5f"
      },
      "outputs": [
        {
          "output_type": "display_data",
          "data": {
            "text/plain": [
              "<Figure size 640x480 with 1 Axes>"
            ],
            "image/png": "[encoded data removed]"
          },
          "metadata": {}
        }
      ],
      "source": [
        "x = list(range(13))\n",
        "y1 = a13 \n",
        "y2 = a14\n",
        "y3 = a15\n",
        "y4 = a16\n",
        "y5 = a17\n",
        "y6 = a18\n",
        "y7 = a19\n",
        "y8 = a20\n",
        "y9 = a21\n",
        "\n",
        "\n",
        "plt.plot(x,y1, label = '2013')\n",
        "plt.plot(x,y2, label = '2014')\n",
        "plt.plot(x,y3, label = '2015')\n",
        "plt.plot(x,y4, label = '2016')\n",
        "plt.plot(x,y5, label = '2017')\n",
        "plt.plot(x,y6, label = '2018')\n",
        "plt.plot(x,y7, label = '2019')\n",
        "plt.plot(x,y8, label = '2020')\n",
        "plt.plot(x,y9, label = '2021')\n",
        "plt.legend()\n",
        "plt.title(\"AUTUMN\")\n",
        "plt.show()"
      ]
    },
    {
      "cell_type": "code",
      "execution_count": 34,
      "metadata": {
        "colab": {
          "base_uri": "https://localhost:8080/"
        },
        "id": "LCGoPhPtO04A",
        "outputId": "49a1534d-24b7-4ae6-cce2-faec115dc70a"
      },
      "outputs": [
        {
          "output_type": "execute_result",
          "data": {
            "text/plain": [
              "(-3.9823587626932477,\n",
              " 0.0015057558225544472,\n",
              " 0,\n",
              " 468,\n",
              " {'1%': -3.4444002781824477,\n",
              "  '5%': -2.867735576537528,\n",
              "  '10%': -2.57007000456571},\n",
              " 26145.933362496697)"
            ]
          },
          "metadata": {},
          "execution_count": 34
        }
      ],
      "source": [
        "adfuller(df1['revenue'])"
      ]
    },
    {
      "cell_type": "code",
      "execution_count": 35,
      "metadata": {
        "colab": {
          "base_uri": "https://localhost:8080/",
          "height": 423
        },
        "id": "C8-7R4ubLFTk",
        "outputId": "06c5d792-fe9b-4c16-c610-663731980f42"
      },
      "outputs": [
        {
          "output_type": "execute_result",
          "data": {
            "text/plain": [
              "         weaks       revenue\n",
              "0   2013-01-06  1.403077e+11\n",
              "1   2013-01-13  1.575385e+11\n",
              "2   2013-01-20  1.747692e+11\n",
              "3   2013-01-27  1.920000e+11\n",
              "4   2013-02-03  2.092308e+11\n",
              "..         ...           ...\n",
              "464 2021-11-28  8.235192e+12\n",
              "465 2021-12-05  8.420154e+12\n",
              "466 2021-12-12  8.596308e+12\n",
              "467 2021-12-19  8.772462e+12\n",
              "468 2021-12-26  8.948615e+12\n",
              "\n",
              "[469 rows x 2 columns]"
            ],
            "text/html": [
              "\n",
              "  <div id=\"df-f5fb49b3-ecb0-4d2c-a287-c737e58306a1\">\n",
              "    <div class=\"colab-df-container\">\n",
              "      <div>\n",
              "<style scoped>\n",
              "    .dataframe tbody tr th:only-of-type {\n",
              "        vertical-align: middle;\n",
              "    }\n",
              "\n",
              "    .dataframe tbody tr th {\n",
              "        vertical-align: top;\n",
              "    }\n",
              "\n",
              "    .dataframe thead th {\n",
              "        text-align: right;\n",
              "    }\n",
              "</style>\n",
              "<table border=\"1\" class=\"dataframe\">\n",
              "  <thead>\n",
              "    <tr style=\"text-align: right;\">\n",
              "      <th></th>\n",
              "      <th>weaks</th>\n",
              "      <th>revenue</th>\n",
              "    </tr>\n",
              "  </thead>\n",
              "  <tbody>\n",
              "    <tr>\n",
              "      <th>0</th>\n",
              "      <td>2013-01-06</td>\n",
              "      <td>1.403077e+11</td>\n",
              "    </tr>\n",
              "    <tr>\n",
              "      <th>1</th>\n",
              "      <td>2013-01-13</td>\n",
              "      <td>1.575385e+11</td>\n",
              "    </tr>\n",
              "    <tr>\n",
              "      <th>2</th>\n",
              "      <td>2013-01-20</td>\n",
              "      <td>1.747692e+11</td>\n",
              "    </tr>\n",
              "    <tr>\n",
              "      <th>3</th>\n",
              "      <td>2013-01-27</td>\n",
              "      <td>1.920000e+11</td>\n",
              "    </tr>\n",
              "    <tr>\n",
              "      <th>4</th>\n",
              "      <td>2013-02-03</td>\n",
              "      <td>2.092308e+11</td>\n",
              "    </tr>\n",
              "    <tr>\n",
              "      <th>...</th>\n",
              "      <td>...</td>\n",
              "      <td>...</td>\n",
              "    </tr>\n",
              "    <tr>\n",
              "      <th>464</th>\n",
              "      <td>2021-11-28</td>\n",
              "      <td>8.235192e+12</td>\n",
              "    </tr>\n",
              "    <tr>\n",
              "      <th>465</th>\n",
              "      <td>2021-12-05</td>\n",
              "      <td>8.420154e+12</td>\n",
              "    </tr>\n",
              "    <tr>\n",
              "      <th>466</th>\n",
              "      <td>2021-12-12</td>\n",
              "      <td>8.596308e+12</td>\n",
              "    </tr>\n",
              "    <tr>\n",
              "      <th>467</th>\n",
              "      <td>2021-12-19</td>\n",
              "      <td>8.772462e+12</td>\n",
              "    </tr>\n",
              "    <tr>\n",
              "      <th>468</th>\n",
              "      <td>2021-12-26</td>\n",
              "      <td>8.948615e+12</td>\n",
              "    </tr>\n",
              "  </tbody>\n",
              "</table>\n",
              "<p>469 rows × 2 columns</p>\n",
              "</div>\n",
              "      <button class=\"colab-df-convert\" onclick=\"convertToInteractive('df-f5fb49b3-ecb0-4d2c-a287-c737e58306a1')\"\n",
              "              title=\"Convert this dataframe to an interactive table.\"\n",
              "              style=\"display:none;\">\n",
              "        \n",
              "  <svg xmlns=\"http://www.w3.org/2000/svg\" height=\"24px\"viewBox=\"0 0 24 24\"\n",
              "       width=\"24px\">\n",
              "    <path d=\"M0 0h24v24H0V0z\" fill=\"none\"/>\n",
              "    <path d=\"M18.56 5.44l.94 2.06.94-2.06 2.06-.94-2.06-.94-.94-2.06-.94 2.06-2.06.94zm-11 1L8.5 8.5l.94-2.06 2.06-.94-2.06-.94L8.5 2.5l-.94 2.06-2.06.94zm10 10l.94 2.06.94-2.06 2.06-.94-2.06-.94-.94-2.06-.94 2.06-2.06.94z\"/><path d=\"M17.41 7.96l-1.37-1.37c-.4-.4-.92-.59-1.43-.59-.52 0-1.04.2-1.43.59L10.3 9.45l-7.72 7.72c-.78.78-.78 2.05 0 2.83L4 21.41c.39.39.9.59 1.41.59.51 0 1.02-.2 1.41-.59l7.78-7.78 2.81-2.81c.8-.78.8-2.07 0-2.86zM5.41 20L4 18.59l7.72-7.72 1.47 1.35L5.41 20z\"/>\n",
              "  </svg>\n",
              "      </button>\n",
              "      \n",
              "  <style>\n",
              "    .colab-df-container {\n",
              "      display:flex;\n",
              "      flex-wrap:wrap;\n",
              "      gap: 12px;\n",
              "    }\n",
              "\n",
              "    .colab-df-convert {\n",
              "      background-color: #E8F0FE;\n",
              "      border: none;\n",
              "      border-radius: 50%;\n",
              "      cursor: pointer;\n",
              "      display: none;\n",
              "      fill: #1967D2;\n",
              "      height: 32px;\n",
              "      padding: 0 0 0 0;\n",
              "      width: 32px;\n",
              "    }\n",
              "\n",
              "    .colab-df-convert:hover {\n",
              "      background-color: #E2EBFA;\n",
              "      box-shadow: 0px 1px 2px rgba(60, 64, 67, 0.3), 0px 1px 3px 1px rgba(60, 64, 67, 0.15);\n",
              "      fill: #174EA6;\n",
              "    }\n",
              "\n",
              "    [theme=dark] .colab-df-convert {\n",
              "      background-color: #3B4455;\n",
              "      fill: #D2E3FC;\n",
              "    }\n",
              "\n",
              "    [theme=dark] .colab-df-convert:hover {\n",
              "      background-color: #434B5C;\n",
              "      box-shadow: 0px 1px 3px 1px rgba(0, 0, 0, 0.15);\n",
              "      filter: drop-shadow(0px 1px 2px rgba(0, 0, 0, 0.3));\n",
              "      fill: #FFFFFF;\n",
              "    }\n",
              "  </style>\n",
              "\n",
              "      <script>\n",
              "        const buttonEl =\n",
              "          document.querySelector('#df-f5fb49b3-ecb0-4d2c-a287-c737e58306a1 button.colab-df-convert');\n",
              "        buttonEl.style.display =\n",
              "          google.colab.kernel.accessAllowed ? 'block' : 'none';\n",
              "\n",
              "        async function convertToInteractive(key) {\n",
              "          const element = document.querySelector('#df-f5fb49b3-ecb0-4d2c-a287-c737e58306a1');\n",
              "          const dataTable =\n",
              "            await google.colab.kernel.invokeFunction('convertToInteractive',\n",
              "                                                     [key], {});\n",
              "          if (!dataTable) return;\n",
              "\n",
              "          const docLinkHtml = 'Like what you see? Visit the ' +\n",
              "            '<a target=\"_blank\" href=https://colab.research.google.com/notebooks/data_table.ipynb>data table notebook</a>'\n",
              "            + ' to learn more about interactive tables.';\n",
              "          element.innerHTML = '';\n",
              "          dataTable['output_type'] = 'display_data';\n",
              "          await google.colab.output.renderOutput(dataTable, element);\n",
              "          const docLink = document.createElement('div');\n",
              "          docLink.innerHTML = docLinkHtml;\n",
              "          element.appendChild(docLink);\n",
              "        }\n",
              "      </script>\n",
              "    </div>\n",
              "  </div>\n",
              "  "
            ]
          },
          "metadata": {},
          "execution_count": 35
        }
      ],
      "source": [
        "df1"
      ]
    },
    {
      "cell_type": "code",
      "execution_count": 36,
      "metadata": {
        "id": "nyVWh788LFTk"
      },
      "outputs": [],
      "source": [
        "df1['weaks'] = pd.to_datetime(df1['weaks'], infer_datetime_format=True)\n",
        "df1.set_index('weaks', inplace = True)"
      ]
    },
    {
      "cell_type": "code",
      "execution_count": 37,
      "metadata": {
        "colab": {
          "base_uri": "https://localhost:8080/"
        },
        "id": "XrlGdhz2VGPI",
        "outputId": "dda096a4-bd85-4078-e1ef-333c089a7422"
      },
      "outputs": [
        {
          "output_type": "stream",
          "name": "stdout",
          "text": [
            "94\n"
          ]
        }
      ],
      "source": [
        "train = df1.iloc[:374]\n",
        "test = df1.iloc[375:]\n",
        "print(len(test))"
      ]
    },
    {
      "cell_type": "code",
      "execution_count": 61,
      "metadata": {
        "colab": {
          "base_uri": "https://localhost:8080/"
        },
        "id": "7naSa6MeLFTl",
        "outputId": "64894e90-15fe-45b7-dafb-c93e8f747cc6"
      },
      "outputs": [
        {
          "output_type": "stream",
          "name": "stderr",
          "text": [
            "/usr/local/lib/python3.10/dist-packages/statsmodels/tsa/base/tsa_model.py:471: ValueWarning: No frequency information was provided, so inferred frequency W-SUN will be used.\n",
            "  self._init_dates(dates, freq)\n",
            "/usr/local/lib/python3.10/dist-packages/statsmodels/tsa/holtwinters/model.py:915: ConvergenceWarning: Optimization failed to converge. Check mle_retvals.\n",
            "  warnings.warn(\n"
          ]
        }
      ],
      "source": [
        "from statsmodels.tsa.holtwinters import ExponentialSmoothing\n",
        "model2 = ExponentialSmoothing(train, trend='add', seasonal = 'add',seasonal_periods = 108)\n",
        "fitted_model = model2.fit()\n",
        "y_pred2 = fitted_model.forecast(steps=94)"
      ]
    },
    {
      "cell_type": "code",
      "execution_count": 62,
      "metadata": {
        "colab": {
          "base_uri": "https://localhost:8080/",
          "height": 883
        },
        "id": "Jxgwzw0ELFTl",
        "outputId": "6bac8b7d-6a7a-43eb-d50e-d6f0734ffd67"
      },
      "outputs": [
        {
          "output_type": "execute_result",
          "data": {
            "text/plain": [
              "Text(0, 0.5, 'REVENUE')"
            ]
          },
          "metadata": {},
          "execution_count": 62
        },
        {
          "output_type": "display_data",
          "data": {
            "text/plain": [
              "<Figure size 1200x1000 with 1 Axes>"
            ],
            "image/png": "[encoded data removed]"
          },
          "metadata": {}
        }
      ],
      "source": [
        "plt.figure(figsize =(12,10))\n",
        "plt.plot(df1['revenue'], color='green')  \n",
        "plt.plot(y_pred2, color = 'red')\n",
        "plt.xlabel(\"DATE\") \n",
        "plt.ylabel(\"REVENUE\")"
      ]
    },
    {
      "cell_type": "code",
      "source": [
        "from statsmodels.tsa.statespace.sarimax import SARIMAX\n",
        "model = SARIMAX(train, order=(1, 0, 1), seasonal_order=(1, 1, 0, 108))\n",
        "\n",
        "model_fit = model.fit()\n",
        "\n",
        "forecast = model_fit.forecast(len(test))\n"
      ],
      "metadata": {
        "colab": {
          "base_uri": "https://localhost:8080/"
        },
        "id": "oKKgev0hLuGO",
        "outputId": "ee9537eb-2916-41a3-8f09-4631a5366193"
      },
      "execution_count": 73,
      "outputs": [
        {
          "output_type": "stream",
          "name": "stderr",
          "text": [
            "/usr/local/lib/python3.10/dist-packages/statsmodels/tsa/base/tsa_model.py:471: ValueWarning: No frequency information was provided, so inferred frequency W-SUN will be used.\n",
            "  self._init_dates(dates, freq)\n",
            "/usr/local/lib/python3.10/dist-packages/statsmodels/tsa/base/tsa_model.py:471: ValueWarning: No frequency information was provided, so inferred frequency W-SUN will be used.\n",
            "  self._init_dates(dates, freq)\n"
          ]
        }
      ]
    },
    {
      "cell_type": "code",
      "source": [
        "plt.figure(figsize =(12,10))\n",
        "plt.plot(df1['revenue'], color='green')  \n",
        "plt.plot(forecast, color = 'red')\n",
        "plt.xlabel(\"DATE\") \n",
        "plt.ylabel(\"REVENUE\")"
      ],
      "metadata": {
        "colab": {
          "base_uri": "https://localhost:8080/",
          "height": 883
        },
        "id": "aw1LLt3pMGh2",
        "outputId": "fd2714e4-6248-411c-9cb0-ea8e9cd7d7fe"
      },
      "execution_count": 74,
      "outputs": [
        {
          "output_type": "execute_result",
          "data": {
            "text/plain": [
              "Text(0, 0.5, 'REVENUE')"
            ]
          },
          "metadata": {},
          "execution_count": 74
        },
        {
          "output_type": "display_data",
          "data": {
            "text/plain": [
              "<Figure size 1200x1000 with 1 Axes>"
            ],
            "image/png": "[encoded data removed]"
          },
          "metadata": {}
        }
      ]
    }
  ],
  "metadata": {
    "colab": {
      "provenance": []
    },
    "kernelspec": {
      "display_name": "Python 3 (ipykernel)",
      "language": "python",
      "name": "python3"
    },
    "language_info": {
      "codemirror_mode": {
        "name": "ipython",
        "version": 3
      },
      "file_extension": ".py",
      "mimetype": "text/x-python",
      "name": "python",
      "nbconvert_exporter": "python",
      "pygments_lexer": "ipython3",
      "version": "3.10.9"
    }
  },
  "nbformat": 4,
  "nbformat_minor": 0
}