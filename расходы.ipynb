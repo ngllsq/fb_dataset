{
  "nbformat": 4,
  "nbformat_minor": 0,
  "metadata": {
    "colab": {
      "provenance": []
    },
    "kernelspec": {
      "name": "python3",
      "display_name": "Python 3"
    },
    "language_info": {
      "name": "python"
    }
  },
  "cells": [
    {
      "cell_type": "code",
      "execution_count": 40,
      "metadata": {
        "id": "DvenD2eAIXPH"
      },
      "outputs": [],
      "source": [
        "from bs4 import BeautifulSoup\n",
        "import requests\n",
        "import pandas as pd\n",
        "from statsmodels.tsa.stattools import adfuller, acf, pacf\n",
        "from statsmodels.tsa.arima.model import ARIMA\n",
        "from statsmodels.graphics.tsaplots import plot_acf, plot_pacf"
      ]
    },
    {
      "cell_type": "code",
      "source": [
        "import random"
      ],
      "metadata": {
        "id": "VsTeqMKCVXhl"
      },
      "execution_count": 41,
      "outputs": []
    },
    {
      "cell_type": "code",
      "source": [
        "url1 = 'https://excheck.pro/company/5001026970/finances?type=results&year=2013'\n",
        "response = requests.get(url1)\n",
        "bs = BeautifulSoup(response.text,\"lxml\")\n",
        "temp1 = bs.find_all('span', 'accounting-value')\n",
        "print(temp1[3])\n"
      ],
      "metadata": {
        "colab": {
          "base_uri": "https://localhost:8080/"
        },
        "id": "dSObW793M13m",
        "outputId": "a6f0304c-4cb5-4c43-de09-443f19b00313"
      },
      "execution_count": 42,
      "outputs": [
        {
          "output_type": "stream",
          "name": "stdout",
          "text": [
            "<span class=\"accounting-value\">2,8 млрд ₽</span>\n"
          ]
        }
      ]
    },
    {
      "cell_type": "code",
      "source": [
        "url2 = 'https://excheck.pro/company/5001026970/finances?type=results&year=2014'\n",
        "response = requests.get(url2)\n",
        "bs = BeautifulSoup(response.text,\"lxml\")\n",
        "temp2 = bs.find_all('span', 'accounting-value')\n",
        "print(temp2[3])"
      ],
      "metadata": {
        "colab": {
          "base_uri": "https://localhost:8080/"
        },
        "id": "kerltkkUKP8H",
        "outputId": "12507403-1dac-4236-b24b-1c82305722e6"
      },
      "execution_count": 43,
      "outputs": [
        {
          "output_type": "stream",
          "name": "stdout",
          "text": [
            "<span class=\"accounting-value\">3,2 млрд ₽</span>\n"
          ]
        }
      ]
    },
    {
      "cell_type": "code",
      "source": [
        "url3 = 'https://excheck.pro/company/5001026970/finances?type=results&year=2015'\n",
        "response = requests.get(url3)\n",
        "bs = BeautifulSoup(response.text,\"lxml\")\n",
        "temp3 = bs.find_all('span', 'accounting-value')\n",
        "print(temp3[3])"
      ],
      "metadata": {
        "colab": {
          "base_uri": "https://localhost:8080/"
        },
        "id": "jsQLrllgKfQl",
        "outputId": "f07c4b69-5d44-4c46-98df-a9e4b09a6750"
      },
      "execution_count": 44,
      "outputs": [
        {
          "output_type": "stream",
          "name": "stdout",
          "text": [
            "<span class=\"accounting-value\">4 млрд ₽</span>\n"
          ]
        }
      ]
    },
    {
      "cell_type": "code",
      "source": [
        "url4 = 'https://excheck.pro/company/5001026970/finances?type=results&year=2016'\n",
        "response = requests.get(url4)\n",
        "bs = BeautifulSoup(response.text,\"lxml\")\n",
        "temp4 = bs.find_all('span', 'accounting-value')\n",
        "print(temp4[3])"
      ],
      "metadata": {
        "colab": {
          "base_uri": "https://localhost:8080/"
        },
        "id": "TUk1olfJKfrF",
        "outputId": "4bd8f360-9b99-40e7-bbdd-bc78e11eb9a1"
      },
      "execution_count": 45,
      "outputs": [
        {
          "output_type": "stream",
          "name": "stdout",
          "text": [
            "<span class=\"accounting-value\">7,3 млрд ₽</span>\n"
          ]
        }
      ]
    },
    {
      "cell_type": "code",
      "source": [
        "url5 = 'https://excheck.pro/company/5001026970/finances?type=results&year=2017'\n",
        "response = requests.get(url5)\n",
        "bs = BeautifulSoup(response.text,\"lxml\")\n",
        "temp5 = bs.find_all('span', 'accounting-value')\n",
        "print(temp5[3])"
      ],
      "metadata": {
        "colab": {
          "base_uri": "https://localhost:8080/"
        },
        "id": "6-TZmhCbKf08",
        "outputId": "20b5e28e-badf-4b8b-a9f9-9e23c4ed0a47"
      },
      "execution_count": 46,
      "outputs": [
        {
          "output_type": "stream",
          "name": "stdout",
          "text": [
            "<span class=\"accounting-value\">10,2 млрд ₽</span>\n"
          ]
        }
      ]
    },
    {
      "cell_type": "code",
      "source": [
        "url6 = 'https://excheck.pro/company/5001026970/finances?type=results&year=2018'\n",
        "response = requests.get(url6)\n",
        "bs = BeautifulSoup(response.text,\"lxml\")\n",
        "temp6 = bs.find_all('span', 'accounting-value')\n",
        "print(temp6[3])"
      ],
      "metadata": {
        "colab": {
          "base_uri": "https://localhost:8080/"
        },
        "id": "fhnwpoJRKf9F",
        "outputId": "f4debe5f-8382-4a91-fd5c-233da6588f6a"
      },
      "execution_count": 47,
      "outputs": [
        {
          "output_type": "stream",
          "name": "stdout",
          "text": [
            "<span class=\"accounting-value\">7,5 млрд ₽</span>\n"
          ]
        }
      ]
    },
    {
      "cell_type": "code",
      "source": [
        "url7 = 'https://excheck.pro/company/5001026970/finances?type=results&year=2019'\n",
        "response = requests.get(url7)\n",
        "bs = BeautifulSoup(response.text,\"lxml\")\n",
        "temp7 = bs.find_all('span', 'accounting-value')\n",
        "print(temp7[3])"
      ],
      "metadata": {
        "colab": {
          "base_uri": "https://localhost:8080/"
        },
        "id": "fPv-_1R2KgFF",
        "outputId": "9830fee6-41e7-4e47-fee6-f7b39b0db7ac"
      },
      "execution_count": 48,
      "outputs": [
        {
          "output_type": "stream",
          "name": "stdout",
          "text": [
            "<span class=\"accounting-value\">7,1 млрд ₽</span>\n"
          ]
        }
      ]
    },
    {
      "cell_type": "code",
      "source": [
        "url8 = 'https://excheck.pro/company/5001026970/finances?type=results&year=2020'\n",
        "response = requests.get(url8)\n",
        "bs = BeautifulSoup(response.text,\"lxml\")\n",
        "temp8 = bs.find_all('span', 'accounting-value')\n",
        "print(temp8[3])"
      ],
      "metadata": {
        "colab": {
          "base_uri": "https://localhost:8080/"
        },
        "id": "LtfPaKoTKgMU",
        "outputId": "67d4e640-ff5e-4911-cffb-81b8caf59568"
      },
      "execution_count": 49,
      "outputs": [
        {
          "output_type": "stream",
          "name": "stdout",
          "text": [
            "<span class=\"accounting-value\">7 млрд ₽</span>\n"
          ]
        }
      ]
    },
    {
      "cell_type": "code",
      "source": [
        "url9 = 'https://excheck.pro/company/5001026970/finances?type=results&year=2021'\n",
        "response = requests.get(url9)\n",
        "bs = BeautifulSoup(response.text,\"lxml\")\n",
        "temp9 = bs.find_all('span', 'accounting-value')\n",
        "print(temp9[3])"
      ],
      "metadata": {
        "colab": {
          "base_uri": "https://localhost:8080/"
        },
        "id": "dz0OmVtxKgTk",
        "outputId": "84f898a9-09d7-4343-d0f7-85f45cc13072"
      },
      "execution_count": 50,
      "outputs": [
        {
          "output_type": "stream",
          "name": "stdout",
          "text": [
            "<span class=\"accounting-value\">8,1 млрд ₽</span>\n"
          ]
        }
      ]
    },
    {
      "cell_type": "code",
      "source": [
        "from IPython.display import display\n",
        "import pandas as pd\n",
        "  \n",
        "dict = {'Год': ['2013', '2014', '2015', '2016', '2017', '2018', '2019', '2020', '2021'],\n",
        "        'Расходы': [temp1[3], temp2[3], temp3[3], temp4[3], temp5[3], temp6[3], temp7[3], temp8[3], temp9[3]]}\n",
        "df = pd.DataFrame(dict)\n",
        "  \n",
        "display(df)"
      ],
      "metadata": {
        "colab": {
          "base_uri": "https://localhost:8080/",
          "height": 331
        },
        "id": "Xv8j7D4VBbFS",
        "outputId": "cc0c6ed2-5f76-4d25-92d3-0cfd6d31e780"
      },
      "execution_count": 51,
      "outputs": [
        {
          "output_type": "display_data",
          "data": {
            "text/plain": [
              "    Год        Расходы\n",
              "0  2013   [2,8 млрд ₽]\n",
              "1  2014   [3,2 млрд ₽]\n",
              "2  2015     [4 млрд ₽]\n",
              "3  2016   [7,3 млрд ₽]\n",
              "4  2017  [10,2 млрд ₽]\n",
              "5  2018   [7,5 млрд ₽]\n",
              "6  2019   [7,1 млрд ₽]\n",
              "7  2020     [7 млрд ₽]\n",
              "8  2021   [8,1 млрд ₽]"
            ],
            "text/html": [
              "\n",
              "  <div id=\"df-f771ae02-ebde-49e7-bce5-6d77418c89ab\">\n",
              "    <div class=\"colab-df-container\">\n",
              "      <div>\n",
              "<style scoped>\n",
              "    .dataframe tbody tr th:only-of-type {\n",
              "        vertical-align: middle;\n",
              "    }\n",
              "\n",
              "    .dataframe tbody tr th {\n",
              "        vertical-align: top;\n",
              "    }\n",
              "\n",
              "    .dataframe thead th {\n",
              "        text-align: right;\n",
              "    }\n",
              "</style>\n",
              "<table border=\"1\" class=\"dataframe\">\n",
              "  <thead>\n",
              "    <tr style=\"text-align: right;\">\n",
              "      <th></th>\n",
              "      <th>Год</th>\n",
              "      <th>Расходы</th>\n",
              "    </tr>\n",
              "  </thead>\n",
              "  <tbody>\n",
              "    <tr>\n",
              "      <th>0</th>\n",
              "      <td>2013</td>\n",
              "      <td>[2,8 млрд ₽]</td>\n",
              "    </tr>\n",
              "    <tr>\n",
              "      <th>1</th>\n",
              "      <td>2014</td>\n",
              "      <td>[3,2 млрд ₽]</td>\n",
              "    </tr>\n",
              "    <tr>\n",
              "      <th>2</th>\n",
              "      <td>2015</td>\n",
              "      <td>[4 млрд ₽]</td>\n",
              "    </tr>\n",
              "    <tr>\n",
              "      <th>3</th>\n",
              "      <td>2016</td>\n",
              "      <td>[7,3 млрд ₽]</td>\n",
              "    </tr>\n",
              "    <tr>\n",
              "      <th>4</th>\n",
              "      <td>2017</td>\n",
              "      <td>[10,2 млрд ₽]</td>\n",
              "    </tr>\n",
              "    <tr>\n",
              "      <th>5</th>\n",
              "      <td>2018</td>\n",
              "      <td>[7,5 млрд ₽]</td>\n",
              "    </tr>\n",
              "    <tr>\n",
              "      <th>6</th>\n",
              "      <td>2019</td>\n",
              "      <td>[7,1 млрд ₽]</td>\n",
              "    </tr>\n",
              "    <tr>\n",
              "      <th>7</th>\n",
              "      <td>2020</td>\n",
              "      <td>[7 млрд ₽]</td>\n",
              "    </tr>\n",
              "    <tr>\n",
              "      <th>8</th>\n",
              "      <td>2021</td>\n",
              "      <td>[8,1 млрд ₽]</td>\n",
              "    </tr>\n",
              "  </tbody>\n",
              "</table>\n",
              "</div>\n",
              "      <button class=\"colab-df-convert\" onclick=\"convertToInteractive('df-f771ae02-ebde-49e7-bce5-6d77418c89ab')\"\n",
              "              title=\"Convert this dataframe to an interactive table.\"\n",
              "              style=\"display:none;\">\n",
              "        \n",
              "  <svg xmlns=\"http://www.w3.org/2000/svg\" height=\"24px\"viewBox=\"0 0 24 24\"\n",
              "       width=\"24px\">\n",
              "    <path d=\"M0 0h24v24H0V0z\" fill=\"none\"/>\n",
              "    <path d=\"M18.56 5.44l.94 2.06.94-2.06 2.06-.94-2.06-.94-.94-2.06-.94 2.06-2.06.94zm-11 1L8.5 8.5l.94-2.06 2.06-.94-2.06-.94L8.5 2.5l-.94 2.06-2.06.94zm10 10l.94 2.06.94-2.06 2.06-.94-2.06-.94-.94-2.06-.94 2.06-2.06.94z\"/><path d=\"M17.41 7.96l-1.37-1.37c-.4-.4-.92-.59-1.43-.59-.52 0-1.04.2-1.43.59L10.3 9.45l-7.72 7.72c-.78.78-.78 2.05 0 2.83L4 21.41c.39.39.9.59 1.41.59.51 0 1.02-.2 1.41-.59l7.78-7.78 2.81-2.81c.8-.78.8-2.07 0-2.86zM5.41 20L4 18.59l7.72-7.72 1.47 1.35L5.41 20z\"/>\n",
              "  </svg>\n",
              "      </button>\n",
              "      \n",
              "  <style>\n",
              "    .colab-df-container {\n",
              "      display:flex;\n",
              "      flex-wrap:wrap;\n",
              "      gap: 12px;\n",
              "    }\n",
              "\n",
              "    .colab-df-convert {\n",
              "      background-color: #E8F0FE;\n",
              "      border: none;\n",
              "      border-radius: 50%;\n",
              "      cursor: pointer;\n",
              "      display: none;\n",
              "      fill: #1967D2;\n",
              "      height: 32px;\n",
              "      padding: 0 0 0 0;\n",
              "      width: 32px;\n",
              "    }\n",
              "\n",
              "    .colab-df-convert:hover {\n",
              "      background-color: #E2EBFA;\n",
              "      box-shadow: 0px 1px 2px rgba(60, 64, 67, 0.3), 0px 1px 3px 1px rgba(60, 64, 67, 0.15);\n",
              "      fill: #174EA6;\n",
              "    }\n",
              "\n",
              "    [theme=dark] .colab-df-convert {\n",
              "      background-color: #3B4455;\n",
              "      fill: #D2E3FC;\n",
              "    }\n",
              "\n",
              "    [theme=dark] .colab-df-convert:hover {\n",
              "      background-color: #434B5C;\n",
              "      box-shadow: 0px 1px 3px 1px rgba(0, 0, 0, 0.15);\n",
              "      filter: drop-shadow(0px 1px 2px rgba(0, 0, 0, 0.3));\n",
              "      fill: #FFFFFF;\n",
              "    }\n",
              "  </style>\n",
              "\n",
              "      <script>\n",
              "        const buttonEl =\n",
              "          document.querySelector('#df-f771ae02-ebde-49e7-bce5-6d77418c89ab button.colab-df-convert');\n",
              "        buttonEl.style.display =\n",
              "          google.colab.kernel.accessAllowed ? 'block' : 'none';\n",
              "\n",
              "        async function convertToInteractive(key) {\n",
              "          const element = document.querySelector('#df-f771ae02-ebde-49e7-bce5-6d77418c89ab');\n",
              "          const dataTable =\n",
              "            await google.colab.kernel.invokeFunction('convertToInteractive',\n",
              "                                                     [key], {});\n",
              "          if (!dataTable) return;\n",
              "\n",
              "          const docLinkHtml = 'Like what you see? Visit the ' +\n",
              "            '<a target=\"_blank\" href=https://colab.research.google.com/notebooks/data_table.ipynb>data table notebook</a>'\n",
              "            + ' to learn more about interactive tables.';\n",
              "          element.innerHTML = '';\n",
              "          dataTable['output_type'] = 'display_data';\n",
              "          await google.colab.output.renderOutput(dataTable, element);\n",
              "          const docLink = document.createElement('div');\n",
              "          docLink.innerHTML = docLinkHtml;\n",
              "          element.appendChild(docLink);\n",
              "        }\n",
              "      </script>\n",
              "    </div>\n",
              "  </div>\n",
              "  "
            ]
          },
          "metadata": {}
        }
      ]
    },
    {
      "cell_type": "code",
      "source": [
        "df = pd.read_csv('ggg.csv') \n",
        "df.head() "
      ],
      "metadata": {
        "colab": {
          "base_uri": "https://localhost:8080/",
          "height": 206
        },
        "id": "GXOBo1GmNgVN",
        "outputId": "bf911c19-9743-442e-f4c0-f6bd3b849f15"
      },
      "execution_count": 52,
      "outputs": [
        {
          "output_type": "execute_result",
          "data": {
            "text/plain": [
              "    Год    Расходы\n",
              "0  2013   2.8 млрд\n",
              "1  2014   3.2 млрд\n",
              "2  2015     4 млрд\n",
              "3  2016   7.3 млрд\n",
              "4  2017  10.2 млрд"
            ],
            "text/html": [
              "\n",
              "  <div id=\"df-26e46312-d393-4a27-b993-01b9a3bbf663\">\n",
              "    <div class=\"colab-df-container\">\n",
              "      <div>\n",
              "<style scoped>\n",
              "    .dataframe tbody tr th:only-of-type {\n",
              "        vertical-align: middle;\n",
              "    }\n",
              "\n",
              "    .dataframe tbody tr th {\n",
              "        vertical-align: top;\n",
              "    }\n",
              "\n",
              "    .dataframe thead th {\n",
              "        text-align: right;\n",
              "    }\n",
              "</style>\n",
              "<table border=\"1\" class=\"dataframe\">\n",
              "  <thead>\n",
              "    <tr style=\"text-align: right;\">\n",
              "      <th></th>\n",
              "      <th>Год</th>\n",
              "      <th>Расходы</th>\n",
              "    </tr>\n",
              "  </thead>\n",
              "  <tbody>\n",
              "    <tr>\n",
              "      <th>0</th>\n",
              "      <td>2013</td>\n",
              "      <td>2.8 млрд</td>\n",
              "    </tr>\n",
              "    <tr>\n",
              "      <th>1</th>\n",
              "      <td>2014</td>\n",
              "      <td>3.2 млрд</td>\n",
              "    </tr>\n",
              "    <tr>\n",
              "      <th>2</th>\n",
              "      <td>2015</td>\n",
              "      <td>4 млрд</td>\n",
              "    </tr>\n",
              "    <tr>\n",
              "      <th>3</th>\n",
              "      <td>2016</td>\n",
              "      <td>7.3 млрд</td>\n",
              "    </tr>\n",
              "    <tr>\n",
              "      <th>4</th>\n",
              "      <td>2017</td>\n",
              "      <td>10.2 млрд</td>\n",
              "    </tr>\n",
              "  </tbody>\n",
              "</table>\n",
              "</div>\n",
              "      <button class=\"colab-df-convert\" onclick=\"convertToInteractive('df-26e46312-d393-4a27-b993-01b9a3bbf663')\"\n",
              "              title=\"Convert this dataframe to an interactive table.\"\n",
              "              style=\"display:none;\">\n",
              "        \n",
              "  <svg xmlns=\"http://www.w3.org/2000/svg\" height=\"24px\"viewBox=\"0 0 24 24\"\n",
              "       width=\"24px\">\n",
              "    <path d=\"M0 0h24v24H0V0z\" fill=\"none\"/>\n",
              "    <path d=\"M18.56 5.44l.94 2.06.94-2.06 2.06-.94-2.06-.94-.94-2.06-.94 2.06-2.06.94zm-11 1L8.5 8.5l.94-2.06 2.06-.94-2.06-.94L8.5 2.5l-.94 2.06-2.06.94zm10 10l.94 2.06.94-2.06 2.06-.94-2.06-.94-.94-2.06-.94 2.06-2.06.94z\"/><path d=\"M17.41 7.96l-1.37-1.37c-.4-.4-.92-.59-1.43-.59-.52 0-1.04.2-1.43.59L10.3 9.45l-7.72 7.72c-.78.78-.78 2.05 0 2.83L4 21.41c.39.39.9.59 1.41.59.51 0 1.02-.2 1.41-.59l7.78-7.78 2.81-2.81c.8-.78.8-2.07 0-2.86zM5.41 20L4 18.59l7.72-7.72 1.47 1.35L5.41 20z\"/>\n",
              "  </svg>\n",
              "      </button>\n",
              "      \n",
              "  <style>\n",
              "    .colab-df-container {\n",
              "      display:flex;\n",
              "      flex-wrap:wrap;\n",
              "      gap: 12px;\n",
              "    }\n",
              "\n",
              "    .colab-df-convert {\n",
              "      background-color: #E8F0FE;\n",
              "      border: none;\n",
              "      border-radius: 50%;\n",
              "      cursor: pointer;\n",
              "      display: none;\n",
              "      fill: #1967D2;\n",
              "      height: 32px;\n",
              "      padding: 0 0 0 0;\n",
              "      width: 32px;\n",
              "    }\n",
              "\n",
              "    .colab-df-convert:hover {\n",
              "      background-color: #E2EBFA;\n",
              "      box-shadow: 0px 1px 2px rgba(60, 64, 67, 0.3), 0px 1px 3px 1px rgba(60, 64, 67, 0.15);\n",
              "      fill: #174EA6;\n",
              "    }\n",
              "\n",
              "    [theme=dark] .colab-df-convert {\n",
              "      background-color: #3B4455;\n",
              "      fill: #D2E3FC;\n",
              "    }\n",
              "\n",
              "    [theme=dark] .colab-df-convert:hover {\n",
              "      background-color: #434B5C;\n",
              "      box-shadow: 0px 1px 3px 1px rgba(0, 0, 0, 0.15);\n",
              "      filter: drop-shadow(0px 1px 2px rgba(0, 0, 0, 0.3));\n",
              "      fill: #FFFFFF;\n",
              "    }\n",
              "  </style>\n",
              "\n",
              "      <script>\n",
              "        const buttonEl =\n",
              "          document.querySelector('#df-26e46312-d393-4a27-b993-01b9a3bbf663 button.colab-df-convert');\n",
              "        buttonEl.style.display =\n",
              "          google.colab.kernel.accessAllowed ? 'block' : 'none';\n",
              "\n",
              "        async function convertToInteractive(key) {\n",
              "          const element = document.querySelector('#df-26e46312-d393-4a27-b993-01b9a3bbf663');\n",
              "          const dataTable =\n",
              "            await google.colab.kernel.invokeFunction('convertToInteractive',\n",
              "                                                     [key], {});\n",
              "          if (!dataTable) return;\n",
              "\n",
              "          const docLinkHtml = 'Like what you see? Visit the ' +\n",
              "            '<a target=\"_blank\" href=https://colab.research.google.com/notebooks/data_table.ipynb>data table notebook</a>'\n",
              "            + ' to learn more about interactive tables.';\n",
              "          element.innerHTML = '';\n",
              "          dataTable['output_type'] = 'display_data';\n",
              "          await google.colab.output.renderOutput(dataTable, element);\n",
              "          const docLink = document.createElement('div');\n",
              "          docLink.innerHTML = docLinkHtml;\n",
              "          element.appendChild(docLink);\n",
              "        }\n",
              "      </script>\n",
              "    </div>\n",
              "  </div>\n",
              "  "
            ]
          },
          "metadata": {},
          "execution_count": 52
        }
      ]
    },
    {
      "cell_type": "code",
      "source": [
        "df['Расходы'] = pd.to_numeric(df['Расходы'].str.replace('\\D', ''), errors='coerce')\n",
        "df"
      ],
      "metadata": {
        "colab": {
          "base_uri": "https://localhost:8080/",
          "height": 368
        },
        "id": "ugK8kGGyNjmk",
        "outputId": "b2ac2e33-caa8-4014-8465-79cc5bf7337a"
      },
      "execution_count": 53,
      "outputs": [
        {
          "output_type": "stream",
          "name": "stderr",
          "text": [
            "<ipython-input-53-02f768d26e2a>:1: FutureWarning: The default value of regex will change from True to False in a future version.\n",
            "  df['Расходы'] = pd.to_numeric(df['Расходы'].str.replace('\\D', ''), errors='coerce')\n"
          ]
        },
        {
          "output_type": "execute_result",
          "data": {
            "text/plain": [
              "    Год  Расходы\n",
              "0  2013       28\n",
              "1  2014       32\n",
              "2  2015        4\n",
              "3  2016       73\n",
              "4  2017      102\n",
              "5  2018       75\n",
              "6  2019       71\n",
              "7  2020        7\n",
              "8  2021       81"
            ],
            "text/html": [
              "\n",
              "  <div id=\"df-c6051cf6-7ead-4b5e-8ef6-787ffe22bda4\">\n",
              "    <div class=\"colab-df-container\">\n",
              "      <div>\n",
              "<style scoped>\n",
              "    .dataframe tbody tr th:only-of-type {\n",
              "        vertical-align: middle;\n",
              "    }\n",
              "\n",
              "    .dataframe tbody tr th {\n",
              "        vertical-align: top;\n",
              "    }\n",
              "\n",
              "    .dataframe thead th {\n",
              "        text-align: right;\n",
              "    }\n",
              "</style>\n",
              "<table border=\"1\" class=\"dataframe\">\n",
              "  <thead>\n",
              "    <tr style=\"text-align: right;\">\n",
              "      <th></th>\n",
              "      <th>Год</th>\n",
              "      <th>Расходы</th>\n",
              "    </tr>\n",
              "  </thead>\n",
              "  <tbody>\n",
              "    <tr>\n",
              "      <th>0</th>\n",
              "      <td>2013</td>\n",
              "      <td>28</td>\n",
              "    </tr>\n",
              "    <tr>\n",
              "      <th>1</th>\n",
              "      <td>2014</td>\n",
              "      <td>32</td>\n",
              "    </tr>\n",
              "    <tr>\n",
              "      <th>2</th>\n",
              "      <td>2015</td>\n",
              "      <td>4</td>\n",
              "    </tr>\n",
              "    <tr>\n",
              "      <th>3</th>\n",
              "      <td>2016</td>\n",
              "      <td>73</td>\n",
              "    </tr>\n",
              "    <tr>\n",
              "      <th>4</th>\n",
              "      <td>2017</td>\n",
              "      <td>102</td>\n",
              "    </tr>\n",
              "    <tr>\n",
              "      <th>5</th>\n",
              "      <td>2018</td>\n",
              "      <td>75</td>\n",
              "    </tr>\n",
              "    <tr>\n",
              "      <th>6</th>\n",
              "      <td>2019</td>\n",
              "      <td>71</td>\n",
              "    </tr>\n",
              "    <tr>\n",
              "      <th>7</th>\n",
              "      <td>2020</td>\n",
              "      <td>7</td>\n",
              "    </tr>\n",
              "    <tr>\n",
              "      <th>8</th>\n",
              "      <td>2021</td>\n",
              "      <td>81</td>\n",
              "    </tr>\n",
              "  </tbody>\n",
              "</table>\n",
              "</div>\n",
              "      <button class=\"colab-df-convert\" onclick=\"convertToInteractive('df-c6051cf6-7ead-4b5e-8ef6-787ffe22bda4')\"\n",
              "              title=\"Convert this dataframe to an interactive table.\"\n",
              "              style=\"display:none;\">\n",
              "        \n",
              "  <svg xmlns=\"http://www.w3.org/2000/svg\" height=\"24px\"viewBox=\"0 0 24 24\"\n",
              "       width=\"24px\">\n",
              "    <path d=\"M0 0h24v24H0V0z\" fill=\"none\"/>\n",
              "    <path d=\"M18.56 5.44l.94 2.06.94-2.06 2.06-.94-2.06-.94-.94-2.06-.94 2.06-2.06.94zm-11 1L8.5 8.5l.94-2.06 2.06-.94-2.06-.94L8.5 2.5l-.94 2.06-2.06.94zm10 10l.94 2.06.94-2.06 2.06-.94-2.06-.94-.94-2.06-.94 2.06-2.06.94z\"/><path d=\"M17.41 7.96l-1.37-1.37c-.4-.4-.92-.59-1.43-.59-.52 0-1.04.2-1.43.59L10.3 9.45l-7.72 7.72c-.78.78-.78 2.05 0 2.83L4 21.41c.39.39.9.59 1.41.59.51 0 1.02-.2 1.41-.59l7.78-7.78 2.81-2.81c.8-.78.8-2.07 0-2.86zM5.41 20L4 18.59l7.72-7.72 1.47 1.35L5.41 20z\"/>\n",
              "  </svg>\n",
              "      </button>\n",
              "      \n",
              "  <style>\n",
              "    .colab-df-container {\n",
              "      display:flex;\n",
              "      flex-wrap:wrap;\n",
              "      gap: 12px;\n",
              "    }\n",
              "\n",
              "    .colab-df-convert {\n",
              "      background-color: #E8F0FE;\n",
              "      border: none;\n",
              "      border-radius: 50%;\n",
              "      cursor: pointer;\n",
              "      display: none;\n",
              "      fill: #1967D2;\n",
              "      height: 32px;\n",
              "      padding: 0 0 0 0;\n",
              "      width: 32px;\n",
              "    }\n",
              "\n",
              "    .colab-df-convert:hover {\n",
              "      background-color: #E2EBFA;\n",
              "      box-shadow: 0px 1px 2px rgba(60, 64, 67, 0.3), 0px 1px 3px 1px rgba(60, 64, 67, 0.15);\n",
              "      fill: #174EA6;\n",
              "    }\n",
              "\n",
              "    [theme=dark] .colab-df-convert {\n",
              "      background-color: #3B4455;\n",
              "      fill: #D2E3FC;\n",
              "    }\n",
              "\n",
              "    [theme=dark] .colab-df-convert:hover {\n",
              "      background-color: #434B5C;\n",
              "      box-shadow: 0px 1px 3px 1px rgba(0, 0, 0, 0.15);\n",
              "      filter: drop-shadow(0px 1px 2px rgba(0, 0, 0, 0.3));\n",
              "      fill: #FFFFFF;\n",
              "    }\n",
              "  </style>\n",
              "\n",
              "      <script>\n",
              "        const buttonEl =\n",
              "          document.querySelector('#df-c6051cf6-7ead-4b5e-8ef6-787ffe22bda4 button.colab-df-convert');\n",
              "        buttonEl.style.display =\n",
              "          google.colab.kernel.accessAllowed ? 'block' : 'none';\n",
              "\n",
              "        async function convertToInteractive(key) {\n",
              "          const element = document.querySelector('#df-c6051cf6-7ead-4b5e-8ef6-787ffe22bda4');\n",
              "          const dataTable =\n",
              "            await google.colab.kernel.invokeFunction('convertToInteractive',\n",
              "                                                     [key], {});\n",
              "          if (!dataTable) return;\n",
              "\n",
              "          const docLinkHtml = 'Like what you see? Visit the ' +\n",
              "            '<a target=\"_blank\" href=https://colab.research.google.com/notebooks/data_table.ipynb>data table notebook</a>'\n",
              "            + ' to learn more about interactive tables.';\n",
              "          element.innerHTML = '';\n",
              "          dataTable['output_type'] = 'display_data';\n",
              "          await google.colab.output.renderOutput(dataTable, element);\n",
              "          const docLink = document.createElement('div');\n",
              "          docLink.innerHTML = docLinkHtml;\n",
              "          element.appendChild(docLink);\n",
              "        }\n",
              "      </script>\n",
              "    </div>\n",
              "  </div>\n",
              "  "
            ]
          },
          "metadata": {},
          "execution_count": 53
        }
      ]
    },
    {
      "cell_type": "code",
      "source": [
        "df['Расходы'] = df['Расходы'].apply(lambda x: x * 1000000000)\n",
        "df"
      ],
      "metadata": {
        "colab": {
          "base_uri": "https://localhost:8080/",
          "height": 331
        },
        "id": "uBee_4lQNr0V",
        "outputId": "765d7e14-f324-44b5-f845-a2907d1a5e78"
      },
      "execution_count": 54,
      "outputs": [
        {
          "output_type": "execute_result",
          "data": {
            "text/plain": [
              "    Год       Расходы\n",
              "0  2013   28000000000\n",
              "1  2014   32000000000\n",
              "2  2015    4000000000\n",
              "3  2016   73000000000\n",
              "4  2017  102000000000\n",
              "5  2018   75000000000\n",
              "6  2019   71000000000\n",
              "7  2020    7000000000\n",
              "8  2021   81000000000"
            ],
            "text/html": [
              "\n",
              "  <div id=\"df-db2c0036-2602-48e1-ab2d-e868eb2c1345\">\n",
              "    <div class=\"colab-df-container\">\n",
              "      <div>\n",
              "<style scoped>\n",
              "    .dataframe tbody tr th:only-of-type {\n",
              "        vertical-align: middle;\n",
              "    }\n",
              "\n",
              "    .dataframe tbody tr th {\n",
              "        vertical-align: top;\n",
              "    }\n",
              "\n",
              "    .dataframe thead th {\n",
              "        text-align: right;\n",
              "    }\n",
              "</style>\n",
              "<table border=\"1\" class=\"dataframe\">\n",
              "  <thead>\n",
              "    <tr style=\"text-align: right;\">\n",
              "      <th></th>\n",
              "      <th>Год</th>\n",
              "      <th>Расходы</th>\n",
              "    </tr>\n",
              "  </thead>\n",
              "  <tbody>\n",
              "    <tr>\n",
              "      <th>0</th>\n",
              "      <td>2013</td>\n",
              "      <td>28000000000</td>\n",
              "    </tr>\n",
              "    <tr>\n",
              "      <th>1</th>\n",
              "      <td>2014</td>\n",
              "      <td>32000000000</td>\n",
              "    </tr>\n",
              "    <tr>\n",
              "      <th>2</th>\n",
              "      <td>2015</td>\n",
              "      <td>4000000000</td>\n",
              "    </tr>\n",
              "    <tr>\n",
              "      <th>3</th>\n",
              "      <td>2016</td>\n",
              "      <td>73000000000</td>\n",
              "    </tr>\n",
              "    <tr>\n",
              "      <th>4</th>\n",
              "      <td>2017</td>\n",
              "      <td>102000000000</td>\n",
              "    </tr>\n",
              "    <tr>\n",
              "      <th>5</th>\n",
              "      <td>2018</td>\n",
              "      <td>75000000000</td>\n",
              "    </tr>\n",
              "    <tr>\n",
              "      <th>6</th>\n",
              "      <td>2019</td>\n",
              "      <td>71000000000</td>\n",
              "    </tr>\n",
              "    <tr>\n",
              "      <th>7</th>\n",
              "      <td>2020</td>\n",
              "      <td>7000000000</td>\n",
              "    </tr>\n",
              "    <tr>\n",
              "      <th>8</th>\n",
              "      <td>2021</td>\n",
              "      <td>81000000000</td>\n",
              "    </tr>\n",
              "  </tbody>\n",
              "</table>\n",
              "</div>\n",
              "      <button class=\"colab-df-convert\" onclick=\"convertToInteractive('df-db2c0036-2602-48e1-ab2d-e868eb2c1345')\"\n",
              "              title=\"Convert this dataframe to an interactive table.\"\n",
              "              style=\"display:none;\">\n",
              "        \n",
              "  <svg xmlns=\"http://www.w3.org/2000/svg\" height=\"24px\"viewBox=\"0 0 24 24\"\n",
              "       width=\"24px\">\n",
              "    <path d=\"M0 0h24v24H0V0z\" fill=\"none\"/>\n",
              "    <path d=\"M18.56 5.44l.94 2.06.94-2.06 2.06-.94-2.06-.94-.94-2.06-.94 2.06-2.06.94zm-11 1L8.5 8.5l.94-2.06 2.06-.94-2.06-.94L8.5 2.5l-.94 2.06-2.06.94zm10 10l.94 2.06.94-2.06 2.06-.94-2.06-.94-.94-2.06-.94 2.06-2.06.94z\"/><path d=\"M17.41 7.96l-1.37-1.37c-.4-.4-.92-.59-1.43-.59-.52 0-1.04.2-1.43.59L10.3 9.45l-7.72 7.72c-.78.78-.78 2.05 0 2.83L4 21.41c.39.39.9.59 1.41.59.51 0 1.02-.2 1.41-.59l7.78-7.78 2.81-2.81c.8-.78.8-2.07 0-2.86zM5.41 20L4 18.59l7.72-7.72 1.47 1.35L5.41 20z\"/>\n",
              "  </svg>\n",
              "      </button>\n",
              "      \n",
              "  <style>\n",
              "    .colab-df-container {\n",
              "      display:flex;\n",
              "      flex-wrap:wrap;\n",
              "      gap: 12px;\n",
              "    }\n",
              "\n",
              "    .colab-df-convert {\n",
              "      background-color: #E8F0FE;\n",
              "      border: none;\n",
              "      border-radius: 50%;\n",
              "      cursor: pointer;\n",
              "      display: none;\n",
              "      fill: #1967D2;\n",
              "      height: 32px;\n",
              "      padding: 0 0 0 0;\n",
              "      width: 32px;\n",
              "    }\n",
              "\n",
              "    .colab-df-convert:hover {\n",
              "      background-color: #E2EBFA;\n",
              "      box-shadow: 0px 1px 2px rgba(60, 64, 67, 0.3), 0px 1px 3px 1px rgba(60, 64, 67, 0.15);\n",
              "      fill: #174EA6;\n",
              "    }\n",
              "\n",
              "    [theme=dark] .colab-df-convert {\n",
              "      background-color: #3B4455;\n",
              "      fill: #D2E3FC;\n",
              "    }\n",
              "\n",
              "    [theme=dark] .colab-df-convert:hover {\n",
              "      background-color: #434B5C;\n",
              "      box-shadow: 0px 1px 3px 1px rgba(0, 0, 0, 0.15);\n",
              "      filter: drop-shadow(0px 1px 2px rgba(0, 0, 0, 0.3));\n",
              "      fill: #FFFFFF;\n",
              "    }\n",
              "  </style>\n",
              "\n",
              "      <script>\n",
              "        const buttonEl =\n",
              "          document.querySelector('#df-db2c0036-2602-48e1-ab2d-e868eb2c1345 button.colab-df-convert');\n",
              "        buttonEl.style.display =\n",
              "          google.colab.kernel.accessAllowed ? 'block' : 'none';\n",
              "\n",
              "        async function convertToInteractive(key) {\n",
              "          const element = document.querySelector('#df-db2c0036-2602-48e1-ab2d-e868eb2c1345');\n",
              "          const dataTable =\n",
              "            await google.colab.kernel.invokeFunction('convertToInteractive',\n",
              "                                                     [key], {});\n",
              "          if (!dataTable) return;\n",
              "\n",
              "          const docLinkHtml = 'Like what you see? Visit the ' +\n",
              "            '<a target=\"_blank\" href=https://colab.research.google.com/notebooks/data_table.ipynb>data table notebook</a>'\n",
              "            + ' to learn more about interactive tables.';\n",
              "          element.innerHTML = '';\n",
              "          dataTable['output_type'] = 'display_data';\n",
              "          await google.colab.output.renderOutput(dataTable, element);\n",
              "          const docLink = document.createElement('div');\n",
              "          docLink.innerHTML = docLinkHtml;\n",
              "          element.appendChild(docLink);\n",
              "        }\n",
              "      </script>\n",
              "    </div>\n",
              "  </div>\n",
              "  "
            ]
          },
          "metadata": {},
          "execution_count": 54
        }
      ]
    },
    {
      "cell_type": "code",
      "source": [
        "df1 = pd.date_range(start='31/12/2012', end = '31/12/2021', freq='W')\n",
        "df1 = pd.DataFrame(df1)\n",
        "df1"
      ],
      "metadata": {
        "colab": {
          "base_uri": "https://localhost:8080/",
          "height": 480
        },
        "id": "4vE1nF4RUj1E",
        "outputId": "24f9cb93-a0e1-4ea7-d09d-685f7dc84ba8"
      },
      "execution_count": 55,
      "outputs": [
        {
          "output_type": "stream",
          "name": "stderr",
          "text": [
            "<ipython-input-55-b3e6ad409849>:1: UserWarning: Parsing dates in DD/MM/YYYY format when dayfirst=False (the default) was specified. This may lead to inconsistently parsed dates! Specify a format to ensure consistent parsing.\n",
            "  df1 = pd.date_range(start='31/12/2012', end = '31/12/2021', freq='W')\n"
          ]
        },
        {
          "output_type": "execute_result",
          "data": {
            "text/plain": [
              "             0\n",
              "0   2013-01-06\n",
              "1   2013-01-13\n",
              "2   2013-01-20\n",
              "3   2013-01-27\n",
              "4   2013-02-03\n",
              "..         ...\n",
              "464 2021-11-28\n",
              "465 2021-12-05\n",
              "466 2021-12-12\n",
              "467 2021-12-19\n",
              "468 2021-12-26\n",
              "\n",
              "[469 rows x 1 columns]"
            ],
            "text/html": [
              "\n",
              "  <div id=\"df-ee59464b-caaf-4793-901b-3297d4cf9740\">\n",
              "    <div class=\"colab-df-container\">\n",
              "      <div>\n",
              "<style scoped>\n",
              "    .dataframe tbody tr th:only-of-type {\n",
              "        vertical-align: middle;\n",
              "    }\n",
              "\n",
              "    .dataframe tbody tr th {\n",
              "        vertical-align: top;\n",
              "    }\n",
              "\n",
              "    .dataframe thead th {\n",
              "        text-align: right;\n",
              "    }\n",
              "</style>\n",
              "<table border=\"1\" class=\"dataframe\">\n",
              "  <thead>\n",
              "    <tr style=\"text-align: right;\">\n",
              "      <th></th>\n",
              "      <th>0</th>\n",
              "    </tr>\n",
              "  </thead>\n",
              "  <tbody>\n",
              "    <tr>\n",
              "      <th>0</th>\n",
              "      <td>2013-01-06</td>\n",
              "    </tr>\n",
              "    <tr>\n",
              "      <th>1</th>\n",
              "      <td>2013-01-13</td>\n",
              "    </tr>\n",
              "    <tr>\n",
              "      <th>2</th>\n",
              "      <td>2013-01-20</td>\n",
              "    </tr>\n",
              "    <tr>\n",
              "      <th>3</th>\n",
              "      <td>2013-01-27</td>\n",
              "    </tr>\n",
              "    <tr>\n",
              "      <th>4</th>\n",
              "      <td>2013-02-03</td>\n",
              "    </tr>\n",
              "    <tr>\n",
              "      <th>...</th>\n",
              "      <td>...</td>\n",
              "    </tr>\n",
              "    <tr>\n",
              "      <th>464</th>\n",
              "      <td>2021-11-28</td>\n",
              "    </tr>\n",
              "    <tr>\n",
              "      <th>465</th>\n",
              "      <td>2021-12-05</td>\n",
              "    </tr>\n",
              "    <tr>\n",
              "      <th>466</th>\n",
              "      <td>2021-12-12</td>\n",
              "    </tr>\n",
              "    <tr>\n",
              "      <th>467</th>\n",
              "      <td>2021-12-19</td>\n",
              "    </tr>\n",
              "    <tr>\n",
              "      <th>468</th>\n",
              "      <td>2021-12-26</td>\n",
              "    </tr>\n",
              "  </tbody>\n",
              "</table>\n",
              "<p>469 rows × 1 columns</p>\n",
              "</div>\n",
              "      <button class=\"colab-df-convert\" onclick=\"convertToInteractive('df-ee59464b-caaf-4793-901b-3297d4cf9740')\"\n",
              "              title=\"Convert this dataframe to an interactive table.\"\n",
              "              style=\"display:none;\">\n",
              "        \n",
              "  <svg xmlns=\"http://www.w3.org/2000/svg\" height=\"24px\"viewBox=\"0 0 24 24\"\n",
              "       width=\"24px\">\n",
              "    <path d=\"M0 0h24v24H0V0z\" fill=\"none\"/>\n",
              "    <path d=\"M18.56 5.44l.94 2.06.94-2.06 2.06-.94-2.06-.94-.94-2.06-.94 2.06-2.06.94zm-11 1L8.5 8.5l.94-2.06 2.06-.94-2.06-.94L8.5 2.5l-.94 2.06-2.06.94zm10 10l.94 2.06.94-2.06 2.06-.94-2.06-.94-.94-2.06-.94 2.06-2.06.94z\"/><path d=\"M17.41 7.96l-1.37-1.37c-.4-.4-.92-.59-1.43-.59-.52 0-1.04.2-1.43.59L10.3 9.45l-7.72 7.72c-.78.78-.78 2.05 0 2.83L4 21.41c.39.39.9.59 1.41.59.51 0 1.02-.2 1.41-.59l7.78-7.78 2.81-2.81c.8-.78.8-2.07 0-2.86zM5.41 20L4 18.59l7.72-7.72 1.47 1.35L5.41 20z\"/>\n",
              "  </svg>\n",
              "      </button>\n",
              "      \n",
              "  <style>\n",
              "    .colab-df-container {\n",
              "      display:flex;\n",
              "      flex-wrap:wrap;\n",
              "      gap: 12px;\n",
              "    }\n",
              "\n",
              "    .colab-df-convert {\n",
              "      background-color: #E8F0FE;\n",
              "      border: none;\n",
              "      border-radius: 50%;\n",
              "      cursor: pointer;\n",
              "      display: none;\n",
              "      fill: #1967D2;\n",
              "      height: 32px;\n",
              "      padding: 0 0 0 0;\n",
              "      width: 32px;\n",
              "    }\n",
              "\n",
              "    .colab-df-convert:hover {\n",
              "      background-color: #E2EBFA;\n",
              "      box-shadow: 0px 1px 2px rgba(60, 64, 67, 0.3), 0px 1px 3px 1px rgba(60, 64, 67, 0.15);\n",
              "      fill: #174EA6;\n",
              "    }\n",
              "\n",
              "    [theme=dark] .colab-df-convert {\n",
              "      background-color: #3B4455;\n",
              "      fill: #D2E3FC;\n",
              "    }\n",
              "\n",
              "    [theme=dark] .colab-df-convert:hover {\n",
              "      background-color: #434B5C;\n",
              "      box-shadow: 0px 1px 3px 1px rgba(0, 0, 0, 0.15);\n",
              "      filter: drop-shadow(0px 1px 2px rgba(0, 0, 0, 0.3));\n",
              "      fill: #FFFFFF;\n",
              "    }\n",
              "  </style>\n",
              "\n",
              "      <script>\n",
              "        const buttonEl =\n",
              "          document.querySelector('#df-ee59464b-caaf-4793-901b-3297d4cf9740 button.colab-df-convert');\n",
              "        buttonEl.style.display =\n",
              "          google.colab.kernel.accessAllowed ? 'block' : 'none';\n",
              "\n",
              "        async function convertToInteractive(key) {\n",
              "          const element = document.querySelector('#df-ee59464b-caaf-4793-901b-3297d4cf9740');\n",
              "          const dataTable =\n",
              "            await google.colab.kernel.invokeFunction('convertToInteractive',\n",
              "                                                     [key], {});\n",
              "          if (!dataTable) return;\n",
              "\n",
              "          const docLinkHtml = 'Like what you see? Visit the ' +\n",
              "            '<a target=\"_blank\" href=https://colab.research.google.com/notebooks/data_table.ipynb>data table notebook</a>'\n",
              "            + ' to learn more about interactive tables.';\n",
              "          element.innerHTML = '';\n",
              "          dataTable['output_type'] = 'display_data';\n",
              "          await google.colab.output.renderOutput(dataTable, element);\n",
              "          const docLink = document.createElement('div');\n",
              "          docLink.innerHTML = docLinkHtml;\n",
              "          element.appendChild(docLink);\n",
              "        }\n",
              "      </script>\n",
              "    </div>\n",
              "  </div>\n",
              "  "
            ]
          },
          "metadata": {},
          "execution_count": 55
        }
      ]
    },
    {
      "cell_type": "code",
      "source": [
        "df1.columns = ['weaks'] \n",
        "df1"
      ],
      "metadata": {
        "colab": {
          "base_uri": "https://localhost:8080/",
          "height": 423
        },
        "id": "K8njTNvdUpfM",
        "outputId": "6bf52743-5204-4fbc-dce6-773718784ad6"
      },
      "execution_count": 56,
      "outputs": [
        {
          "output_type": "execute_result",
          "data": {
            "text/plain": [
              "         weaks\n",
              "0   2013-01-06\n",
              "1   2013-01-13\n",
              "2   2013-01-20\n",
              "3   2013-01-27\n",
              "4   2013-02-03\n",
              "..         ...\n",
              "464 2021-11-28\n",
              "465 2021-12-05\n",
              "466 2021-12-12\n",
              "467 2021-12-19\n",
              "468 2021-12-26\n",
              "\n",
              "[469 rows x 1 columns]"
            ],
            "text/html": [
              "\n",
              "  <div id=\"df-0ee9881a-c88b-4fab-a3a7-6c2c048efef4\">\n",
              "    <div class=\"colab-df-container\">\n",
              "      <div>\n",
              "<style scoped>\n",
              "    .dataframe tbody tr th:only-of-type {\n",
              "        vertical-align: middle;\n",
              "    }\n",
              "\n",
              "    .dataframe tbody tr th {\n",
              "        vertical-align: top;\n",
              "    }\n",
              "\n",
              "    .dataframe thead th {\n",
              "        text-align: right;\n",
              "    }\n",
              "</style>\n",
              "<table border=\"1\" class=\"dataframe\">\n",
              "  <thead>\n",
              "    <tr style=\"text-align: right;\">\n",
              "      <th></th>\n",
              "      <th>weaks</th>\n",
              "    </tr>\n",
              "  </thead>\n",
              "  <tbody>\n",
              "    <tr>\n",
              "      <th>0</th>\n",
              "      <td>2013-01-06</td>\n",
              "    </tr>\n",
              "    <tr>\n",
              "      <th>1</th>\n",
              "      <td>2013-01-13</td>\n",
              "    </tr>\n",
              "    <tr>\n",
              "      <th>2</th>\n",
              "      <td>2013-01-20</td>\n",
              "    </tr>\n",
              "    <tr>\n",
              "      <th>3</th>\n",
              "      <td>2013-01-27</td>\n",
              "    </tr>\n",
              "    <tr>\n",
              "      <th>4</th>\n",
              "      <td>2013-02-03</td>\n",
              "    </tr>\n",
              "    <tr>\n",
              "      <th>...</th>\n",
              "      <td>...</td>\n",
              "    </tr>\n",
              "    <tr>\n",
              "      <th>464</th>\n",
              "      <td>2021-11-28</td>\n",
              "    </tr>\n",
              "    <tr>\n",
              "      <th>465</th>\n",
              "      <td>2021-12-05</td>\n",
              "    </tr>\n",
              "    <tr>\n",
              "      <th>466</th>\n",
              "      <td>2021-12-12</td>\n",
              "    </tr>\n",
              "    <tr>\n",
              "      <th>467</th>\n",
              "      <td>2021-12-19</td>\n",
              "    </tr>\n",
              "    <tr>\n",
              "      <th>468</th>\n",
              "      <td>2021-12-26</td>\n",
              "    </tr>\n",
              "  </tbody>\n",
              "</table>\n",
              "<p>469 rows × 1 columns</p>\n",
              "</div>\n",
              "      <button class=\"colab-df-convert\" onclick=\"convertToInteractive('df-0ee9881a-c88b-4fab-a3a7-6c2c048efef4')\"\n",
              "              title=\"Convert this dataframe to an interactive table.\"\n",
              "              style=\"display:none;\">\n",
              "        \n",
              "  <svg xmlns=\"http://www.w3.org/2000/svg\" height=\"24px\"viewBox=\"0 0 24 24\"\n",
              "       width=\"24px\">\n",
              "    <path d=\"M0 0h24v24H0V0z\" fill=\"none\"/>\n",
              "    <path d=\"M18.56 5.44l.94 2.06.94-2.06 2.06-.94-2.06-.94-.94-2.06-.94 2.06-2.06.94zm-11 1L8.5 8.5l.94-2.06 2.06-.94-2.06-.94L8.5 2.5l-.94 2.06-2.06.94zm10 10l.94 2.06.94-2.06 2.06-.94-2.06-.94-.94-2.06-.94 2.06-2.06.94z\"/><path d=\"M17.41 7.96l-1.37-1.37c-.4-.4-.92-.59-1.43-.59-.52 0-1.04.2-1.43.59L10.3 9.45l-7.72 7.72c-.78.78-.78 2.05 0 2.83L4 21.41c.39.39.9.59 1.41.59.51 0 1.02-.2 1.41-.59l7.78-7.78 2.81-2.81c.8-.78.8-2.07 0-2.86zM5.41 20L4 18.59l7.72-7.72 1.47 1.35L5.41 20z\"/>\n",
              "  </svg>\n",
              "      </button>\n",
              "      \n",
              "  <style>\n",
              "    .colab-df-container {\n",
              "      display:flex;\n",
              "      flex-wrap:wrap;\n",
              "      gap: 12px;\n",
              "    }\n",
              "\n",
              "    .colab-df-convert {\n",
              "      background-color: #E8F0FE;\n",
              "      border: none;\n",
              "      border-radius: 50%;\n",
              "      cursor: pointer;\n",
              "      display: none;\n",
              "      fill: #1967D2;\n",
              "      height: 32px;\n",
              "      padding: 0 0 0 0;\n",
              "      width: 32px;\n",
              "    }\n",
              "\n",
              "    .colab-df-convert:hover {\n",
              "      background-color: #E2EBFA;\n",
              "      box-shadow: 0px 1px 2px rgba(60, 64, 67, 0.3), 0px 1px 3px 1px rgba(60, 64, 67, 0.15);\n",
              "      fill: #174EA6;\n",
              "    }\n",
              "\n",
              "    [theme=dark] .colab-df-convert {\n",
              "      background-color: #3B4455;\n",
              "      fill: #D2E3FC;\n",
              "    }\n",
              "\n",
              "    [theme=dark] .colab-df-convert:hover {\n",
              "      background-color: #434B5C;\n",
              "      box-shadow: 0px 1px 3px 1px rgba(0, 0, 0, 0.15);\n",
              "      filter: drop-shadow(0px 1px 2px rgba(0, 0, 0, 0.3));\n",
              "      fill: #FFFFFF;\n",
              "    }\n",
              "  </style>\n",
              "\n",
              "      <script>\n",
              "        const buttonEl =\n",
              "          document.querySelector('#df-0ee9881a-c88b-4fab-a3a7-6c2c048efef4 button.colab-df-convert');\n",
              "        buttonEl.style.display =\n",
              "          google.colab.kernel.accessAllowed ? 'block' : 'none';\n",
              "\n",
              "        async function convertToInteractive(key) {\n",
              "          const element = document.querySelector('#df-0ee9881a-c88b-4fab-a3a7-6c2c048efef4');\n",
              "          const dataTable =\n",
              "            await google.colab.kernel.invokeFunction('convertToInteractive',\n",
              "                                                     [key], {});\n",
              "          if (!dataTable) return;\n",
              "\n",
              "          const docLinkHtml = 'Like what you see? Visit the ' +\n",
              "            '<a target=\"_blank\" href=https://colab.research.google.com/notebooks/data_table.ipynb>data table notebook</a>'\n",
              "            + ' to learn more about interactive tables.';\n",
              "          element.innerHTML = '';\n",
              "          dataTable['output_type'] = 'display_data';\n",
              "          await google.colab.output.renderOutput(dataTable, element);\n",
              "          const docLink = document.createElement('div');\n",
              "          docLink.innerHTML = docLinkHtml;\n",
              "          element.appendChild(docLink);\n",
              "        }\n",
              "      </script>\n",
              "    </div>\n",
              "  </div>\n",
              "  "
            ]
          },
          "metadata": {},
          "execution_count": 56
        }
      ]
    },
    {
      "cell_type": "code",
      "source": [
        "r = []\n",
        "for i in df['Расходы']:\n",
        "  r.append(round(i / 52))\n",
        "r"
      ],
      "metadata": {
        "colab": {
          "base_uri": "https://localhost:8080/"
        },
        "id": "o3j08UbFUu40",
        "outputId": "1f88741b-ed3c-4ec2-e266-fa11048f6bcd"
      },
      "execution_count": 57,
      "outputs": [
        {
          "output_type": "execute_result",
          "data": {
            "text/plain": [
              "[538461538,\n",
              " 615384615,\n",
              " 76923077,\n",
              " 1403846154,\n",
              " 1961538462,\n",
              " 1442307692,\n",
              " 1365384615,\n",
              " 134615385,\n",
              " 1557692308]"
            ]
          },
          "metadata": {},
          "execution_count": 57
        }
      ]
    },
    {
      "cell_type": "code",
      "source": [
        "df1['Расходы'] = ''\n",
        "df1"
      ],
      "metadata": {
        "colab": {
          "base_uri": "https://localhost:8080/",
          "height": 423
        },
        "id": "oDORKhpuU10s",
        "outputId": "b3292607-5dcb-4666-e55b-db1f9f02a828"
      },
      "execution_count": 58,
      "outputs": [
        {
          "output_type": "execute_result",
          "data": {
            "text/plain": [
              "         weaks Расходы\n",
              "0   2013-01-06        \n",
              "1   2013-01-13        \n",
              "2   2013-01-20        \n",
              "3   2013-01-27        \n",
              "4   2013-02-03        \n",
              "..         ...     ...\n",
              "464 2021-11-28        \n",
              "465 2021-12-05        \n",
              "466 2021-12-12        \n",
              "467 2021-12-19        \n",
              "468 2021-12-26        \n",
              "\n",
              "[469 rows x 2 columns]"
            ],
            "text/html": [
              "\n",
              "  <div id=\"df-ae5436c6-0bbd-4dc8-bfe6-5b9ad4df57a1\">\n",
              "    <div class=\"colab-df-container\">\n",
              "      <div>\n",
              "<style scoped>\n",
              "    .dataframe tbody tr th:only-of-type {\n",
              "        vertical-align: middle;\n",
              "    }\n",
              "\n",
              "    .dataframe tbody tr th {\n",
              "        vertical-align: top;\n",
              "    }\n",
              "\n",
              "    .dataframe thead th {\n",
              "        text-align: right;\n",
              "    }\n",
              "</style>\n",
              "<table border=\"1\" class=\"dataframe\">\n",
              "  <thead>\n",
              "    <tr style=\"text-align: right;\">\n",
              "      <th></th>\n",
              "      <th>weaks</th>\n",
              "      <th>Расходы</th>\n",
              "    </tr>\n",
              "  </thead>\n",
              "  <tbody>\n",
              "    <tr>\n",
              "      <th>0</th>\n",
              "      <td>2013-01-06</td>\n",
              "      <td></td>\n",
              "    </tr>\n",
              "    <tr>\n",
              "      <th>1</th>\n",
              "      <td>2013-01-13</td>\n",
              "      <td></td>\n",
              "    </tr>\n",
              "    <tr>\n",
              "      <th>2</th>\n",
              "      <td>2013-01-20</td>\n",
              "      <td></td>\n",
              "    </tr>\n",
              "    <tr>\n",
              "      <th>3</th>\n",
              "      <td>2013-01-27</td>\n",
              "      <td></td>\n",
              "    </tr>\n",
              "    <tr>\n",
              "      <th>4</th>\n",
              "      <td>2013-02-03</td>\n",
              "      <td></td>\n",
              "    </tr>\n",
              "    <tr>\n",
              "      <th>...</th>\n",
              "      <td>...</td>\n",
              "      <td>...</td>\n",
              "    </tr>\n",
              "    <tr>\n",
              "      <th>464</th>\n",
              "      <td>2021-11-28</td>\n",
              "      <td></td>\n",
              "    </tr>\n",
              "    <tr>\n",
              "      <th>465</th>\n",
              "      <td>2021-12-05</td>\n",
              "      <td></td>\n",
              "    </tr>\n",
              "    <tr>\n",
              "      <th>466</th>\n",
              "      <td>2021-12-12</td>\n",
              "      <td></td>\n",
              "    </tr>\n",
              "    <tr>\n",
              "      <th>467</th>\n",
              "      <td>2021-12-19</td>\n",
              "      <td></td>\n",
              "    </tr>\n",
              "    <tr>\n",
              "      <th>468</th>\n",
              "      <td>2021-12-26</td>\n",
              "      <td></td>\n",
              "    </tr>\n",
              "  </tbody>\n",
              "</table>\n",
              "<p>469 rows × 2 columns</p>\n",
              "</div>\n",
              "      <button class=\"colab-df-convert\" onclick=\"convertToInteractive('df-ae5436c6-0bbd-4dc8-bfe6-5b9ad4df57a1')\"\n",
              "              title=\"Convert this dataframe to an interactive table.\"\n",
              "              style=\"display:none;\">\n",
              "        \n",
              "  <svg xmlns=\"http://www.w3.org/2000/svg\" height=\"24px\"viewBox=\"0 0 24 24\"\n",
              "       width=\"24px\">\n",
              "    <path d=\"M0 0h24v24H0V0z\" fill=\"none\"/>\n",
              "    <path d=\"M18.56 5.44l.94 2.06.94-2.06 2.06-.94-2.06-.94-.94-2.06-.94 2.06-2.06.94zm-11 1L8.5 8.5l.94-2.06 2.06-.94-2.06-.94L8.5 2.5l-.94 2.06-2.06.94zm10 10l.94 2.06.94-2.06 2.06-.94-2.06-.94-.94-2.06-.94 2.06-2.06.94z\"/><path d=\"M17.41 7.96l-1.37-1.37c-.4-.4-.92-.59-1.43-.59-.52 0-1.04.2-1.43.59L10.3 9.45l-7.72 7.72c-.78.78-.78 2.05 0 2.83L4 21.41c.39.39.9.59 1.41.59.51 0 1.02-.2 1.41-.59l7.78-7.78 2.81-2.81c.8-.78.8-2.07 0-2.86zM5.41 20L4 18.59l7.72-7.72 1.47 1.35L5.41 20z\"/>\n",
              "  </svg>\n",
              "      </button>\n",
              "      \n",
              "  <style>\n",
              "    .colab-df-container {\n",
              "      display:flex;\n",
              "      flex-wrap:wrap;\n",
              "      gap: 12px;\n",
              "    }\n",
              "\n",
              "    .colab-df-convert {\n",
              "      background-color: #E8F0FE;\n",
              "      border: none;\n",
              "      border-radius: 50%;\n",
              "      cursor: pointer;\n",
              "      display: none;\n",
              "      fill: #1967D2;\n",
              "      height: 32px;\n",
              "      padding: 0 0 0 0;\n",
              "      width: 32px;\n",
              "    }\n",
              "\n",
              "    .colab-df-convert:hover {\n",
              "      background-color: #E2EBFA;\n",
              "      box-shadow: 0px 1px 2px rgba(60, 64, 67, 0.3), 0px 1px 3px 1px rgba(60, 64, 67, 0.15);\n",
              "      fill: #174EA6;\n",
              "    }\n",
              "\n",
              "    [theme=dark] .colab-df-convert {\n",
              "      background-color: #3B4455;\n",
              "      fill: #D2E3FC;\n",
              "    }\n",
              "\n",
              "    [theme=dark] .colab-df-convert:hover {\n",
              "      background-color: #434B5C;\n",
              "      box-shadow: 0px 1px 3px 1px rgba(0, 0, 0, 0.15);\n",
              "      filter: drop-shadow(0px 1px 2px rgba(0, 0, 0, 0.3));\n",
              "      fill: #FFFFFF;\n",
              "    }\n",
              "  </style>\n",
              "\n",
              "      <script>\n",
              "        const buttonEl =\n",
              "          document.querySelector('#df-ae5436c6-0bbd-4dc8-bfe6-5b9ad4df57a1 button.colab-df-convert');\n",
              "        buttonEl.style.display =\n",
              "          google.colab.kernel.accessAllowed ? 'block' : 'none';\n",
              "\n",
              "        async function convertToInteractive(key) {\n",
              "          const element = document.querySelector('#df-ae5436c6-0bbd-4dc8-bfe6-5b9ad4df57a1');\n",
              "          const dataTable =\n",
              "            await google.colab.kernel.invokeFunction('convertToInteractive',\n",
              "                                                     [key], {});\n",
              "          if (!dataTable) return;\n",
              "\n",
              "          const docLinkHtml = 'Like what you see? Visit the ' +\n",
              "            '<a target=\"_blank\" href=https://colab.research.google.com/notebooks/data_table.ipynb>data table notebook</a>'\n",
              "            + ' to learn more about interactive tables.';\n",
              "          element.innerHTML = '';\n",
              "          dataTable['output_type'] = 'display_data';\n",
              "          await google.colab.output.renderOutput(dataTable, element);\n",
              "          const docLink = document.createElement('div');\n",
              "          docLink.innerHTML = docLinkHtml;\n",
              "          element.appendChild(docLink);\n",
              "        }\n",
              "      </script>\n",
              "    </div>\n",
              "  </div>\n",
              "  "
            ]
          },
          "metadata": {},
          "execution_count": 58
        }
      ]
    },
    {
      "cell_type": "code",
      "source": [
        "df1['Расходы'].iloc[:52] = r[0]\n",
        "df1['Расходы'].iloc[52:104] = r[1]\n",
        "df1['Расходы'].iloc[104:156] = r[2]\n",
        "df1['Расходы'].iloc[156:208] = r[3]\n",
        "df1['Расходы'].iloc[208:260] = r[4]\n",
        "df1['Расходы'].iloc[260:312] = r[5]\n",
        "df1['Расходы'].iloc[312:364] = r[6]\n",
        "df1['Расходы'].iloc[364:416] = r[7]\n",
        "df1['Расходы'].iloc[416:] = r[8]\n",
        "print(df1)"
      ],
      "metadata": {
        "colab": {
          "base_uri": "https://localhost:8080/"
        },
        "id": "-giY5toOU6X8",
        "outputId": "0982044e-aa5f-419c-d71a-3c0273c5baa5"
      },
      "execution_count": 59,
      "outputs": [
        {
          "output_type": "stream",
          "name": "stdout",
          "text": [
            "         weaks     Расходы\n",
            "0   2013-01-06   538461538\n",
            "1   2013-01-13   538461538\n",
            "2   2013-01-20   538461538\n",
            "3   2013-01-27   538461538\n",
            "4   2013-02-03   538461538\n",
            "..         ...         ...\n",
            "464 2021-11-28  1557692308\n",
            "465 2021-12-05  1557692308\n",
            "466 2021-12-12  1557692308\n",
            "467 2021-12-19  1557692308\n",
            "468 2021-12-26  1557692308\n",
            "\n",
            "[469 rows x 2 columns]\n"
          ]
        },
        {
          "output_type": "stream",
          "name": "stderr",
          "text": [
            "<ipython-input-59-59b9cd7140e0>:1: SettingWithCopyWarning: \n",
            "A value is trying to be set on a copy of a slice from a DataFrame\n",
            "\n",
            "See the caveats in the documentation: https://pandas.pydata.org/pandas-docs/stable/user_guide/indexing.html#returning-a-view-versus-a-copy\n",
            "  df1['Расходы'].iloc[:52] = r[0]\n",
            "<ipython-input-59-59b9cd7140e0>:2: SettingWithCopyWarning: \n",
            "A value is trying to be set on a copy of a slice from a DataFrame\n",
            "\n",
            "See the caveats in the documentation: https://pandas.pydata.org/pandas-docs/stable/user_guide/indexing.html#returning-a-view-versus-a-copy\n",
            "  df1['Расходы'].iloc[52:104] = r[1]\n",
            "<ipython-input-59-59b9cd7140e0>:3: SettingWithCopyWarning: \n",
            "A value is trying to be set on a copy of a slice from a DataFrame\n",
            "\n",
            "See the caveats in the documentation: https://pandas.pydata.org/pandas-docs/stable/user_guide/indexing.html#returning-a-view-versus-a-copy\n",
            "  df1['Расходы'].iloc[104:156] = r[2]\n",
            "<ipython-input-59-59b9cd7140e0>:4: SettingWithCopyWarning: \n",
            "A value is trying to be set on a copy of a slice from a DataFrame\n",
            "\n",
            "See the caveats in the documentation: https://pandas.pydata.org/pandas-docs/stable/user_guide/indexing.html#returning-a-view-versus-a-copy\n",
            "  df1['Расходы'].iloc[156:208] = r[3]\n",
            "<ipython-input-59-59b9cd7140e0>:5: SettingWithCopyWarning: \n",
            "A value is trying to be set on a copy of a slice from a DataFrame\n",
            "\n",
            "See the caveats in the documentation: https://pandas.pydata.org/pandas-docs/stable/user_guide/indexing.html#returning-a-view-versus-a-copy\n",
            "  df1['Расходы'].iloc[208:260] = r[4]\n",
            "<ipython-input-59-59b9cd7140e0>:6: SettingWithCopyWarning: \n",
            "A value is trying to be set on a copy of a slice from a DataFrame\n",
            "\n",
            "See the caveats in the documentation: https://pandas.pydata.org/pandas-docs/stable/user_guide/indexing.html#returning-a-view-versus-a-copy\n",
            "  df1['Расходы'].iloc[260:312] = r[5]\n",
            "<ipython-input-59-59b9cd7140e0>:7: SettingWithCopyWarning: \n",
            "A value is trying to be set on a copy of a slice from a DataFrame\n",
            "\n",
            "See the caveats in the documentation: https://pandas.pydata.org/pandas-docs/stable/user_guide/indexing.html#returning-a-view-versus-a-copy\n",
            "  df1['Расходы'].iloc[312:364] = r[6]\n",
            "<ipython-input-59-59b9cd7140e0>:8: SettingWithCopyWarning: \n",
            "A value is trying to be set on a copy of a slice from a DataFrame\n",
            "\n",
            "See the caveats in the documentation: https://pandas.pydata.org/pandas-docs/stable/user_guide/indexing.html#returning-a-view-versus-a-copy\n",
            "  df1['Расходы'].iloc[364:416] = r[7]\n",
            "<ipython-input-59-59b9cd7140e0>:9: SettingWithCopyWarning: \n",
            "A value is trying to be set on a copy of a slice from a DataFrame\n",
            "\n",
            "See the caveats in the documentation: https://pandas.pydata.org/pandas-docs/stable/user_guide/indexing.html#returning-a-view-versus-a-copy\n",
            "  df1['Расходы'].iloc[416:] = r[8]\n"
          ]
        }
      ]
    },
    {
      "cell_type": "code",
      "source": [
        "df1"
      ],
      "metadata": {
        "colab": {
          "base_uri": "https://localhost:8080/",
          "height": 423
        },
        "id": "Zg9PNwejVGs8",
        "outputId": "f0856bc3-86ed-417c-f401-043c49f9438a"
      },
      "execution_count": 60,
      "outputs": [
        {
          "output_type": "execute_result",
          "data": {
            "text/plain": [
              "         weaks     Расходы\n",
              "0   2013-01-06   538461538\n",
              "1   2013-01-13   538461538\n",
              "2   2013-01-20   538461538\n",
              "3   2013-01-27   538461538\n",
              "4   2013-02-03   538461538\n",
              "..         ...         ...\n",
              "464 2021-11-28  1557692308\n",
              "465 2021-12-05  1557692308\n",
              "466 2021-12-12  1557692308\n",
              "467 2021-12-19  1557692308\n",
              "468 2021-12-26  1557692308\n",
              "\n",
              "[469 rows x 2 columns]"
            ],
            "text/html": [
              "\n",
              "  <div id=\"df-2060c67c-8c4f-43fb-b277-00b507796cb6\">\n",
              "    <div class=\"colab-df-container\">\n",
              "      <div>\n",
              "<style scoped>\n",
              "    .dataframe tbody tr th:only-of-type {\n",
              "        vertical-align: middle;\n",
              "    }\n",
              "\n",
              "    .dataframe tbody tr th {\n",
              "        vertical-align: top;\n",
              "    }\n",
              "\n",
              "    .dataframe thead th {\n",
              "        text-align: right;\n",
              "    }\n",
              "</style>\n",
              "<table border=\"1\" class=\"dataframe\">\n",
              "  <thead>\n",
              "    <tr style=\"text-align: right;\">\n",
              "      <th></th>\n",
              "      <th>weaks</th>\n",
              "      <th>Расходы</th>\n",
              "    </tr>\n",
              "  </thead>\n",
              "  <tbody>\n",
              "    <tr>\n",
              "      <th>0</th>\n",
              "      <td>2013-01-06</td>\n",
              "      <td>538461538</td>\n",
              "    </tr>\n",
              "    <tr>\n",
              "      <th>1</th>\n",
              "      <td>2013-01-13</td>\n",
              "      <td>538461538</td>\n",
              "    </tr>\n",
              "    <tr>\n",
              "      <th>2</th>\n",
              "      <td>2013-01-20</td>\n",
              "      <td>538461538</td>\n",
              "    </tr>\n",
              "    <tr>\n",
              "      <th>3</th>\n",
              "      <td>2013-01-27</td>\n",
              "      <td>538461538</td>\n",
              "    </tr>\n",
              "    <tr>\n",
              "      <th>4</th>\n",
              "      <td>2013-02-03</td>\n",
              "      <td>538461538</td>\n",
              "    </tr>\n",
              "    <tr>\n",
              "      <th>...</th>\n",
              "      <td>...</td>\n",
              "      <td>...</td>\n",
              "    </tr>\n",
              "    <tr>\n",
              "      <th>464</th>\n",
              "      <td>2021-11-28</td>\n",
              "      <td>1557692308</td>\n",
              "    </tr>\n",
              "    <tr>\n",
              "      <th>465</th>\n",
              "      <td>2021-12-05</td>\n",
              "      <td>1557692308</td>\n",
              "    </tr>\n",
              "    <tr>\n",
              "      <th>466</th>\n",
              "      <td>2021-12-12</td>\n",
              "      <td>1557692308</td>\n",
              "    </tr>\n",
              "    <tr>\n",
              "      <th>467</th>\n",
              "      <td>2021-12-19</td>\n",
              "      <td>1557692308</td>\n",
              "    </tr>\n",
              "    <tr>\n",
              "      <th>468</th>\n",
              "      <td>2021-12-26</td>\n",
              "      <td>1557692308</td>\n",
              "    </tr>\n",
              "  </tbody>\n",
              "</table>\n",
              "<p>469 rows × 2 columns</p>\n",
              "</div>\n",
              "      <button class=\"colab-df-convert\" onclick=\"convertToInteractive('df-2060c67c-8c4f-43fb-b277-00b507796cb6')\"\n",
              "              title=\"Convert this dataframe to an interactive table.\"\n",
              "              style=\"display:none;\">\n",
              "        \n",
              "  <svg xmlns=\"http://www.w3.org/2000/svg\" height=\"24px\"viewBox=\"0 0 24 24\"\n",
              "       width=\"24px\">\n",
              "    <path d=\"M0 0h24v24H0V0z\" fill=\"none\"/>\n",
              "    <path d=\"M18.56 5.44l.94 2.06.94-2.06 2.06-.94-2.06-.94-.94-2.06-.94 2.06-2.06.94zm-11 1L8.5 8.5l.94-2.06 2.06-.94-2.06-.94L8.5 2.5l-.94 2.06-2.06.94zm10 10l.94 2.06.94-2.06 2.06-.94-2.06-.94-.94-2.06-.94 2.06-2.06.94z\"/><path d=\"M17.41 7.96l-1.37-1.37c-.4-.4-.92-.59-1.43-.59-.52 0-1.04.2-1.43.59L10.3 9.45l-7.72 7.72c-.78.78-.78 2.05 0 2.83L4 21.41c.39.39.9.59 1.41.59.51 0 1.02-.2 1.41-.59l7.78-7.78 2.81-2.81c.8-.78.8-2.07 0-2.86zM5.41 20L4 18.59l7.72-7.72 1.47 1.35L5.41 20z\"/>\n",
              "  </svg>\n",
              "      </button>\n",
              "      \n",
              "  <style>\n",
              "    .colab-df-container {\n",
              "      display:flex;\n",
              "      flex-wrap:wrap;\n",
              "      gap: 12px;\n",
              "    }\n",
              "\n",
              "    .colab-df-convert {\n",
              "      background-color: #E8F0FE;\n",
              "      border: none;\n",
              "      border-radius: 50%;\n",
              "      cursor: pointer;\n",
              "      display: none;\n",
              "      fill: #1967D2;\n",
              "      height: 32px;\n",
              "      padding: 0 0 0 0;\n",
              "      width: 32px;\n",
              "    }\n",
              "\n",
              "    .colab-df-convert:hover {\n",
              "      background-color: #E2EBFA;\n",
              "      box-shadow: 0px 1px 2px rgba(60, 64, 67, 0.3), 0px 1px 3px 1px rgba(60, 64, 67, 0.15);\n",
              "      fill: #174EA6;\n",
              "    }\n",
              "\n",
              "    [theme=dark] .colab-df-convert {\n",
              "      background-color: #3B4455;\n",
              "      fill: #D2E3FC;\n",
              "    }\n",
              "\n",
              "    [theme=dark] .colab-df-convert:hover {\n",
              "      background-color: #434B5C;\n",
              "      box-shadow: 0px 1px 3px 1px rgba(0, 0, 0, 0.15);\n",
              "      filter: drop-shadow(0px 1px 2px rgba(0, 0, 0, 0.3));\n",
              "      fill: #FFFFFF;\n",
              "    }\n",
              "  </style>\n",
              "\n",
              "      <script>\n",
              "        const buttonEl =\n",
              "          document.querySelector('#df-2060c67c-8c4f-43fb-b277-00b507796cb6 button.colab-df-convert');\n",
              "        buttonEl.style.display =\n",
              "          google.colab.kernel.accessAllowed ? 'block' : 'none';\n",
              "\n",
              "        async function convertToInteractive(key) {\n",
              "          const element = document.querySelector('#df-2060c67c-8c4f-43fb-b277-00b507796cb6');\n",
              "          const dataTable =\n",
              "            await google.colab.kernel.invokeFunction('convertToInteractive',\n",
              "                                                     [key], {});\n",
              "          if (!dataTable) return;\n",
              "\n",
              "          const docLinkHtml = 'Like what you see? Visit the ' +\n",
              "            '<a target=\"_blank\" href=https://colab.research.google.com/notebooks/data_table.ipynb>data table notebook</a>'\n",
              "            + ' to learn more about interactive tables.';\n",
              "          element.innerHTML = '';\n",
              "          dataTable['output_type'] = 'display_data';\n",
              "          await google.colab.output.renderOutput(dataTable, element);\n",
              "          const docLink = document.createElement('div');\n",
              "          docLink.innerHTML = docLinkHtml;\n",
              "          element.appendChild(docLink);\n",
              "        }\n",
              "      </script>\n",
              "    </div>\n",
              "  </div>\n",
              "  "
            ]
          },
          "metadata": {},
          "execution_count": 60
        }
      ]
    },
    {
      "cell_type": "code",
      "source": [
        "arr=[]\n",
        "sub = 0.0\n",
        "z=0\n",
        "for i in df1['Расходы']:\n",
        "  if z <=7:  #январь февраль\n",
        "    coef=0.11\n",
        "    sub += 0.01\n",
        "    coef += sub\n",
        "    f = i * coef\n",
        "    arr.append(f)\n",
        "  elif 7 < z <= 20:  #весна\n",
        "    coef=0.80\n",
        "    sub += 0.01\n",
        "    coef += sub\n",
        "    f = i * coef\n",
        "    arr.append(f)\n",
        "  elif 20 < z <= 33:  #лето\n",
        "    coef=0.90\n",
        "    sub += 0.02\n",
        "    coef += sub\n",
        "    f = i * coef\n",
        "    arr.append(f)\n",
        "  elif 33 < z <= 46:  #осень\n",
        "    coef=0.75\n",
        "    sub += 0.01\n",
        "    coef += sub\n",
        "    f = i * coef\n",
        "    arr.append(f)\n",
        "  elif 46 < z <= 51:  #декабрь\n",
        "    coef=0.45\n",
        "    sub += 0.01\n",
        "    coef += sub\n",
        "    f = i * coef\n",
        "    arr.append(f)\n",
        "  z+=1\n",
        "print(len(arr))\n",
        "print(sum(arr))\n"
      ],
      "metadata": {
        "colab": {
          "base_uri": "https://localhost:8080/"
        },
        "id": "-j4kdmdqJ7Ll",
        "outputId": "e7e4391c-9ec8-4a26-e82b-a01ff0318c27"
      },
      "execution_count": 61,
      "outputs": [
        {
          "output_type": "stream",
          "name": "stdout",
          "text": [
            "52\n",
            "28005384591.38\n"
          ]
        }
      ]
    },
    {
      "cell_type": "code",
      "source": [
        "arr2=[]\n",
        "sub = 0.0\n",
        "z=0\n",
        "for i in df1['Расходы']:\n",
        "  if 51 < z <= 59:  #январь февраль\n",
        "    coef=0.50\n",
        "    sub += 0.02\n",
        "    coef += sub\n",
        "    f = i * coef\n",
        "    arr2.append(f)\n",
        "  elif 59 < z <= 72:  #весна\n",
        "    coef=0.90\n",
        "    sub += 0.01\n",
        "    coef += sub\n",
        "    f = i * coef\n",
        "    arr2.append(f)\n",
        "  elif 72 < z <= 86:  #лето\n",
        "    coef=0.70\n",
        "    sub += 0.01\n",
        "    coef += sub\n",
        "    f = i * coef\n",
        "    arr2.append(f)\n",
        "  elif 86 < z <= 99:  #осень\n",
        "    coef=0.55\n",
        "    sub += 0.01\n",
        "    coef += sub\n",
        "    f = i * coef\n",
        "    arr2.append(f)\n",
        "  elif 99 < z <= 103:  #декабрь\n",
        "    coef=0.40\n",
        "    sub += 0.02\n",
        "    coef += sub\n",
        "    f = i * coef\n",
        "    arr2.append(f)\n",
        "  z+=1\n",
        "print(len(arr2))\n",
        "print(sum(arr2))\n"
      ],
      "metadata": {
        "colab": {
          "base_uri": "https://localhost:8080/"
        },
        "id": "2JFv5Sl3FLDU",
        "outputId": "29cadeaa-503b-4a78-ae75-0437a7041679"
      },
      "execution_count": 62,
      "outputs": [
        {
          "output_type": "stream",
          "name": "stdout",
          "text": [
            "52\n",
            "32006153826.149998\n"
          ]
        }
      ]
    },
    {
      "cell_type": "code",
      "source": [
        "arr3=[]\n",
        "sub = 0.0\n",
        "z=0\n",
        "for i in df1['Расходы']:\n",
        "  if z > 103 and z<= 111:  #январь февраль\n",
        "    coef=0.15\n",
        "    sub += 0.01\n",
        "    coef += sub\n",
        "    f = i * coef\n",
        "    arr3.append(f)\n",
        "  elif 111 < z <= 125:  #весна\n",
        "    coef=0.23\n",
        "    sub += 0.05\n",
        "    coef += sub\n",
        "    f = i * coef\n",
        "    arr3.append(f)\n",
        "  elif 125 < z <= 138:  #лето\n",
        "    coef=0.35\n",
        "    sub += 0.02\n",
        "    coef += sub\n",
        "    f = i * coef\n",
        "    arr3.append(f)\n",
        "  elif 138 < z <= 151:  #осень\n",
        "    coef=0.29\n",
        "    sub += 0.01\n",
        "    coef += sub\n",
        "    f = i * coef\n",
        "    arr3.append(f)\n",
        "  elif 151 < z <= 155:  #декабрь\n",
        "    coef=0.24\n",
        "    sub += 0.05\n",
        "    coef += sub\n",
        "    f = i * coef\n",
        "    arr3.append(f)\n",
        "  z+=1\n",
        "print(len(arr3))\n",
        "print(sum(arr3))"
      ],
      "metadata": {
        "colab": {
          "base_uri": "https://localhost:8080/"
        },
        "id": "rx2YK772G8TS",
        "outputId": "1afa02e1-39bd-4a84-b714-d3d02c7a7833"
      },
      "execution_count": 63,
      "outputs": [
        {
          "output_type": "stream",
          "name": "stdout",
          "text": [
            "52\n",
            "4000000004.000002\n"
          ]
        }
      ]
    },
    {
      "cell_type": "code",
      "source": [
        "arr4=[]\n",
        "sub = 0.0\n",
        "z=0\n",
        "for i in df1['Расходы']:\n",
        "  if z > 155 and z<= 164:  #январь февраль\n",
        "    coef=0.30\n",
        "    sub += 0.01\n",
        "    coef += sub\n",
        "    f = i * coef\n",
        "    arr4.append(f)\n",
        "  elif 164 < z <= 177:  #весна\n",
        "    coef=0.37\n",
        "    sub += 0.03\n",
        "    coef += sub\n",
        "    f = i * coef\n",
        "    arr4.append(f)\n",
        "  elif 177 < z <= 190:  #лето\n",
        "    coef=0.51\n",
        "    sub += 0.01\n",
        "    coef += sub\n",
        "    f = i * coef\n",
        "    arr4.append(f)\n",
        "  elif 190 < z <= 203:  #осень\n",
        "    coef=0.33\n",
        "    sub += 0.07\n",
        "    coef += sub\n",
        "    f = i * coef\n",
        "    arr4.append(f)\n",
        "  elif 203 < z <= 207:  #декабрь\n",
        "    coef=0.28\n",
        "    sub += 0.05\n",
        "    coef += sub\n",
        "    f = i * coef\n",
        "    arr4.append(f)\n",
        "  z+=1\n",
        "print(len(arr4))\n",
        "print(sum(arr4))"
      ],
      "metadata": {
        "colab": {
          "base_uri": "https://localhost:8080/"
        },
        "id": "WcPpln39ItAz",
        "outputId": "71e24d96-3c76-440c-ff8a-2966673e0447"
      },
      "execution_count": 64,
      "outputs": [
        {
          "output_type": "stream",
          "name": "stdout",
          "text": [
            "52\n",
            "72901730777.22002\n"
          ]
        }
      ]
    },
    {
      "cell_type": "code",
      "source": [
        "arr5=[]\n",
        "sub = 0.0\n",
        "z=0\n",
        "for i in df1['Расходы']:\n",
        "  if z > 207 and z<= 216:  #январь февраль\n",
        "    coef=0.50\n",
        "    sub += 0.01\n",
        "    coef += sub\n",
        "    f = i * coef\n",
        "    arr5.append(f)\n",
        "  elif 216 < z <= 229:  #весна\n",
        "    coef=0.62\n",
        "    sub += 0.01\n",
        "    coef += sub\n",
        "    f = i * coef\n",
        "    arr5.append(f)\n",
        "  elif 229 < z <= 242:  #лето\n",
        "    coef=0.89\n",
        "    sub += 0.01\n",
        "    coef += sub\n",
        "    f = i * coef\n",
        "    arr5.append(f)\n",
        "  elif 242 < z <= 255:  #осень\n",
        "    coef=0.80\n",
        "    sub += 0.01\n",
        "    coef += sub\n",
        "    f = i * coef\n",
        "    arr5.append(f)\n",
        "  elif 255 < z <= 260:  #декабрь\n",
        "    coef=0.70\n",
        "    sub += 0.01\n",
        "    coef += sub\n",
        "    f = i * coef\n",
        "    arr5.append(f)\n",
        "  z+=1\n",
        "print(len(arr5))\n",
        "print(sum(arr5))"
      ],
      "metadata": {
        "colab": {
          "base_uri": "https://localhost:8080/"
        },
        "id": "FJTW7E_OKloB",
        "outputId": "c19bfc8d-d93e-4299-b70b-b62574808880"
      },
      "execution_count": 65,
      "outputs": [
        {
          "output_type": "stream",
          "name": "stdout",
          "text": [
            "53\n",
            "102028269253.98001\n"
          ]
        }
      ]
    },
    {
      "cell_type": "code",
      "source": [
        "arr6=[]\n",
        "sub = 0.0\n",
        "z=0\n",
        "for i in df1['Расходы']:\n",
        "  if z > 260 and z<= 268:  #январь февраль\n",
        "    coef=0.30\n",
        "    sub += 0.01\n",
        "    coef += sub\n",
        "    f = i * coef\n",
        "    arr6.append(f)\n",
        "  elif 268 < z <= 281:  #весна\n",
        "    coef=0.45\n",
        "    sub += 0.01\n",
        "    coef += sub\n",
        "    f = i * coef\n",
        "    arr6.append(f)\n",
        "  elif 281 < z <= 294:  #лето\n",
        "    coef=0.66\n",
        "    sub += 0.04\n",
        "    coef += sub\n",
        "    f = i * coef\n",
        "    arr6.append(f)\n",
        "  elif 294 < z <= 307:  #осень\n",
        "    coef=0.63\n",
        "    sub += 0.02\n",
        "    coef += sub\n",
        "    f = i * coef\n",
        "    arr6.append(f)\n",
        "  elif 307 < z <= 312:  #декабрь\n",
        "    coef=0.40\n",
        "    sub += 0.01\n",
        "    coef += sub\n",
        "    f = i * coef\n",
        "    arr6.append(f)\n",
        "  z+=1\n",
        "print(len(arr6))\n",
        "print(sum(arr6))"
      ],
      "metadata": {
        "colab": {
          "base_uri": "https://localhost:8080/"
        },
        "id": "3wB7LaQWMK8g",
        "outputId": "b19efb14-393e-4d1b-8e40-29c4d2758e48"
      },
      "execution_count": 66,
      "outputs": [
        {
          "output_type": "stream",
          "name": "stdout",
          "text": [
            "52\n",
            "75047884599.23999\n"
          ]
        }
      ]
    },
    {
      "cell_type": "code",
      "source": [
        "arr7=[]\n",
        "sub = 0.0\n",
        "z=0\n",
        "for i in df1['Расходы']:\n",
        "  if z > 312 and z<= 320:  #январь февраль\n",
        "    coef=0.50\n",
        "    sub += 0.01\n",
        "    coef += sub\n",
        "    f = i * coef\n",
        "    arr7.append(f)\n",
        "  elif 320 < z <= 333:  #весна\n",
        "    coef=0.84\n",
        "    sub += 0.01\n",
        "    coef += sub\n",
        "    f = i * coef\n",
        "    arr7.append(f)\n",
        "  elif 333 < z <= 346:  #лето\n",
        "    coef=0.90\n",
        "    sub += 0.01\n",
        "    coef += sub\n",
        "    f = i * coef\n",
        "    arr7.append(f)\n",
        "  elif 346 < z <= 359:  #осень\n",
        "    coef=0.76\n",
        "    sub += 0.01\n",
        "    coef += sub\n",
        "    f = i * coef\n",
        "    arr7.append(f)\n",
        "  elif 359 < z <= 364:  #декабрь\n",
        "    coef=0.55\n",
        "    sub += 0.01\n",
        "    coef += sub\n",
        "    f = i * coef\n",
        "    arr7.append(f)\n",
        "  z+=1\n",
        "print(len(arr7))\n",
        "print(sum(arr7))"
      ],
      "metadata": {
        "colab": {
          "base_uri": "https://localhost:8080/"
        },
        "id": "f4ue_RvxNa82",
        "outputId": "108051a3-d23d-40ee-adc3-6bef72dda30c"
      },
      "execution_count": 67,
      "outputs": [
        {
          "output_type": "stream",
          "name": "stdout",
          "text": [
            "52\n",
            "71089423057.34999\n"
          ]
        }
      ]
    },
    {
      "cell_type": "code",
      "source": [
        "arr8=[]\n",
        "sub = 0.0\n",
        "z=0\n",
        "for i in df1['Расходы']:\n",
        "  if z > 364 and z<= 372:  #январь февраль\n",
        "    coef=0.42\n",
        "    sub += 0.01\n",
        "    coef += sub\n",
        "    f = i * coef\n",
        "    arr8.append(f)\n",
        "  elif 372 < z <= 386:  #весна\n",
        "    coef=0.70\n",
        "    sub += 0.01\n",
        "    coef += sub\n",
        "    f = i * coef\n",
        "    arr8.append(f)\n",
        "  elif 386 < z <= 399:  #лето\n",
        "    coef=0.55\n",
        "    sub += 0.01\n",
        "    coef += sub\n",
        "    f = i * coef\n",
        "    arr8.append(f)\n",
        "  elif 399 < z <= 412:  #осень\n",
        "    coef=0.45\n",
        "    sub += 0.01\n",
        "    coef += sub\n",
        "    f = i * coef\n",
        "    arr8.append(f)\n",
        "  elif 412 < z <= 416:  #декабрь\n",
        "    coef=0.45\n",
        "    sub += 0.01\n",
        "    coef += sub\n",
        "    f = i * coef\n",
        "    arr8.append(f)\n",
        "  z+=1\n",
        "print(len(arr8))\n",
        "print(sum(arr8))"
      ],
      "metadata": {
        "colab": {
          "base_uri": "https://localhost:8080/"
        },
        "id": "8GuA43U4PWMu",
        "outputId": "0bff2c18-b50f-4a78-f374-6821f1082cfc"
      },
      "execution_count": 68,
      "outputs": [
        {
          "output_type": "stream",
          "name": "stdout",
          "text": [
            "52\n",
            "6999230785.210001\n"
          ]
        }
      ]
    },
    {
      "cell_type": "code",
      "source": [
        "arr9=[]\n",
        "sub = 0.0\n",
        "z=0\n",
        "for i in df1['Расходы']:\n",
        "  if z > 416 and z<= 425:  #январь февраль\n",
        "    coef=0.60\n",
        "    sub += 0.01\n",
        "    coef += sub\n",
        "    f = i * coef\n",
        "    arr9.append(f)\n",
        "  elif 425 < z <= 438:  #весна\n",
        "    coef=0.76\n",
        "    sub += 0.01\n",
        "    coef += sub\n",
        "    f = i * coef\n",
        "    arr9.append(f)\n",
        "  elif  438 < z <= 451:  #лето\n",
        "    coef=0.83\n",
        "    sub += 0.01\n",
        "    coef += sub\n",
        "    f = i * coef\n",
        "    arr9.append(f)\n",
        "  elif 451 < z <= 464:  #осень\n",
        "    coef=0.75\n",
        "    sub += 0.01\n",
        "    coef += sub\n",
        "    f = i * coef\n",
        "    arr9.append(f)\n",
        "  elif z > 464 and z<= 468:  #декабрь\n",
        "    coef=0.60\n",
        "    sub += 0.01\n",
        "    coef += sub\n",
        "    f = i * coef\n",
        "    arr9.append(f)\n",
        "  z+=1\n",
        "print(len(arr9))\n",
        "print(sum(arr9))"
      ],
      "metadata": {
        "colab": {
          "base_uri": "https://localhost:8080/"
        },
        "id": "kkyBOfsvQ4Up",
        "outputId": "6883bbd1-d365-4cd7-cfe2-83e3e5a87cc1"
      },
      "execution_count": 69,
      "outputs": [
        {
          "output_type": "stream",
          "name": "stdout",
          "text": [
            "52\n",
            "81000000016.0\n"
          ]
        }
      ]
    },
    {
      "cell_type": "code",
      "source": [
        "new_arr = []\n",
        "new_arr = arr + arr2 + arr3 + arr4 + arr5 + arr6 + arr7 + arr8 + arr9\n",
        "len(new_arr)"
      ],
      "metadata": {
        "colab": {
          "base_uri": "https://localhost:8080/"
        },
        "id": "5RaZbv4LE3YS",
        "outputId": "0cf248cd-4f20-43eb-e8fd-4026df42189a"
      },
      "execution_count": 70,
      "outputs": [
        {
          "output_type": "execute_result",
          "data": {
            "text/plain": [
              "469"
            ]
          },
          "metadata": {},
          "execution_count": 70
        }
      ]
    },
    {
      "cell_type": "code",
      "source": [
        "df1 = df1.drop(columns = 'Расходы', axis = 1)"
      ],
      "metadata": {
        "id": "DVmDRCrVMd9J"
      },
      "execution_count": 71,
      "outputs": []
    },
    {
      "cell_type": "code",
      "source": [
        "df1['Расходы'] = new_arr\n",
        "df1"
      ],
      "metadata": {
        "colab": {
          "base_uri": "https://localhost:8080/",
          "height": 423
        },
        "id": "bwMhR2V6Mghx",
        "outputId": "9e810759-5588-424b-c330-f6ba7d39752c"
      },
      "execution_count": 72,
      "outputs": [
        {
          "output_type": "execute_result",
          "data": {
            "text/plain": [
              "         weaks       Расходы\n",
              "0   2013-01-06  6.461538e+07\n",
              "1   2013-01-13  7.000000e+07\n",
              "2   2013-01-20  7.538462e+07\n",
              "3   2013-01-27  8.076923e+07\n",
              "4   2013-02-03  8.615385e+07\n",
              "..         ...           ...\n",
              "464 2021-11-28  1.915962e+09\n",
              "465 2021-12-05  1.697885e+09\n",
              "466 2021-12-12  1.713462e+09\n",
              "467 2021-12-19  1.729038e+09\n",
              "468 2021-12-26  1.744615e+09\n",
              "\n",
              "[469 rows x 2 columns]"
            ],
            "text/html": [
              "\n",
              "  <div id=\"df-99155e09-a0f0-4573-a54f-b75efe969347\">\n",
              "    <div class=\"colab-df-container\">\n",
              "      <div>\n",
              "<style scoped>\n",
              "    .dataframe tbody tr th:only-of-type {\n",
              "        vertical-align: middle;\n",
              "    }\n",
              "\n",
              "    .dataframe tbody tr th {\n",
              "        vertical-align: top;\n",
              "    }\n",
              "\n",
              "    .dataframe thead th {\n",
              "        text-align: right;\n",
              "    }\n",
              "</style>\n",
              "<table border=\"1\" class=\"dataframe\">\n",
              "  <thead>\n",
              "    <tr style=\"text-align: right;\">\n",
              "      <th></th>\n",
              "      <th>weaks</th>\n",
              "      <th>Расходы</th>\n",
              "    </tr>\n",
              "  </thead>\n",
              "  <tbody>\n",
              "    <tr>\n",
              "      <th>0</th>\n",
              "      <td>2013-01-06</td>\n",
              "      <td>6.461538e+07</td>\n",
              "    </tr>\n",
              "    <tr>\n",
              "      <th>1</th>\n",
              "      <td>2013-01-13</td>\n",
              "      <td>7.000000e+07</td>\n",
              "    </tr>\n",
              "    <tr>\n",
              "      <th>2</th>\n",
              "      <td>2013-01-20</td>\n",
              "      <td>7.538462e+07</td>\n",
              "    </tr>\n",
              "    <tr>\n",
              "      <th>3</th>\n",
              "      <td>2013-01-27</td>\n",
              "      <td>8.076923e+07</td>\n",
              "    </tr>\n",
              "    <tr>\n",
              "      <th>4</th>\n",
              "      <td>2013-02-03</td>\n",
              "      <td>8.615385e+07</td>\n",
              "    </tr>\n",
              "    <tr>\n",
              "      <th>...</th>\n",
              "      <td>...</td>\n",
              "      <td>...</td>\n",
              "    </tr>\n",
              "    <tr>\n",
              "      <th>464</th>\n",
              "      <td>2021-11-28</td>\n",
              "      <td>1.915962e+09</td>\n",
              "    </tr>\n",
              "    <tr>\n",
              "      <th>465</th>\n",
              "      <td>2021-12-05</td>\n",
              "      <td>1.697885e+09</td>\n",
              "    </tr>\n",
              "    <tr>\n",
              "      <th>466</th>\n",
              "      <td>2021-12-12</td>\n",
              "      <td>1.713462e+09</td>\n",
              "    </tr>\n",
              "    <tr>\n",
              "      <th>467</th>\n",
              "      <td>2021-12-19</td>\n",
              "      <td>1.729038e+09</td>\n",
              "    </tr>\n",
              "    <tr>\n",
              "      <th>468</th>\n",
              "      <td>2021-12-26</td>\n",
              "      <td>1.744615e+09</td>\n",
              "    </tr>\n",
              "  </tbody>\n",
              "</table>\n",
              "<p>469 rows × 2 columns</p>\n",
              "</div>\n",
              "      <button class=\"colab-df-convert\" onclick=\"convertToInteractive('df-99155e09-a0f0-4573-a54f-b75efe969347')\"\n",
              "              title=\"Convert this dataframe to an interactive table.\"\n",
              "              style=\"display:none;\">\n",
              "        \n",
              "  <svg xmlns=\"http://www.w3.org/2000/svg\" height=\"24px\"viewBox=\"0 0 24 24\"\n",
              "       width=\"24px\">\n",
              "    <path d=\"M0 0h24v24H0V0z\" fill=\"none\"/>\n",
              "    <path d=\"M18.56 5.44l.94 2.06.94-2.06 2.06-.94-2.06-.94-.94-2.06-.94 2.06-2.06.94zm-11 1L8.5 8.5l.94-2.06 2.06-.94-2.06-.94L8.5 2.5l-.94 2.06-2.06.94zm10 10l.94 2.06.94-2.06 2.06-.94-2.06-.94-.94-2.06-.94 2.06-2.06.94z\"/><path d=\"M17.41 7.96l-1.37-1.37c-.4-.4-.92-.59-1.43-.59-.52 0-1.04.2-1.43.59L10.3 9.45l-7.72 7.72c-.78.78-.78 2.05 0 2.83L4 21.41c.39.39.9.59 1.41.59.51 0 1.02-.2 1.41-.59l7.78-7.78 2.81-2.81c.8-.78.8-2.07 0-2.86zM5.41 20L4 18.59l7.72-7.72 1.47 1.35L5.41 20z\"/>\n",
              "  </svg>\n",
              "      </button>\n",
              "      \n",
              "  <style>\n",
              "    .colab-df-container {\n",
              "      display:flex;\n",
              "      flex-wrap:wrap;\n",
              "      gap: 12px;\n",
              "    }\n",
              "\n",
              "    .colab-df-convert {\n",
              "      background-color: #E8F0FE;\n",
              "      border: none;\n",
              "      border-radius: 50%;\n",
              "      cursor: pointer;\n",
              "      display: none;\n",
              "      fill: #1967D2;\n",
              "      height: 32px;\n",
              "      padding: 0 0 0 0;\n",
              "      width: 32px;\n",
              "    }\n",
              "\n",
              "    .colab-df-convert:hover {\n",
              "      background-color: #E2EBFA;\n",
              "      box-shadow: 0px 1px 2px rgba(60, 64, 67, 0.3), 0px 1px 3px 1px rgba(60, 64, 67, 0.15);\n",
              "      fill: #174EA6;\n",
              "    }\n",
              "\n",
              "    [theme=dark] .colab-df-convert {\n",
              "      background-color: #3B4455;\n",
              "      fill: #D2E3FC;\n",
              "    }\n",
              "\n",
              "    [theme=dark] .colab-df-convert:hover {\n",
              "      background-color: #434B5C;\n",
              "      box-shadow: 0px 1px 3px 1px rgba(0, 0, 0, 0.15);\n",
              "      filter: drop-shadow(0px 1px 2px rgba(0, 0, 0, 0.3));\n",
              "      fill: #FFFFFF;\n",
              "    }\n",
              "  </style>\n",
              "\n",
              "      <script>\n",
              "        const buttonEl =\n",
              "          document.querySelector('#df-99155e09-a0f0-4573-a54f-b75efe969347 button.colab-df-convert');\n",
              "        buttonEl.style.display =\n",
              "          google.colab.kernel.accessAllowed ? 'block' : 'none';\n",
              "\n",
              "        async function convertToInteractive(key) {\n",
              "          const element = document.querySelector('#df-99155e09-a0f0-4573-a54f-b75efe969347');\n",
              "          const dataTable =\n",
              "            await google.colab.kernel.invokeFunction('convertToInteractive',\n",
              "                                                     [key], {});\n",
              "          if (!dataTable) return;\n",
              "\n",
              "          const docLinkHtml = 'Like what you see? Visit the ' +\n",
              "            '<a target=\"_blank\" href=https://colab.research.google.com/notebooks/data_table.ipynb>data table notebook</a>'\n",
              "            + ' to learn more about interactive tables.';\n",
              "          element.innerHTML = '';\n",
              "          dataTable['output_type'] = 'display_data';\n",
              "          await google.colab.output.renderOutput(dataTable, element);\n",
              "          const docLink = document.createElement('div');\n",
              "          docLink.innerHTML = docLinkHtml;\n",
              "          element.appendChild(docLink);\n",
              "        }\n",
              "      </script>\n",
              "    </div>\n",
              "  </div>\n",
              "  "
            ]
          },
          "metadata": {},
          "execution_count": 72
        }
      ]
    },
    {
      "cell_type": "code",
      "source": [
        "n = []\n",
        "for i in df1['Расходы']:\n",
        "    t = round(i)\n",
        "    n.append(t)\n",
        "len(n)"
      ],
      "metadata": {
        "colab": {
          "base_uri": "https://localhost:8080/"
        },
        "id": "Sz99H2EUM0bI",
        "outputId": "77b837fd-929f-4814-e340-e735cd2b9596"
      },
      "execution_count": 73,
      "outputs": [
        {
          "output_type": "execute_result",
          "data": {
            "text/plain": [
              "469"
            ]
          },
          "metadata": {},
          "execution_count": 73
        }
      ]
    },
    {
      "cell_type": "code",
      "source": [
        "df1['Расходы'] = n\n",
        "df1"
      ],
      "metadata": {
        "colab": {
          "base_uri": "https://localhost:8080/",
          "height": 423
        },
        "id": "DmvXVrpZM9mQ",
        "outputId": "e5590f3e-26ae-4f85-9724-90490136a816"
      },
      "execution_count": 74,
      "outputs": [
        {
          "output_type": "execute_result",
          "data": {
            "text/plain": [
              "         weaks     Расходы\n",
              "0   2013-01-06    64615385\n",
              "1   2013-01-13    70000000\n",
              "2   2013-01-20    75384615\n",
              "3   2013-01-27    80769231\n",
              "4   2013-02-03    86153846\n",
              "..         ...         ...\n",
              "464 2021-11-28  1915961539\n",
              "465 2021-12-05  1697884616\n",
              "466 2021-12-12  1713461539\n",
              "467 2021-12-19  1729038462\n",
              "468 2021-12-26  1744615385\n",
              "\n",
              "[469 rows x 2 columns]"
            ],
            "text/html": [
              "\n",
              "  <div id=\"df-0f40a84b-55c3-43d4-b556-1e5476f8a63a\">\n",
              "    <div class=\"colab-df-container\">\n",
              "      <div>\n",
              "<style scoped>\n",
              "    .dataframe tbody tr th:only-of-type {\n",
              "        vertical-align: middle;\n",
              "    }\n",
              "\n",
              "    .dataframe tbody tr th {\n",
              "        vertical-align: top;\n",
              "    }\n",
              "\n",
              "    .dataframe thead th {\n",
              "        text-align: right;\n",
              "    }\n",
              "</style>\n",
              "<table border=\"1\" class=\"dataframe\">\n",
              "  <thead>\n",
              "    <tr style=\"text-align: right;\">\n",
              "      <th></th>\n",
              "      <th>weaks</th>\n",
              "      <th>Расходы</th>\n",
              "    </tr>\n",
              "  </thead>\n",
              "  <tbody>\n",
              "    <tr>\n",
              "      <th>0</th>\n",
              "      <td>2013-01-06</td>\n",
              "      <td>64615385</td>\n",
              "    </tr>\n",
              "    <tr>\n",
              "      <th>1</th>\n",
              "      <td>2013-01-13</td>\n",
              "      <td>70000000</td>\n",
              "    </tr>\n",
              "    <tr>\n",
              "      <th>2</th>\n",
              "      <td>2013-01-20</td>\n",
              "      <td>75384615</td>\n",
              "    </tr>\n",
              "    <tr>\n",
              "      <th>3</th>\n",
              "      <td>2013-01-27</td>\n",
              "      <td>80769231</td>\n",
              "    </tr>\n",
              "    <tr>\n",
              "      <th>4</th>\n",
              "      <td>2013-02-03</td>\n",
              "      <td>86153846</td>\n",
              "    </tr>\n",
              "    <tr>\n",
              "      <th>...</th>\n",
              "      <td>...</td>\n",
              "      <td>...</td>\n",
              "    </tr>\n",
              "    <tr>\n",
              "      <th>464</th>\n",
              "      <td>2021-11-28</td>\n",
              "      <td>1915961539</td>\n",
              "    </tr>\n",
              "    <tr>\n",
              "      <th>465</th>\n",
              "      <td>2021-12-05</td>\n",
              "      <td>1697884616</td>\n",
              "    </tr>\n",
              "    <tr>\n",
              "      <th>466</th>\n",
              "      <td>2021-12-12</td>\n",
              "      <td>1713461539</td>\n",
              "    </tr>\n",
              "    <tr>\n",
              "      <th>467</th>\n",
              "      <td>2021-12-19</td>\n",
              "      <td>1729038462</td>\n",
              "    </tr>\n",
              "    <tr>\n",
              "      <th>468</th>\n",
              "      <td>2021-12-26</td>\n",
              "      <td>1744615385</td>\n",
              "    </tr>\n",
              "  </tbody>\n",
              "</table>\n",
              "<p>469 rows × 2 columns</p>\n",
              "</div>\n",
              "      <button class=\"colab-df-convert\" onclick=\"convertToInteractive('df-0f40a84b-55c3-43d4-b556-1e5476f8a63a')\"\n",
              "              title=\"Convert this dataframe to an interactive table.\"\n",
              "              style=\"display:none;\">\n",
              "        \n",
              "  <svg xmlns=\"http://www.w3.org/2000/svg\" height=\"24px\"viewBox=\"0 0 24 24\"\n",
              "       width=\"24px\">\n",
              "    <path d=\"M0 0h24v24H0V0z\" fill=\"none\"/>\n",
              "    <path d=\"M18.56 5.44l.94 2.06.94-2.06 2.06-.94-2.06-.94-.94-2.06-.94 2.06-2.06.94zm-11 1L8.5 8.5l.94-2.06 2.06-.94-2.06-.94L8.5 2.5l-.94 2.06-2.06.94zm10 10l.94 2.06.94-2.06 2.06-.94-2.06-.94-.94-2.06-.94 2.06-2.06.94z\"/><path d=\"M17.41 7.96l-1.37-1.37c-.4-.4-.92-.59-1.43-.59-.52 0-1.04.2-1.43.59L10.3 9.45l-7.72 7.72c-.78.78-.78 2.05 0 2.83L4 21.41c.39.39.9.59 1.41.59.51 0 1.02-.2 1.41-.59l7.78-7.78 2.81-2.81c.8-.78.8-2.07 0-2.86zM5.41 20L4 18.59l7.72-7.72 1.47 1.35L5.41 20z\"/>\n",
              "  </svg>\n",
              "      </button>\n",
              "      \n",
              "  <style>\n",
              "    .colab-df-container {\n",
              "      display:flex;\n",
              "      flex-wrap:wrap;\n",
              "      gap: 12px;\n",
              "    }\n",
              "\n",
              "    .colab-df-convert {\n",
              "      background-color: #E8F0FE;\n",
              "      border: none;\n",
              "      border-radius: 50%;\n",
              "      cursor: pointer;\n",
              "      display: none;\n",
              "      fill: #1967D2;\n",
              "      height: 32px;\n",
              "      padding: 0 0 0 0;\n",
              "      width: 32px;\n",
              "    }\n",
              "\n",
              "    .colab-df-convert:hover {\n",
              "      background-color: #E2EBFA;\n",
              "      box-shadow: 0px 1px 2px rgba(60, 64, 67, 0.3), 0px 1px 3px 1px rgba(60, 64, 67, 0.15);\n",
              "      fill: #174EA6;\n",
              "    }\n",
              "\n",
              "    [theme=dark] .colab-df-convert {\n",
              "      background-color: #3B4455;\n",
              "      fill: #D2E3FC;\n",
              "    }\n",
              "\n",
              "    [theme=dark] .colab-df-convert:hover {\n",
              "      background-color: #434B5C;\n",
              "      box-shadow: 0px 1px 3px 1px rgba(0, 0, 0, 0.15);\n",
              "      filter: drop-shadow(0px 1px 2px rgba(0, 0, 0, 0.3));\n",
              "      fill: #FFFFFF;\n",
              "    }\n",
              "  </style>\n",
              "\n",
              "      <script>\n",
              "        const buttonEl =\n",
              "          document.querySelector('#df-0f40a84b-55c3-43d4-b556-1e5476f8a63a button.colab-df-convert');\n",
              "        buttonEl.style.display =\n",
              "          google.colab.kernel.accessAllowed ? 'block' : 'none';\n",
              "\n",
              "        async function convertToInteractive(key) {\n",
              "          const element = document.querySelector('#df-0f40a84b-55c3-43d4-b556-1e5476f8a63a');\n",
              "          const dataTable =\n",
              "            await google.colab.kernel.invokeFunction('convertToInteractive',\n",
              "                                                     [key], {});\n",
              "          if (!dataTable) return;\n",
              "\n",
              "          const docLinkHtml = 'Like what you see? Visit the ' +\n",
              "            '<a target=\"_blank\" href=https://colab.research.google.com/notebooks/data_table.ipynb>data table notebook</a>'\n",
              "            + ' to learn more about interactive tables.';\n",
              "          element.innerHTML = '';\n",
              "          dataTable['output_type'] = 'display_data';\n",
              "          await google.colab.output.renderOutput(dataTable, element);\n",
              "          const docLink = document.createElement('div');\n",
              "          docLink.innerHTML = docLinkHtml;\n",
              "          element.appendChild(docLink);\n",
              "        }\n",
              "      </script>\n",
              "    </div>\n",
              "  </div>\n",
              "  "
            ]
          },
          "metadata": {},
          "execution_count": 74
        }
      ]
    },
    {
      "cell_type": "code",
      "source": [
        "import matplotlib.pyplot as plt"
      ],
      "metadata": {
        "id": "KnSyk8bINV15"
      },
      "execution_count": 75,
      "outputs": []
    },
    {
      "cell_type": "code",
      "source": [
        "plt.plot(df1['weaks'], df1['Расходы'],\n",
        "         label = 'выручка')"
      ],
      "metadata": {
        "id": "i5J_CVghThka",
        "colab": {
          "base_uri": "https://localhost:8080/",
          "height": 463
        },
        "outputId": "3d459b23-2e13-41fd-8c5b-cdcf37308d0b"
      },
      "execution_count": 76,
      "outputs": [
        {
          "output_type": "execute_result",
          "data": {
            "text/plain": [
              "[<matplotlib.lines.Line2D at 0x7f50f7899120>]"
            ]
          },
          "metadata": {},
          "execution_count": 76
        },
        {
          "output_type": "display_data",
          "data": {
            "text/plain": [
              "<Figure size 640x480 with 1 Axes>"
            ],
            "image/png": "[encoded data removed]"
          },
          "metadata": {}
        }
      ]
    },
    {
      "cell_type": "code",
      "source": [
        "z=0\n",
        "w13=[]\n",
        "w14=[]\n",
        "w15=[]\n",
        "w16=[]\n",
        "w17=[]\n",
        "w18=[]\n",
        "w19=[]\n",
        "w20=[]\n",
        "w21=[]\n",
        "for i in df1['Расходы']:\n",
        "  if z<=7 or 46<z<51:\n",
        "    w13.append(i)\n",
        "  elif 51<z<=59 or 99<z<=103:\n",
        "    w14.append(i)\n",
        "  elif 103<z<=111 or 151<z<=155:\n",
        "    w15.append(i)\n",
        "  elif 155<z<=164 or 203<z<207:\n",
        "    w16.append(i) \n",
        "  elif 207<z<=216 or 255<z<259:  \n",
        "    w17.append(i)\n",
        "  elif 260<z<=268 or 307<z<312: \n",
        "    w18.append(i)\n",
        "  elif 312<z<=320 or 359<z<364: \n",
        "    w19.append(i)\n",
        "  elif 364<z<=372 or 412<z<=416:\n",
        "    w20.append(i) \n",
        "  elif 416<z<425 or z> 464:\n",
        "    w21.append(i) \n",
        "  z+=1   \n",
        "\n"
      ],
      "metadata": {
        "id": "QXoSfy3o25zz"
      },
      "execution_count": 77,
      "outputs": []
    },
    {
      "cell_type": "code",
      "source": [
        "x=list(range(12))\n",
        "y1=w13\n",
        "y2=w14\n",
        "y3=w15\n",
        "y4=w16\n",
        "y5=w17\n",
        "y6=w18\n",
        "y7=w19\n",
        "y8=w20\n",
        "y9=w21\n",
        "plt.plot(x,y1,label='2013')\n",
        "plt.plot(x,y2,label='2014')\n",
        "plt.plot(x,y3,label='2015')\n",
        "plt.plot(x,y4,label='2016')\n",
        "plt.plot(x,y5,label='2017')\n",
        "plt.plot(x,y6,label='2018')\n",
        "plt.plot(x,y7,label='2019')\n",
        "plt.plot(x,y8,label='2020')\n",
        "plt.plot(x,y9,label='2021')\n",
        "plt.legend()\n",
        "plt.title('winter')\n",
        "plt.show()"
      ],
      "metadata": {
        "colab": {
          "base_uri": "https://localhost:8080/",
          "height": 452
        },
        "id": "fMur5PbuGe4m",
        "outputId": "430627e0-a610-472a-decd-7208c33f4105"
      },
      "execution_count": 78,
      "outputs": [
        {
          "output_type": "display_data",
          "data": {
            "text/plain": [
              "<Figure size 640x480 with 1 Axes>"
            ],
            "image/png": "[encoded data removed]"
          },
          "metadata": {}
        }
      ]
    },
    {
      "cell_type": "code",
      "source": [
        "z=0\n",
        "s13=[]\n",
        "s14=[]\n",
        "s15=[]\n",
        "s16=[]\n",
        "s17=[]\n",
        "s18=[]\n",
        "s19=[]\n",
        "s20=[]\n",
        "s21=[]\n",
        "for i in df1['Расходы']:\n",
        "  if 7 <z<=20:\n",
        "    s13.append(i)\n",
        "  elif 59<z<=72:\n",
        "    s14.append(i)\n",
        "  elif 111<z<125: \n",
        "    s15.append(i)\n",
        "  elif 164<z<=177:\n",
        "    s16.append(i)\n",
        "  elif 216<z<=229:\n",
        "    s17.append(i)\n",
        "  elif 268<z<=281:\n",
        "    s18.append(i)\n",
        "  elif 320<z<=333:\n",
        "    s19.append(i)\n",
        "  elif 372<z<386:\n",
        "    s20.append(i)\n",
        "  elif 425<z<=438:\n",
        "    s21.append(i)   \n",
        "  z+=1"
      ],
      "metadata": {
        "id": "Ei7MWtcAIZfW"
      },
      "execution_count": 79,
      "outputs": []
    },
    {
      "cell_type": "code",
      "source": [
        "x=list(range(13))\n",
        "y1=s13\n",
        "y2=s14\n",
        "y3=s15\n",
        "y4=s16\n",
        "y5=s17\n",
        "y6=s18\n",
        "y7=s19\n",
        "y8=s20\n",
        "y9=s21\n",
        "plt.plot(x,y1,label='2013')\n",
        "plt.plot(x,y2,label='2014')\n",
        "plt.plot(x,y3,label='2015')\n",
        "plt.plot(x,y4,label='2016')\n",
        "plt.plot(x,y5,label='2017')\n",
        "plt.plot(x,y6,label='2018')\n",
        "plt.plot(x,y7,label='2019')\n",
        "plt.plot(x,y8,label='2020')\n",
        "plt.plot(x,y9,label='2021')\n",
        "plt.legend()\n",
        "plt.title('spring')\n",
        "plt.show()"
      ],
      "metadata": {
        "colab": {
          "base_uri": "https://localhost:8080/",
          "height": 452
        },
        "id": "gul0Ld4IJ4Hw",
        "outputId": "bf3a395e-9b9d-43ac-e60d-b0fd396cf45c"
      },
      "execution_count": 80,
      "outputs": [
        {
          "output_type": "display_data",
          "data": {
            "text/plain": [
              "<Figure size 640x480 with 1 Axes>"
            ],
            "image/png": "[encoded data removed]"
          },
          "metadata": {}
        }
      ]
    },
    {
      "cell_type": "code",
      "source": [
        "z=0\n",
        "sr13=[]\n",
        "sr14=[]\n",
        "sr15=[]\n",
        "sr16=[]\n",
        "sr17=[]\n",
        "sr18=[]\n",
        "sr19=[]\n",
        "sr20=[]\n",
        "sr21=[]\n",
        "for i in df1['Расходы']:\n",
        "  if 20 <z<=33:\n",
        "    sr13.append(i)\n",
        "  elif 72 <z<86:\n",
        "    sr14.append(i)\n",
        "  elif 125 <z<=138:\n",
        "    sr15.append(i)\n",
        "  elif 177 <z<=190:\n",
        "    sr16.append(i)\n",
        "  elif 229 <z<=242:\n",
        "    sr17.append(i)\n",
        "  elif 281 <z<=294:\n",
        "    sr18.append(i)\n",
        "  elif 333 <z<=346:\n",
        "    sr19.append(i)\n",
        "  elif 386 <z<=399:\n",
        "    sr20.append(i)\n",
        "  elif 438 <z<=451:\n",
        "    sr21.append(i)\n",
        "  z+=1\n"
      ],
      "metadata": {
        "id": "OhyRm0MKKl54"
      },
      "execution_count": 81,
      "outputs": []
    },
    {
      "cell_type": "code",
      "source": [
        "x=list(range(13))\n",
        "y1=sr13\n",
        "y2=sr14\n",
        "y3=sr15\n",
        "y4=sr16\n",
        "y5=sr17\n",
        "y6=sr18\n",
        "y7=sr19\n",
        "y8=sr20\n",
        "y9=sr21\n",
        "plt.plot(x,y1,label='2013')\n",
        "plt.plot(x,y2,label='2014')\n",
        "plt.plot(x,y3,label='2015')\n",
        "plt.plot(x,y4,label='2016')\n",
        "plt.plot(x,y5,label='2017')\n",
        "plt.plot(x,y6,label='2018')\n",
        "plt.plot(x,y7,label='2019')\n",
        "plt.plot(x,y8,label='2020')\n",
        "plt.plot(x,y9,label='2021')\n",
        "plt.legend()\n",
        "plt.title('summer')\n",
        "plt.show()"
      ],
      "metadata": {
        "colab": {
          "base_uri": "https://localhost:8080/",
          "height": 452
        },
        "id": "nDlszjfXMRAl",
        "outputId": "85a7869f-7eae-4af1-a6c1-076a5af8a2f2"
      },
      "execution_count": 82,
      "outputs": [
        {
          "output_type": "display_data",
          "data": {
            "text/plain": [
              "<Figure size 640x480 with 1 Axes>"
            ],
            "image/png": "[encoded data removed]"
          },
          "metadata": {}
        }
      ]
    },
    {
      "cell_type": "code",
      "source": [
        "z=0\n",
        "a13=[]\n",
        "a14=[]\n",
        "a15=[]\n",
        "a16=[]\n",
        "a17=[]\n",
        "a18=[]\n",
        "a19=[]\n",
        "a20=[]\n",
        "a21=[]\n",
        "for i in df1['Расходы']:\n",
        "  if 33 <z<=46:\n",
        "    a13.append(i)\n",
        "  elif 86 <z<=99:\n",
        "    a14.append(i)\n",
        "  elif 138 <z<=151:\n",
        "    a15.append(i)\n",
        "  elif 190 <z<=203:\n",
        "    a16.append(i)\n",
        "  elif 242 <z<=255:\n",
        "    a17.append(i)\n",
        "  elif 294 <z<=307:\n",
        "    a18.append(i)\n",
        "  elif 346 <z<=359:\n",
        "    a19.append(i)\n",
        "  elif 399 <z<=412:\n",
        "    a20.append(i)\n",
        "  elif 451 <z<=464:\n",
        "    a21.append(i)\n",
        "  z+=1"
      ],
      "metadata": {
        "id": "JOzME7pZMcHd"
      },
      "execution_count": 83,
      "outputs": []
    },
    {
      "cell_type": "code",
      "source": [
        "x=list(range(13))\n",
        "y1=a13\n",
        "y2=a14\n",
        "y3=a15\n",
        "y4=a16\n",
        "y5=a17\n",
        "y6=a18\n",
        "y7=a19\n",
        "y8=a20\n",
        "y9=a21\n",
        "plt.plot(x,y1,label='2013')\n",
        "plt.plot(x,y2,label='2014')\n",
        "plt.plot(x,y3,label='2015')\n",
        "plt.plot(x,y4,label='2016')\n",
        "plt.plot(x,y5,label='2017')\n",
        "plt.plot(x,y6,label='2018')\n",
        "plt.plot(x,y7,label='2019')\n",
        "plt.plot(x,y8,label='2020')\n",
        "plt.plot(x,y9,label='2021')\n",
        "plt.legend()\n",
        "plt.title('autumn')\n",
        "plt.show()"
      ],
      "metadata": {
        "colab": {
          "base_uri": "https://localhost:8080/",
          "height": 452
        },
        "id": "X-j5jprqNbQ9",
        "outputId": "d24ebdbe-9047-4e01-e818-c8e25e2ae323"
      },
      "execution_count": 84,
      "outputs": [
        {
          "output_type": "display_data",
          "data": {
            "text/plain": [
              "<Figure size 640x480 with 1 Axes>"
            ],
            "image/png": "[encoded data removed]"
          },
          "metadata": {}
        }
      ]
    },
    {
      "cell_type": "code",
      "source": [
        "df1.to_csv('Расходы.csv', index = False)"
      ],
      "metadata": {
        "id": "RGtEKNB3iGEK"
      },
      "execution_count": 85,
      "outputs": []
    },
    {
      "cell_type": "code",
      "source": [
        "df1 = pd.read_csv('Расходы.csv', index_col = 'weaks', parse_dates = True)\n",
        "df1"
      ],
      "metadata": {
        "colab": {
          "base_uri": "https://localhost:8080/",
          "height": 455
        },
        "id": "YiXmTzxEhTUT",
        "outputId": "8cd5a9d3-0477-47e1-8627-13e5b7266911"
      },
      "execution_count": 86,
      "outputs": [
        {
          "output_type": "execute_result",
          "data": {
            "text/plain": [
              "               Расходы\n",
              "weaks                 \n",
              "2013-01-06    64615385\n",
              "2013-01-13    70000000\n",
              "2013-01-20    75384615\n",
              "2013-01-27    80769231\n",
              "2013-02-03    86153846\n",
              "...                ...\n",
              "2021-11-28  1915961539\n",
              "2021-12-05  1697884616\n",
              "2021-12-12  1713461539\n",
              "2021-12-19  1729038462\n",
              "2021-12-26  1744615385\n",
              "\n",
              "[469 rows x 1 columns]"
            ],
            "text/html": [
              "\n",
              "  <div id=\"df-07c4ac41-c5b7-4434-bd8b-4d3bfe4ce55f\">\n",
              "    <div class=\"colab-df-container\">\n",
              "      <div>\n",
              "<style scoped>\n",
              "    .dataframe tbody tr th:only-of-type {\n",
              "        vertical-align: middle;\n",
              "    }\n",
              "\n",
              "    .dataframe tbody tr th {\n",
              "        vertical-align: top;\n",
              "    }\n",
              "\n",
              "    .dataframe thead th {\n",
              "        text-align: right;\n",
              "    }\n",
              "</style>\n",
              "<table border=\"1\" class=\"dataframe\">\n",
              "  <thead>\n",
              "    <tr style=\"text-align: right;\">\n",
              "      <th></th>\n",
              "      <th>Расходы</th>\n",
              "    </tr>\n",
              "    <tr>\n",
              "      <th>weaks</th>\n",
              "      <th></th>\n",
              "    </tr>\n",
              "  </thead>\n",
              "  <tbody>\n",
              "    <tr>\n",
              "      <th>2013-01-06</th>\n",
              "      <td>64615385</td>\n",
              "    </tr>\n",
              "    <tr>\n",
              "      <th>2013-01-13</th>\n",
              "      <td>70000000</td>\n",
              "    </tr>\n",
              "    <tr>\n",
              "      <th>2013-01-20</th>\n",
              "      <td>75384615</td>\n",
              "    </tr>\n",
              "    <tr>\n",
              "      <th>2013-01-27</th>\n",
              "      <td>80769231</td>\n",
              "    </tr>\n",
              "    <tr>\n",
              "      <th>2013-02-03</th>\n",
              "      <td>86153846</td>\n",
              "    </tr>\n",
              "    <tr>\n",
              "      <th>...</th>\n",
              "      <td>...</td>\n",
              "    </tr>\n",
              "    <tr>\n",
              "      <th>2021-11-28</th>\n",
              "      <td>1915961539</td>\n",
              "    </tr>\n",
              "    <tr>\n",
              "      <th>2021-12-05</th>\n",
              "      <td>1697884616</td>\n",
              "    </tr>\n",
              "    <tr>\n",
              "      <th>2021-12-12</th>\n",
              "      <td>1713461539</td>\n",
              "    </tr>\n",
              "    <tr>\n",
              "      <th>2021-12-19</th>\n",
              "      <td>1729038462</td>\n",
              "    </tr>\n",
              "    <tr>\n",
              "      <th>2021-12-26</th>\n",
              "      <td>1744615385</td>\n",
              "    </tr>\n",
              "  </tbody>\n",
              "</table>\n",
              "<p>469 rows × 1 columns</p>\n",
              "</div>\n",
              "      <button class=\"colab-df-convert\" onclick=\"convertToInteractive('df-07c4ac41-c5b7-4434-bd8b-4d3bfe4ce55f')\"\n",
              "              title=\"Convert this dataframe to an interactive table.\"\n",
              "              style=\"display:none;\">\n",
              "        \n",
              "  <svg xmlns=\"http://www.w3.org/2000/svg\" height=\"24px\"viewBox=\"0 0 24 24\"\n",
              "       width=\"24px\">\n",
              "    <path d=\"M0 0h24v24H0V0z\" fill=\"none\"/>\n",
              "    <path d=\"M18.56 5.44l.94 2.06.94-2.06 2.06-.94-2.06-.94-.94-2.06-.94 2.06-2.06.94zm-11 1L8.5 8.5l.94-2.06 2.06-.94-2.06-.94L8.5 2.5l-.94 2.06-2.06.94zm10 10l.94 2.06.94-2.06 2.06-.94-2.06-.94-.94-2.06-.94 2.06-2.06.94z\"/><path d=\"M17.41 7.96l-1.37-1.37c-.4-.4-.92-.59-1.43-.59-.52 0-1.04.2-1.43.59L10.3 9.45l-7.72 7.72c-.78.78-.78 2.05 0 2.83L4 21.41c.39.39.9.59 1.41.59.51 0 1.02-.2 1.41-.59l7.78-7.78 2.81-2.81c.8-.78.8-2.07 0-2.86zM5.41 20L4 18.59l7.72-7.72 1.47 1.35L5.41 20z\"/>\n",
              "  </svg>\n",
              "      </button>\n",
              "      \n",
              "  <style>\n",
              "    .colab-df-container {\n",
              "      display:flex;\n",
              "      flex-wrap:wrap;\n",
              "      gap: 12px;\n",
              "    }\n",
              "\n",
              "    .colab-df-convert {\n",
              "      background-color: #E8F0FE;\n",
              "      border: none;\n",
              "      border-radius: 50%;\n",
              "      cursor: pointer;\n",
              "      display: none;\n",
              "      fill: #1967D2;\n",
              "      height: 32px;\n",
              "      padding: 0 0 0 0;\n",
              "      width: 32px;\n",
              "    }\n",
              "\n",
              "    .colab-df-convert:hover {\n",
              "      background-color: #E2EBFA;\n",
              "      box-shadow: 0px 1px 2px rgba(60, 64, 67, 0.3), 0px 1px 3px 1px rgba(60, 64, 67, 0.15);\n",
              "      fill: #174EA6;\n",
              "    }\n",
              "\n",
              "    [theme=dark] .colab-df-convert {\n",
              "      background-color: #3B4455;\n",
              "      fill: #D2E3FC;\n",
              "    }\n",
              "\n",
              "    [theme=dark] .colab-df-convert:hover {\n",
              "      background-color: #434B5C;\n",
              "      box-shadow: 0px 1px 3px 1px rgba(0, 0, 0, 0.15);\n",
              "      filter: drop-shadow(0px 1px 2px rgba(0, 0, 0, 0.3));\n",
              "      fill: #FFFFFF;\n",
              "    }\n",
              "  </style>\n",
              "\n",
              "      <script>\n",
              "        const buttonEl =\n",
              "          document.querySelector('#df-07c4ac41-c5b7-4434-bd8b-4d3bfe4ce55f button.colab-df-convert');\n",
              "        buttonEl.style.display =\n",
              "          google.colab.kernel.accessAllowed ? 'block' : 'none';\n",
              "\n",
              "        async function convertToInteractive(key) {\n",
              "          const element = document.querySelector('#df-07c4ac41-c5b7-4434-bd8b-4d3bfe4ce55f');\n",
              "          const dataTable =\n",
              "            await google.colab.kernel.invokeFunction('convertToInteractive',\n",
              "                                                     [key], {});\n",
              "          if (!dataTable) return;\n",
              "\n",
              "          const docLinkHtml = 'Like what you see? Visit the ' +\n",
              "            '<a target=\"_blank\" href=https://colab.research.google.com/notebooks/data_table.ipynb>data table notebook</a>'\n",
              "            + ' to learn more about interactive tables.';\n",
              "          element.innerHTML = '';\n",
              "          dataTable['output_type'] = 'display_data';\n",
              "          await google.colab.output.renderOutput(dataTable, element);\n",
              "          const docLink = document.createElement('div');\n",
              "          docLink.innerHTML = docLinkHtml;\n",
              "          element.appendChild(docLink);\n",
              "        }\n",
              "      </script>\n",
              "    </div>\n",
              "  </div>\n",
              "  "
            ]
          },
          "metadata": {},
          "execution_count": 86
        }
      ]
    },
    {
      "cell_type": "code",
      "source": [
        "!pip install pmdarima\n",
        "from pmdarima.arima import auto_arima"
      ],
      "metadata": {
        "id": "szsVqaq4P5KE",
        "colab": {
          "base_uri": "https://localhost:8080/"
        },
        "outputId": "56c08e1e-3029-4de7-f434-1e8056b0937e"
      },
      "execution_count": 87,
      "outputs": [
        {
          "output_type": "stream",
          "name": "stdout",
          "text": [
            "Looking in indexes: https://pypi.org/simple, https://us-python.pkg.dev/colab-wheels/public/simple/\n",
            "Collecting pmdarima\n",
            "  Downloading pmdarima-2.0.3-cp310-cp310-manylinux_2_17_x86_64.manylinux2014_x86_64.manylinux_2_28_x86_64.whl (1.8 MB)\n",
            "\u001b[2K     \u001b[90m━━━━━━━━━━━━━━━━━━━━━━━━━━━━━━━━━━━━━━━━\u001b[0m \u001b[32m1.8/1.8 MB\u001b[0m \u001b[31m59.6 MB/s\u001b[0m eta \u001b[36m0:00:00\u001b[0m\n",
            "\u001b[?25hRequirement already satisfied: joblib>=0.11 in /usr/local/lib/python3.10/dist-packages (from pmdarima) (1.2.0)\n",
            "Requirement already satisfied: Cython!=0.29.18,!=0.29.31,>=0.29 in /usr/local/lib/python3.10/dist-packages (from pmdarima) (0.29.34)\n",
            "Requirement already satisfied: numpy>=1.21.2 in /usr/local/lib/python3.10/dist-packages (from pmdarima) (1.22.4)\n",
            "Requirement already satisfied: pandas>=0.19 in /usr/local/lib/python3.10/dist-packages (from pmdarima) (1.5.3)\n",
            "Requirement already satisfied: scikit-learn>=0.22 in /usr/local/lib/python3.10/dist-packages (from pmdarima) (1.2.2)\n",
            "Requirement already satisfied: scipy>=1.3.2 in /usr/local/lib/python3.10/dist-packages (from pmdarima) (1.10.1)\n",
            "Requirement already satisfied: statsmodels>=0.13.2 in /usr/local/lib/python3.10/dist-packages (from pmdarima) (0.13.5)\n",
            "Requirement already satisfied: urllib3 in /usr/local/lib/python3.10/dist-packages (from pmdarima) (1.26.15)\n",
            "Requirement already satisfied: setuptools!=50.0.0,>=38.6.0 in /usr/local/lib/python3.10/dist-packages (from pmdarima) (67.7.2)\n",
            "Requirement already satisfied: python-dateutil>=2.8.1 in /usr/local/lib/python3.10/dist-packages (from pandas>=0.19->pmdarima) (2.8.2)\n",
            "Requirement already satisfied: pytz>=2020.1 in /usr/local/lib/python3.10/dist-packages (from pandas>=0.19->pmdarima) (2022.7.1)\n",
            "Requirement already satisfied: threadpoolctl>=2.0.0 in /usr/local/lib/python3.10/dist-packages (from scikit-learn>=0.22->pmdarima) (3.1.0)\n",
            "Requirement already satisfied: patsy>=0.5.2 in /usr/local/lib/python3.10/dist-packages (from statsmodels>=0.13.2->pmdarima) (0.5.3)\n",
            "Requirement already satisfied: packaging>=21.3 in /usr/local/lib/python3.10/dist-packages (from statsmodels>=0.13.2->pmdarima) (23.1)\n",
            "Requirement already satisfied: six in /usr/local/lib/python3.10/dist-packages (from patsy>=0.5.2->statsmodels>=0.13.2->pmdarima) (1.16.0)\n",
            "Installing collected packages: pmdarima\n",
            "Successfully installed pmdarima-2.0.3\n"
          ]
        }
      ]
    },
    {
      "cell_type": "code",
      "source": [
        "train_size = int(len(df1) * 0.8)\n",
        "train, test = df1[0:train_size], df1[train_size:len(df1)]\n",
        "\n",
        "print(\"Train Shape:\", train.shape)\n",
        "print(\"Test Shape:\", test.shape)"
      ],
      "metadata": {
        "colab": {
          "base_uri": "https://localhost:8080/"
        },
        "id": "LbzfG4SEkRD6",
        "outputId": "0bdb0606-08db-4edd-ceb7-e3eb0d528d41"
      },
      "execution_count": 88,
      "outputs": [
        {
          "output_type": "stream",
          "name": "stdout",
          "text": [
            "Train Shape: (375, 1)\n",
            "Test Shape: (94, 1)\n"
          ]
        }
      ]
    },
    {
      "cell_type": "code",
      "source": [
        "model = auto_arima(train, seasonal=True, m=108, trace=True)"
      ],
      "metadata": {
        "colab": {
          "base_uri": "https://localhost:8080/"
        },
        "id": "1wjQCscNfrrs",
        "outputId": "cb10d9f4-ce02-4c50-9e19-95b55bc8e64f"
      },
      "execution_count": 89,
      "outputs": [
        {
          "output_type": "stream",
          "name": "stdout",
          "text": [
            "Performing stepwise search to minimize aic\n",
            " ARIMA(2,1,2)(1,0,1)[108] intercept   : AIC=15253.720, Time=35.24 sec\n",
            " ARIMA(0,1,0)(0,0,0)[108] intercept   : AIC=15245.909, Time=0.05 sec\n",
            " ARIMA(1,1,0)(1,0,0)[108] intercept   : AIC=15245.792, Time=8.28 sec\n",
            " ARIMA(0,1,1)(0,0,1)[108] intercept   : AIC=15245.771, Time=4.84 sec\n",
            " ARIMA(0,1,0)(0,0,0)[108]             : AIC=15243.910, Time=0.04 sec\n",
            " ARIMA(0,1,0)(1,0,0)[108] intercept   : AIC=15247.503, Time=3.14 sec\n",
            " ARIMA(0,1,0)(0,0,1)[108] intercept   : AIC=15247.502, Time=3.48 sec\n",
            " ARIMA(0,1,0)(1,0,1)[108] intercept   : AIC=15249.505, Time=5.42 sec\n",
            " ARIMA(1,1,0)(0,0,0)[108] intercept   : AIC=15244.249, Time=0.04 sec\n",
            " ARIMA(0,1,1)(0,0,0)[108] intercept   : AIC=15244.212, Time=0.06 sec\n",
            " ARIMA(1,1,1)(0,0,0)[108] intercept   : AIC=15246.212, Time=0.12 sec\n",
            "\n",
            "Best model:  ARIMA(0,1,0)(0,0,0)[108]          \n",
            "Total fit time: 60.884 seconds\n"
          ]
        }
      ]
    },
    {
      "cell_type": "code",
      "source": [
        "model = ARIMA(train, order=(0, 1, 0), seasonal_order=(0, 0, 0, 108)).fit()\n",
        "# print(model.summary())\n",
        "forecast = model.forecast(steps=94)\n",
        "forecast"
      ],
      "metadata": {
        "colab": {
          "base_uri": "https://localhost:8080/"
        },
        "id": "Qs9clF2KdfMT",
        "outputId": "b9677f62-0185-406a-b633-6065b20ffb56"
      },
      "execution_count": 90,
      "outputs": [
        {
          "output_type": "stream",
          "name": "stderr",
          "text": [
            "/usr/local/lib/python3.10/dist-packages/statsmodels/tsa/base/tsa_model.py:471: ValueWarning: No frequency information was provided, so inferred frequency W-SUN will be used.\n",
            "  self._init_dates(dates, freq)\n",
            "/usr/local/lib/python3.10/dist-packages/statsmodels/tsa/base/tsa_model.py:471: ValueWarning: No frequency information was provided, so inferred frequency W-SUN will be used.\n",
            "  self._init_dates(dates, freq)\n",
            "/usr/local/lib/python3.10/dist-packages/statsmodels/tsa/base/tsa_model.py:471: ValueWarning: No frequency information was provided, so inferred frequency W-SUN will be used.\n",
            "  self._init_dates(dates, freq)\n"
          ]
        },
        {
          "output_type": "execute_result",
          "data": {
            "text/plain": [
              "2020-03-15    107692308.0\n",
              "2020-03-22    107692308.0\n",
              "2020-03-29    107692308.0\n",
              "2020-04-05    107692308.0\n",
              "2020-04-12    107692308.0\n",
              "                 ...     \n",
              "2021-11-28    107692308.0\n",
              "2021-12-05    107692308.0\n",
              "2021-12-12    107692308.0\n",
              "2021-12-19    107692308.0\n",
              "2021-12-26    107692308.0\n",
              "Freq: W-SUN, Name: predicted_mean, Length: 94, dtype: float64"
            ]
          },
          "metadata": {},
          "execution_count": 90
        }
      ]
    },
    {
      "cell_type": "code",
      "source": [
        "len(forecast)"
      ],
      "metadata": {
        "colab": {
          "base_uri": "https://localhost:8080/"
        },
        "id": "ZqsCDMkhjLE6",
        "outputId": "2d28e34b-4977-4a3a-8330-7e0fd3c12923"
      },
      "execution_count": 91,
      "outputs": [
        {
          "output_type": "execute_result",
          "data": {
            "text/plain": [
              "94"
            ]
          },
          "metadata": {},
          "execution_count": 91
        }
      ]
    },
    {
      "cell_type": "code",
      "source": [
        "plt.figure(figsize=(10,6))\n",
        "plt.plot(train, label='Train')\n",
        "plt.plot(test, label='Test')\n",
        "plt.plot(forecast, label='forecast')\n",
        "plt.legend(loc='best')\n",
        "plt.show()"
      ],
      "metadata": {
        "colab": {
          "base_uri": "https://localhost:8080/",
          "height": 537
        },
        "id": "G79ZE0SyjPbB",
        "outputId": "52b478b5-caa1-435b-c218-aa14c22b19f1"
      },
      "execution_count": 92,
      "outputs": [
        {
          "output_type": "display_data",
          "data": {
            "text/plain": [
              "<Figure size 1000x600 with 1 Axes>"
            ],
            "image/png": "[encoded data removed]"
          },
          "metadata": {}
        }
      ]
    },
    {
      "cell_type": "code",
      "source": [
        "from sklearn.metrics import mean_absolute_error\n",
        "from sklearn.metrics import mean_squared_error\n",
        "from sklearn.metrics import mean_absolute_percentage_error"
      ],
      "metadata": {
        "id": "B9AZBJ1VHWE0"
      },
      "execution_count": 93,
      "outputs": []
    },
    {
      "cell_type": "code",
      "source": [],
      "metadata": {
        "id": "nxkpPhc0QD4h"
      },
      "execution_count": 93,
      "outputs": []
    },
    {
      "cell_type": "code",
      "source": [
        "from statsmodels.tsa.api import ExponentialSmoothing, SimpleExpSmoothing, Holt"
      ],
      "metadata": {
        "id": "UKjWc6DzHJNY"
      },
      "execution_count": 94,
      "outputs": []
    },
    {
      "cell_type": "code",
      "source": [
        "model = ExponentialSmoothing(train,trend='add', seasonal='add', seasonal_periods=108)\n",
        "model_fit = model.fit()\n",
        "pred=model_fit.forecast(steps=94)"
      ],
      "metadata": {
        "colab": {
          "base_uri": "https://localhost:8080/"
        },
        "id": "Va67M5HTHKFM",
        "outputId": "7024f922-081e-445d-b43f-6a9c29b75523"
      },
      "execution_count": 95,
      "outputs": [
        {
          "output_type": "stream",
          "name": "stderr",
          "text": [
            "/usr/local/lib/python3.10/dist-packages/statsmodels/tsa/base/tsa_model.py:471: ValueWarning: No frequency information was provided, so inferred frequency W-SUN will be used.\n",
            "  self._init_dates(dates, freq)\n",
            "/usr/local/lib/python3.10/dist-packages/statsmodels/tsa/holtwinters/model.py:915: ConvergenceWarning: Optimization failed to converge. Check mle_retvals.\n",
            "  warnings.warn(\n"
          ]
        }
      ]
    },
    {
      "cell_type": "code",
      "source": [
        "mae1 = mean_absolute_error(test, pred)\n",
        "print(\"Mean Absolute Error (MAE):\", mae1)"
      ],
      "metadata": {
        "colab": {
          "base_uri": "https://localhost:8080/"
        },
        "id": "gMOPCTd-HSB1",
        "outputId": "bf122b23-5132-4f9f-c412-4abce65e923e"
      },
      "execution_count": 96,
      "outputs": [
        {
          "output_type": "stream",
          "name": "stdout",
          "text": [
            "Mean Absolute Error (MAE): 830857717.9959586\n"
          ]
        }
      ]
    },
    {
      "cell_type": "code",
      "source": [
        "mse1=mean_squared_error(test, pred)\n",
        "mse1"
      ],
      "metadata": {
        "colab": {
          "base_uri": "https://localhost:8080/"
        },
        "id": "FeQm2KOKHcc8",
        "outputId": "b599e672-01d7-48c5-8e2d-717c1c8996c9"
      },
      "execution_count": 97,
      "outputs": [
        {
          "output_type": "execute_result",
          "data": {
            "text/plain": [
              "7.540987891318839e+17"
            ]
          },
          "metadata": {},
          "execution_count": 97
        }
      ]
    },
    {
      "cell_type": "code",
      "source": [
        "mape1=mean_absolute_percentage_error(test, pred)\n",
        "mape1"
      ],
      "metadata": {
        "colab": {
          "base_uri": "https://localhost:8080/"
        },
        "id": "gvthVp2mHeec",
        "outputId": "94626762-941b-4401-9ef8-17bc4a14a505"
      },
      "execution_count": 98,
      "outputs": [
        {
          "output_type": "execute_result",
          "data": {
            "text/plain": [
              "3.2417885302571103"
            ]
          },
          "metadata": {},
          "execution_count": 98
        }
      ]
    },
    {
      "cell_type": "code",
      "source": [
        "plt.figure(figsize =(12,10)) \n",
        "plt.plot(df1['Расходы'], color='green')   \n",
        "plt.plot(pred, color = 'red') \n",
        "plt.xlabel(\"DATE\")  \n",
        "plt.ylabel(\"REVENUE\")\n"
      ],
      "metadata": {
        "colab": {
          "base_uri": "https://localhost:8080/",
          "height": 883
        },
        "id": "CRUqDHf7HoUr",
        "outputId": "ae8709db-bb4c-4450-c394-cd4efc58e85a"
      },
      "execution_count": 99,
      "outputs": [
        {
          "output_type": "execute_result",
          "data": {
            "text/plain": [
              "Text(0, 0.5, 'REVENUE')"
            ]
          },
          "metadata": {},
          "execution_count": 99
        },
        {
          "output_type": "display_data",
          "data": {
            "text/plain": [
              "<Figure size 1200x1000 with 1 Axes>"
            ],
            "image/png": "[encoded data removed]"
          },
          "metadata": {}
        }
      ]
    },
    {
      "cell_type": "code",
      "source": [
        "from statsmodels.tsa.statespace.sarimax import SARIMAX \n",
        "model = SARIMAX(train, order=(1, 0, 1), seasonal_order=(1, 1, 0, 108)) \n",
        " \n",
        "model_fit = model.fit() \n",
        " \n",
        "forecast = model_fit.forecast(len(test))"
      ],
      "metadata": {
        "colab": {
          "base_uri": "https://localhost:8080/"
        },
        "id": "WQ8Epw3DPhZo",
        "outputId": "3d66d7a5-15ca-44db-a3ec-1c6de4e3fa95"
      },
      "execution_count": 100,
      "outputs": [
        {
          "output_type": "stream",
          "name": "stderr",
          "text": [
            "/usr/local/lib/python3.10/dist-packages/statsmodels/tsa/base/tsa_model.py:471: ValueWarning: No frequency information was provided, so inferred frequency W-SUN will be used.\n",
            "  self._init_dates(dates, freq)\n",
            "/usr/local/lib/python3.10/dist-packages/statsmodels/tsa/base/tsa_model.py:471: ValueWarning: No frequency information was provided, so inferred frequency W-SUN will be used.\n",
            "  self._init_dates(dates, freq)\n"
          ]
        }
      ]
    },
    {
      "cell_type": "code",
      "source": [
        "plt.figure(figsize =(12,10)) \n",
        "plt.plot(df1['Расходы'], color='green')   \n",
        "plt.plot(forecast, color = 'red') \n",
        "plt.xlabel(\"DATE\")  \n",
        "plt.ylabel(\"Расходы\")"
      ],
      "metadata": {
        "colab": {
          "base_uri": "https://localhost:8080/",
          "height": 883
        },
        "id": "gc9U5N5WQFH4",
        "outputId": "06a07132-bd68-4ab4-8a4a-8d97226ba764"
      },
      "execution_count": 101,
      "outputs": [
        {
          "output_type": "execute_result",
          "data": {
            "text/plain": [
              "Text(0, 0.5, 'Расходы')"
            ]
          },
          "metadata": {},
          "execution_count": 101
        },
        {
          "output_type": "display_data",
          "data": {
            "text/plain": [
              "<Figure size 1200x1000 with 1 Axes>"
            ],
            "image/png": "[encoded data removed]"
          },
          "metadata": {}
        }
      ]
    },
    {
      "cell_type": "code",
      "source": [
        "mae1 = mean_absolute_error(test, forecast)\n",
        "print(\"Mean Absolute Error (MAE):\", mae1)"
      ],
      "metadata": {
        "colab": {
          "base_uri": "https://localhost:8080/"
        },
        "id": "6MVVTmB2UAS8",
        "outputId": "76daf579-a0d7-40d4-d050-72eabdd81820"
      },
      "execution_count": 102,
      "outputs": [
        {
          "output_type": "stream",
          "name": "stdout",
          "text": [
            "Mean Absolute Error (MAE): 652673235.4530323\n"
          ]
        }
      ]
    },
    {
      "cell_type": "code",
      "source": [
        "mse1=mean_squared_error(test, forecast)\n",
        "mse1"
      ],
      "metadata": {
        "colab": {
          "base_uri": "https://localhost:8080/"
        },
        "id": "pKM3ose3UDdJ",
        "outputId": "315b58a9-511c-4d92-804d-248342b48f7f"
      },
      "execution_count": 103,
      "outputs": [
        {
          "output_type": "execute_result",
          "data": {
            "text/plain": [
              "6.800945138556052e+17"
            ]
          },
          "metadata": {},
          "execution_count": 103
        }
      ]
    },
    {
      "cell_type": "code",
      "source": [
        "mape1=mean_absolute_percentage_error(test, forecast)\n",
        "mape1"
      ],
      "metadata": {
        "colab": {
          "base_uri": "https://localhost:8080/"
        },
        "id": "deKfFQOjUHbC",
        "outputId": "5c570ea7-69e9-47a5-fc39-8a8ced5fe072"
      },
      "execution_count": 104,
      "outputs": [
        {
          "output_type": "execute_result",
          "data": {
            "text/plain": [
              "3.6154999034873985"
            ]
          },
          "metadata": {},
          "execution_count": 104
        }
      ]
    }
  ]
}